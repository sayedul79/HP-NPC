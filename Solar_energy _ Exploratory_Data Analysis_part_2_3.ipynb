{
 "cells": [
  {
   "cell_type": "markdown",
   "metadata": {},
   "source": [
    "# Solar energy - Exploratory Data Analysis - part 2-3\n",
    "---\n",
    "\n",
    "## Introduction\n",
    "\n",
    "This dataset contains hourly estimates of an area's energy potential for 1986-2015 as a percentage of a power plant's maximum output.\n",
    "\n",
    "In the [previous part](), we've made clusters of countries with similar profiles of solar generation. In this 2nd part we're going to analyse and explore datas for one country representative of each cluster. As a reminder, here are what those 6 clusters made of :\n",
    "- cluster nb : 0 CY IE NO SE\n",
    "- cluster nb : 1 AT CH CZ HR HU IT SI SK\n",
    "- cluster nb : 2 BE DE DK FR LU NL UK  \n",
    "- cluster nb : 3 EE FI LT LV PL\n",
    "- cluster nb : 4 BG EL RO \n",
    "- cluster nb : 5 ES PT\n",
    "\n",
    "## Goals\n",
    "\n",
    "- Assess the impact of meteorological and climate variability on the generation of solar power in Europe.\n",
    "- Understand how the datas are structured\n",
    "- Determine how clean is the dataset? Older solar estimates used to contain impossible values around sunset (ie more energy than the sun releases) or negative sunlight.\n",
    "- Show what does a typical year look like? One common approach is to stitch together 12 months of raw data, using the 12 most typical months per this ISO standard.\n",
    "\n",
    "## First look\n",
    "\n",
    "Let's see the first rows of our data set :"
   ]
  },
  {
   "cell_type": "code",
   "execution_count": 1,
   "metadata": {},
   "outputs": [
    {
     "data": {
      "text/html": [
       "<div>\n",
       "<style scoped>\n",
       "    .dataframe tbody tr th:only-of-type {\n",
       "        vertical-align: middle;\n",
       "    }\n",
       "\n",
       "    .dataframe tbody tr th {\n",
       "        vertical-align: top;\n",
       "    }\n",
       "\n",
       "    .dataframe thead th {\n",
       "        text-align: right;\n",
       "    }\n",
       "</style>\n",
       "<table border=\"1\" class=\"dataframe\">\n",
       "  <thead>\n",
       "    <tr style=\"text-align: right;\">\n",
       "      <th></th>\n",
       "      <th>AT</th>\n",
       "      <th>BE</th>\n",
       "      <th>BG</th>\n",
       "      <th>CH</th>\n",
       "      <th>CY</th>\n",
       "      <th>CZ</th>\n",
       "      <th>DE</th>\n",
       "      <th>DK</th>\n",
       "      <th>EE</th>\n",
       "      <th>ES</th>\n",
       "      <th>FI</th>\n",
       "      <th>FR</th>\n",
       "      <th>EL</th>\n",
       "      <th>HR</th>\n",
       "      <th>HU</th>\n",
       "      <th>IE</th>\n",
       "      <th>IT</th>\n",
       "      <th>LT</th>\n",
       "      <th>LU</th>\n",
       "      <th>LV</th>\n",
       "      <th>NL</th>\n",
       "      <th>NO</th>\n",
       "      <th>PL</th>\n",
       "      <th>PT</th>\n",
       "      <th>RO</th>\n",
       "      <th>SI</th>\n",
       "      <th>SK</th>\n",
       "      <th>SE</th>\n",
       "      <th>UK</th>\n",
       "    </tr>\n",
       "  </thead>\n",
       "  <tbody>\n",
       "    <tr>\n",
       "      <th>0</th>\n",
       "      <td>0.0</td>\n",
       "      <td>0.0</td>\n",
       "      <td>0.0</td>\n",
       "      <td>0.0</td>\n",
       "      <td>0</td>\n",
       "      <td>0.0</td>\n",
       "      <td>0.0</td>\n",
       "      <td>0.0</td>\n",
       "      <td>0.0</td>\n",
       "      <td>0.0</td>\n",
       "      <td>0.0</td>\n",
       "      <td>0.0</td>\n",
       "      <td>0.0</td>\n",
       "      <td>0.0</td>\n",
       "      <td>0.0</td>\n",
       "      <td>0.0</td>\n",
       "      <td>0.0</td>\n",
       "      <td>0.0</td>\n",
       "      <td>0.0</td>\n",
       "      <td>0.0</td>\n",
       "      <td>0.0</td>\n",
       "      <td>0.0</td>\n",
       "      <td>0.0</td>\n",
       "      <td>0.0</td>\n",
       "      <td>0.0</td>\n",
       "      <td>0.0</td>\n",
       "      <td>0.0</td>\n",
       "      <td>0.0</td>\n",
       "      <td>0.0</td>\n",
       "    </tr>\n",
       "    <tr>\n",
       "      <th>1</th>\n",
       "      <td>0.0</td>\n",
       "      <td>0.0</td>\n",
       "      <td>0.0</td>\n",
       "      <td>0.0</td>\n",
       "      <td>0</td>\n",
       "      <td>0.0</td>\n",
       "      <td>0.0</td>\n",
       "      <td>0.0</td>\n",
       "      <td>0.0</td>\n",
       "      <td>0.0</td>\n",
       "      <td>0.0</td>\n",
       "      <td>0.0</td>\n",
       "      <td>0.0</td>\n",
       "      <td>0.0</td>\n",
       "      <td>0.0</td>\n",
       "      <td>0.0</td>\n",
       "      <td>0.0</td>\n",
       "      <td>0.0</td>\n",
       "      <td>0.0</td>\n",
       "      <td>0.0</td>\n",
       "      <td>0.0</td>\n",
       "      <td>0.0</td>\n",
       "      <td>0.0</td>\n",
       "      <td>0.0</td>\n",
       "      <td>0.0</td>\n",
       "      <td>0.0</td>\n",
       "      <td>0.0</td>\n",
       "      <td>0.0</td>\n",
       "      <td>0.0</td>\n",
       "    </tr>\n",
       "  </tbody>\n",
       "</table>\n",
       "</div>"
      ],
      "text/plain": [
       "    AT   BE   BG   CH  CY   CZ   DE   DK   EE   ES   FI   FR   EL   HR   HU  \\\n",
       "0  0.0  0.0  0.0  0.0   0  0.0  0.0  0.0  0.0  0.0  0.0  0.0  0.0  0.0  0.0   \n",
       "1  0.0  0.0  0.0  0.0   0  0.0  0.0  0.0  0.0  0.0  0.0  0.0  0.0  0.0  0.0   \n",
       "\n",
       "    IE   IT   LT   LU   LV   NL   NO   PL   PT   RO   SI   SK   SE   UK  \n",
       "0  0.0  0.0  0.0  0.0  0.0  0.0  0.0  0.0  0.0  0.0  0.0  0.0  0.0  0.0  \n",
       "1  0.0  0.0  0.0  0.0  0.0  0.0  0.0  0.0  0.0  0.0  0.0  0.0  0.0  0.0  "
      ]
     },
     "execution_count": 1,
     "metadata": {},
     "output_type": "execute_result"
    }
   ],
   "source": [
    "import numpy as np\n",
    "import pandas as pd\n",
    "from scipy import stats\n",
    "import seaborn as sns\n",
    "import matplotlib.pyplot as plt\n",
    "\n",
    "pd.options.display.max_columns = 300\n",
    "\n",
    "import warnings\n",
    "warnings.filterwarnings(\"ignore\")\n",
    "\n",
    "df_solar_co = pd.read_csv(\"Music/EMHIRESPV_TSh_CF_Country_19862015.csv\")\n",
    "df_solar_co.head(2)"
   ]
  },
  {
   "cell_type": "code",
   "execution_count": 2,
   "metadata": {},
   "outputs": [
    {
     "data": {
      "text/plain": [
       "(262968, 29)"
      ]
     },
     "execution_count": 2,
     "metadata": {},
     "output_type": "execute_result"
    }
   ],
   "source": [
    "df_solar_co.shape"
   ]
  },
  {
   "cell_type": "code",
   "execution_count": 3,
   "metadata": {},
   "outputs": [
    {
     "data": {
      "text/plain": [
       "AT    0\n",
       "BE    0\n",
       "BG    0\n",
       "CH    0\n",
       "CY    0\n",
       "CZ    0\n",
       "DE    0\n",
       "DK    0\n",
       "EE    0\n",
       "ES    0\n",
       "FI    0\n",
       "FR    0\n",
       "EL    0\n",
       "HR    0\n",
       "HU    0\n",
       "IE    0\n",
       "IT    0\n",
       "LT    0\n",
       "LU    0\n",
       "LV    0\n",
       "NL    0\n",
       "NO    0\n",
       "PL    0\n",
       "PT    0\n",
       "RO    0\n",
       "SI    0\n",
       "SK    0\n",
       "SE    0\n",
       "UK    0\n",
       "dtype: int64"
      ]
     },
     "execution_count": 3,
     "metadata": {},
     "output_type": "execute_result"
    }
   ],
   "source": [
    "df_solar_co.isnull().sum()"
   ]
  },
  {
   "cell_type": "markdown",
   "metadata": {},
   "source": [
    "We keep only one country of each cluster, and take a look a the end of the data set :"
   ]
  },
  {
   "cell_type": "code",
   "execution_count": 4,
   "metadata": {},
   "outputs": [
    {
     "data": {
      "text/html": [
       "<div>\n",
       "<style scoped>\n",
       "    .dataframe tbody tr th:only-of-type {\n",
       "        vertical-align: middle;\n",
       "    }\n",
       "\n",
       "    .dataframe tbody tr th {\n",
       "        vertical-align: top;\n",
       "    }\n",
       "\n",
       "    .dataframe thead th {\n",
       "        text-align: right;\n",
       "    }\n",
       "</style>\n",
       "<table border=\"1\" class=\"dataframe\">\n",
       "  <thead>\n",
       "    <tr style=\"text-align: right;\">\n",
       "      <th></th>\n",
       "      <th>NO</th>\n",
       "      <th>AT</th>\n",
       "      <th>FR</th>\n",
       "      <th>FI</th>\n",
       "      <th>RO</th>\n",
       "      <th>ES</th>\n",
       "    </tr>\n",
       "  </thead>\n",
       "  <tbody>\n",
       "    <tr>\n",
       "      <th>262966</th>\n",
       "      <td>0.0</td>\n",
       "      <td>0.0</td>\n",
       "      <td>0.0</td>\n",
       "      <td>0.0</td>\n",
       "      <td>0.0</td>\n",
       "      <td>0.0</td>\n",
       "    </tr>\n",
       "    <tr>\n",
       "      <th>262967</th>\n",
       "      <td>0.0</td>\n",
       "      <td>0.0</td>\n",
       "      <td>0.0</td>\n",
       "      <td>0.0</td>\n",
       "      <td>0.0</td>\n",
       "      <td>0.0</td>\n",
       "    </tr>\n",
       "  </tbody>\n",
       "</table>\n",
       "</div>"
      ],
      "text/plain": [
       "         NO   AT   FR   FI   RO   ES\n",
       "262966  0.0  0.0  0.0  0.0  0.0  0.0\n",
       "262967  0.0  0.0  0.0  0.0  0.0  0.0"
      ]
     },
     "execution_count": 4,
     "metadata": {},
     "output_type": "execute_result"
    }
   ],
   "source": [
    "df_solar_co = df_solar_co[['NO', 'AT', 'FR', 'FI', 'RO', 'ES']]\n",
    "df_solar_co.tail(2)"
   ]
  },
  {
   "cell_type": "markdown",
   "metadata": {},
   "source": [
    "## Data cleaning and preparation\n",
    "\n",
    "Until now we've consider that all datas are clean and \"normal\", but is it really the case ? We can easily verify that values are indeed between 0 and 1 :"
   ]
  },
  {
   "cell_type": "code",
   "execution_count": 5,
   "metadata": {},
   "outputs": [
    {
     "name": "stdout",
     "output_type": "stream",
     "text": [
      "Number of negative values :\n"
     ]
    },
    {
     "data": {
      "text/plain": [
       "NO    0\n",
       "AT    0\n",
       "FR    0\n",
       "FI    0\n",
       "RO    0\n",
       "ES    0\n",
       "dtype: int64"
      ]
     },
     "execution_count": 5,
     "metadata": {},
     "output_type": "execute_result"
    }
   ],
   "source": [
    "print(\"Number of negative values :\")\n",
    "(df_solar_co[['NO', 'AT', 'FR', 'FI', 'RO', 'ES']] < 0).sum()"
   ]
  },
  {
   "cell_type": "code",
   "execution_count": 6,
   "metadata": {},
   "outputs": [
    {
     "name": "stdout",
     "output_type": "stream",
     "text": [
      "Number of values greater than 1 :\n"
     ]
    },
    {
     "data": {
      "text/plain": [
       "NO    0\n",
       "AT    0\n",
       "FR    0\n",
       "FI    0\n",
       "RO    0\n",
       "ES    0\n",
       "dtype: int64"
      ]
     },
     "execution_count": 6,
     "metadata": {},
     "output_type": "execute_result"
    }
   ],
   "source": [
    "print(\"Number of values greater than 1 :\")\n",
    "(df_solar_co[['NO', 'AT', 'FR', 'FI', 'RO', 'ES']] > 1).sum()"
   ]
  },
  {
   "cell_type": "markdown",
   "metadata": {},
   "source": [
    "Now, we have to add date time informations in order to use the data :"
   ]
  },
  {
   "cell_type": "code",
   "execution_count": null,
   "metadata": {},
   "outputs": [],
   "source": [
    "def add_time(_df):\n",
    "    \"Returns a DF with two new cols : the time and hour of the day\"\n",
    "    t = pd.date_range(start='1/1/1986', periods=df_solar_co.shape[0], freq = 'H')\n",
    "    t = pd.DataFrame(t)\n",
    "    _df = pd.concat([_df, t], axis=1)\n",
    "    _df.rename(columns={ _df.columns[-1]: \"time\" }, inplace = True)\n",
    "    _df['hour'] = _df['time'].dt.hour\n",
    "    _df['month'] = _df['time'].dt.month\n",
    "    _df['week'] = _df['time'].dt.week\n",
    "    return _df\n",
    "\n",
    "df_solar_co = add_time(df_solar_co)\n",
    "df_solar_co.tail(2)"
   ]
  },
  {
   "cell_type": "markdown",
   "metadata": {},
   "source": [
    "---\n",
    "# Data Analysis"
   ]
  },
  {
   "cell_type": "markdown",
   "metadata": {},
   "source": [
    "## Considering night and day\n",
    "\n",
    "Obviously there is no generation of energy during the night :) But first we're goint to take a look at the distribution of the values of solar efficiency during different spans of time and generally. Let's begin with the last day of the records :"
   ]
  },
  {
   "cell_type": "code",
   "execution_count": null,
   "metadata": {},
   "outputs": [],
   "source": [
    "def plot_hourly(df, title):\n",
    "    plt.figure(figsize=(12, 6))\n",
    "    for c in df.columns:\n",
    "        if c != 'hour':\n",
    "            sns.lineplot(x=\"hour\", y=c, data=df, label=c)\n",
    "            #plt.legend(c)\n",
    "    plt.title(title)\n",
    "    plt.show()\n",
    "    \n",
    "plot_hourly(df_solar_co[df_solar_co.columns.difference(['time', 'month', 'week'])][-24:], \"Efficiency of solar stations per country during the last 24 hours\")"
   ]
  },
  {
   "cell_type": "markdown",
   "metadata": {},
   "source": [
    "Values are normally distributed : the plot looks like a typical Gaussian distribution. The maximum efficiency during the day may vary among countries. Further more, there is an offset along the horizontal axis. This can be explain by the differnet longitude, the sun don't appear at the same hour depending on countries. Those observations can also be seen if we plot the means of those value during the hours of the day :"
   ]
  },
  {
   "cell_type": "code",
   "execution_count": null,
   "metadata": {},
   "outputs": [],
   "source": [
    "plot_hourly(df_solar_co[df_solar_co.columns.difference(['time', 'month', 'week'])], \"Mean solar efficiency per country during the day\")"
   ]
  },
  {
   "cell_type": "markdown",
   "metadata": {},
   "source": [
    "Now let's look at a statistical distribution of the station's efficiencies for non null values (ie during the day), we can see that there are still many values (see the spike) around zero :"
   ]
  },
  {
   "cell_type": "code",
   "execution_count": null,
   "metadata": {},
   "outputs": [],
   "source": [
    "temp_df = df_solar_co[df_solar_co.columns.difference(['time', 'hour', 'month', 'week'])]\n",
    "plt.figure(figsize=(12, 6))\n",
    "for col in temp_df.columns:\n",
    "    sns.distplot(temp_df[temp_df[col] != 0][col], label=col, hist=False)\n",
    "plt.title(\"Distribution of the station's efficiency for non null values (ie during the day)\")"
   ]
  },
  {
   "cell_type": "markdown",
   "metadata": {},
   "source": [
    "What about the evolution during the recorded years ? For each year there are a spike : "
   ]
  },
  {
   "cell_type": "code",
   "execution_count": null,
   "metadata": {},
   "outputs": [],
   "source": [
    "plt.figure(figsize=(12, 6))\n",
    "sns.lineplot(x = df_solar_co.time, y = df_solar_co['FR'])"
   ]
  },
  {
   "cell_type": "markdown",
   "metadata": {},
   "source": [
    "In order to understand more accurately this phenomenon, let's plot the mean values per month. As we can see, solar efficiency is better during the summer (which can be easily understood) : :"
   ]
  },
  {
   "cell_type": "code",
   "execution_count": null,
   "metadata": {},
   "outputs": [],
   "source": [
    "countries = ['NO', 'AT', 'FR', 'FI', 'RO', 'ES']\n",
    "\n",
    "plt.figure(figsize=(12, 6))\n",
    "for c in countries:\n",
    "    temp_df = df_solar_co[[c, 'month']]\n",
    "    sns.lineplot(x=temp_df[\"month\"], y=temp_df[c], label=c)\n",
    "    \n",
    "plt.xlabel(\"Month of year\")\n",
    "plt.ylabel(\"Efficiency\") \n",
    "plt.title(\"Efficiency across the months per country\")"
   ]
  },
  {
   "cell_type": "markdown",
   "metadata": {},
   "source": [
    "We can observe the same thing, with means on a week basis, there is finally no real variations :"
   ]
  },
  {
   "cell_type": "code",
   "execution_count": null,
   "metadata": {},
   "outputs": [],
   "source": [
    "plt.figure(figsize=(12, 6))\n",
    "for c in countries:\n",
    "    temp_df = df_solar_co[[c, 'week']]\n",
    "    sns.lineplot(x=temp_df[\"week\"], y=temp_df[c], label=c)\n",
    "    \n",
    "plt.xlabel(\"Week of year\")\n",
    "plt.ylabel(\"Efficiency\") \n",
    "plt.title(\"Efficiency across the weeks per country\")"
   ]
  },
  {
   "cell_type": "markdown",
   "metadata": {},
   "source": [
    "We create a temporary dataframe with the year, in order to see the variation of the mean solar efficiency accross 30 years. As you can see, the solar generation is quite the same years after years :"
   ]
  },
  {
   "cell_type": "code",
   "execution_count": null,
   "metadata": {},
   "outputs": [],
   "source": [
    "temp_df = df_solar_co.copy()\n",
    "temp_df['year'] = temp_df['time'].dt.year\n",
    "\n",
    "\n",
    "plt.figure(figsize=(12, 6))\n",
    "for c in countries:\n",
    "    temp_df_ = temp_df[[c, 'year']]\n",
    "    sns.lineplot(x=temp_df_[\"year\"], y=temp_df_[c], label=c)\n",
    "    \n",
    "plt.xlabel(\"Year\")\n",
    "plt.ylabel(\"Efficiency\") \n",
    "plt.title(\"Efficiency across the years per country\")"
   ]
  },
  {
   "cell_type": "markdown",
   "metadata": {},
   "source": [
    "### Considering ONLY values between 5 AM & 10 PM\n",
    "\n",
    "We're going to take an other look at the distribution of the values but this same considering only during the sunlight hours of the day. Let's begin with a summary of the statistics :"
   ]
  },
  {
   "cell_type": "code",
   "execution_count": null,
   "metadata": {},
   "outputs": [],
   "source": [
    "temp_df = df_solar_co[(5 < df_solar_co.hour) & (df_solar_co.hour < 22)]\n",
    "temp_df = temp_df.drop(columns=['time', 'hour', 'month', 'week'])\n",
    "temp_df.describe()"
   ]
  },
  {
   "cell_type": "markdown",
   "metadata": {},
   "source": [
    "Then, we can plot the values of the 3rd quartile (splits off the highest 25% of data from the lowest 75%) for each country :"
   ]
  },
  {
   "cell_type": "code",
   "execution_count": null,
   "metadata": {},
   "outputs": [],
   "source": [
    "def plot_by_country(_df, title, nb_col):\n",
    "    _df = _df.describe().iloc[nb_col, :]\n",
    "    plt.figure(figsize=(10, 6))\n",
    "    sns.barplot(x=_df.index, y=_df.values)\n",
    "    plt.title(title)\n",
    "\n",
    "#plot_by_country(\"Mean efficiency by country\", 1)\n",
    "plot_by_country(temp_df, \"75% efficiency by country\", 6)"
   ]
  },
  {
   "cell_type": "markdown",
   "metadata": {},
   "source": [
    "An other way to look at the distribution can be achieved with violin plots (a method of plotting numeric data. It is similar to a box plot, with the addition of a rotated kernel density plot on each side) :"
   ]
  },
  {
   "cell_type": "code",
   "execution_count": null,
   "metadata": {},
   "outputs": [],
   "source": [
    "# credits : https://stackoverflow.com/questions/49554139/boxplot-of-multiple-columns-of-a-pandas-dataframe-on-the-same-figure-seaborn\n",
    "# This works because pd.melt converts a wide-form dataframe\n",
    "plt.figure(figsize=(10, 6))\n",
    "sns.violinplot(x=\"variable\", y=\"value\", data=pd.melt(temp_df))"
   ]
  },
  {
   "cell_type": "markdown",
   "metadata": {},
   "source": [
    "Just for fun, we can also use box plot as previously mentionned (In descriptive statistics, a box plot or boxplot is a method for graphically depicting groups of numerical data through their quartiles) : "
   ]
  },
  {
   "cell_type": "code",
   "execution_count": null,
   "metadata": {},
   "outputs": [],
   "source": [
    "plt.figure(figsize=(10, 6))\n",
    "sns.boxplot(x=\"variable\", y=\"value\", data=pd.melt(temp_df))"
   ]
  },
  {
   "cell_type": "markdown",
   "metadata": {},
   "source": [
    "And finally the distribution, we can see that Norway and Finland present many more values around zero :"
   ]
  },
  {
   "cell_type": "code",
   "execution_count": null,
   "metadata": {},
   "outputs": [],
   "source": [
    "plt.figure(figsize=(10, 6))\n",
    "for col in temp_df.columns:\n",
    "    sns.distplot(temp_df[temp_df[col] != 0][col], label=col, hist=False)\n",
    "plt.title(\"Distribution of the station's efficiency\")"
   ]
  },
  {
   "cell_type": "markdown",
   "metadata": {},
   "source": [
    "## Correlations\n",
    "\n",
    "Is there any dependence between the solar generation among countries ?\n",
    "\n",
    "In statistics, correlation or dependence is any statistical relationship, whether causal or not, between two random variables. In the broadest sense correlation is any statistical association, though it commonly refers to the degree to which a pair of variables are linearly related.\n",
    "\n",
    "Correlations are useful because they can indicate a predictive relationship that can be exploited in practice. "
   ]
  },
  {
   "cell_type": "code",
   "execution_count": null,
   "metadata": {},
   "outputs": [],
   "source": [
    "def plot_corr(df_):\n",
    "    corr = df_.corr()\n",
    "    corr\n",
    "\n",
    "    # Generate a mask for the upper triangle\n",
    "    mask = np.zeros_like(corr, dtype=np.bool)\n",
    "    mask[np.triu_indices_from(mask)] = True\n",
    "\n",
    "    # Set up the matplotlib figure\n",
    "    f, ax = plt.subplots(figsize=(9, 7))\n",
    "\n",
    "    # Generate a custom diverging colormap\n",
    "    #cmap = sns.diverging_palette(220, 10, as_cmap=True)\n",
    "\n",
    "    # Draw the heatmap with the mask and correct aspect ratio\n",
    "    sns.heatmap(corr, mask=mask, center=0, square=True, cmap='Spectral', linewidths=.5, cbar_kws={\"shrink\": .5}) #annot=True\n",
    "    \n",
    "plot_corr(temp_df)"
   ]
  },
  {
   "cell_type": "markdown",
   "metadata": {},
   "source": [
    "Since values are higher than 0.6, there are considered highly positively correlated. Once again, this is not suprising because the countries are situated close each others, so the sun has a tendency to rise and set at the same time and in the same way for all those countries. An other way to see those correlations is to show the following matrix :"
   ]
  },
  {
   "cell_type": "code",
   "execution_count": null,
   "metadata": {},
   "outputs": [],
   "source": [
    "temp_df.corr()"
   ]
  },
  {
   "cell_type": "markdown",
   "metadata": {},
   "source": [
    "## Heatmap month vs hours "
   ]
  },
  {
   "cell_type": "code",
   "execution_count": null,
   "metadata": {},
   "outputs": [],
   "source": [
    "# credits S Godinho @ https://www.kaggle.com/sgodinho/wind-energy-potential-prediction\n",
    "\n",
    "df_solar_co['year'] = df_solar_co['time'].dt.year\n",
    "plt.figure(figsize=(8, 6))\n",
    "temp_df = df_solar_co[['FR', 'month', 'hour']]\n",
    "temp_df = temp_df.groupby(['hour', 'month']).mean()\n",
    "temp_df = temp_df.unstack('month').sort_index(ascending=False)\n",
    "sns.heatmap(temp_df, vmin = 0.09, vmax = 0.29, cmap = 'plasma')"
   ]
  },
  {
   "cell_type": "markdown",
   "metadata": {},
   "source": [
    "---\n",
    "# Conclusion\n",
    "\n",
    "In this second part, we've explored the data set in order to assess the impact of meteorological and climate variability on the generation of solar power. We've also shown the variation during the day, the months of the year and accross years.\n",
    "The dataset seems to be clean and a function to add date time informations is already implemented. It will be usefull in [the third and final part]() of this study where we'll train machine learning models to make predictions."
   ]
  }
 ],
 "metadata": {
  "kernelspec": {
   "display_name": "Python 3",
   "language": "python",
   "name": "python3"
  },
  "language_info": {
   "codemirror_mode": {
    "name": "ipython",
    "version": 3
   },
   "file_extension": ".py",
   "mimetype": "text/x-python",
   "name": "python",
   "nbconvert_exporter": "python",
   "pygments_lexer": "ipython3",
   "version": "3.7.6"
  },
  "toc": {
   "base_numbering": 1,
   "nav_menu": {},
   "number_sections": true,
   "sideBar": true,
   "skip_h1_title": false,
   "title_cell": "Table of Contents",
   "title_sidebar": "Contents",
   "toc_cell": false,
   "toc_position": {},
   "toc_section_display": true,
   "toc_window_display": false
  }
 },
 "nbformat": 4,
 "nbformat_minor": 1
}
