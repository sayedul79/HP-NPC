{
 "cells": [
  {
   "cell_type": "markdown",
   "metadata": {
    "id": "2DRzdb8C1ns_"
   },
   "source": [
    "1. Load dataset from - https://covid.ourworldindata.org/data/owid-covid-data.csv \n",
    "\n",
    "2. Subset only those rows that have “India” in the “location” column(This subsetted dataframe has to be used for modelling) \n",
    "\n",
    "3. Univariate Analysis: \n",
    "       a. Draw histograms of each numerical variable \n",
    "       b. Find mean, median and mode of each column \n",
    "\n",
    "4. Bivariate Analysis: \n",
    "       a. Draw scatter plots of each numerical column versus one another \n",
    "       b. Draw line plots of each numerical column versus one another \n",
    "\n",
    "5. Handle Missing values:   \n",
    "       a. If there are null values in numerical column, replace the null values by the mean of that column  \n",
    "       b. If there are null values in categorical column, replace the null values by the mode of that column \n",
    "       c. If more than 50%the values in a column are null, then drop that entire column \n",
    "\n",
    "6. Convert date column to ordinal \n",
    "       a. Code: import datetime as dt \n",
    "                df[\"date\"]=pd.to_datetime(df[\"date\"]) \n",
    "                df[\"date\"]=df[\"date\"].map(dt.datetime.toordinal)\n",
    "\n",
    "7. Drop all categorical columns \n",
    "\n",
    "8. Select “total_cases” column as the target variable \n",
    "\n",
    "9. Select the other columns as the features(the “date” column has to be in the features) \n",
    "\n",
    "10. Perform train-test split \n",
    "\n",
    "11. Modelling: \n",
    "        a. Linear Regression \n",
    "        b. Random Forest Regressor \n",
    "\n",
    "12. Get accuracy \n",
    "\n",
    "13. Predict Total case for a new date \n",
    "\n",
    "NOTE: To convert anytime back from ordinal to date-time use the following sample code: from datetime import datetime ordinal value = 733828 # This is an example"
   ]
  },
  {
   "cell_type": "code",
   "execution_count": 1,
   "metadata": {
    "executionInfo": {
     "elapsed": 1806,
     "status": "ok",
     "timestamp": 1595428884886,
     "user": {
      "displayName": "SOUMYAJIT ROY",
      "photoUrl": "",
      "userId": "04273593953313780787"
     },
     "user_tz": -330
    },
    "id": "q5u7DsNW1_gm",
    "outputId": "d05d2789-8008-4f47-8362-db3a4ddf624a"
   },
   "outputs": [],
   "source": [
    "#Importing required packages.\n",
    "import numpy as np\n",
    "import pandas as pd\n",
    "import matplotlib.pyplot as plt\n",
    "import seaborn as sns\n",
    "%matplotlib inline"
   ]
  },
  {
   "cell_type": "code",
   "execution_count": 2,
   "metadata": {
    "executionInfo": {
     "elapsed": 3249,
     "status": "ok",
     "timestamp": 1595428886362,
     "user": {
      "displayName": "SOUMYAJIT ROY",
      "photoUrl": "",
      "userId": "04273593953313780787"
     },
     "user_tz": -330
    },
    "id": "Inma7QAX3P2d"
   },
   "outputs": [],
   "source": [
    "#Loading dataset\n",
    "df_covid = pd.read_csv('Music/owid-covid-data.csv')"
   ]
  },
  {
   "cell_type": "code",
   "execution_count": 3,
   "metadata": {
    "executionInfo": {
     "elapsed": 3221,
     "status": "ok",
     "timestamp": 1595428886365,
     "user": {
      "displayName": "SOUMYAJIT ROY",
      "photoUrl": "",
      "userId": "04273593953313780787"
     },
     "user_tz": -330
    },
    "id": "thBgcMrfd6X9",
    "outputId": "f33c4db2-4475-41b1-af85-959daa5643fe"
   },
   "outputs": [
    {
     "data": {
      "text/html": [
       "<div>\n",
       "<style scoped>\n",
       "    .dataframe tbody tr th:only-of-type {\n",
       "        vertical-align: middle;\n",
       "    }\n",
       "\n",
       "    .dataframe tbody tr th {\n",
       "        vertical-align: top;\n",
       "    }\n",
       "\n",
       "    .dataframe thead th {\n",
       "        text-align: right;\n",
       "    }\n",
       "</style>\n",
       "<table border=\"1\" class=\"dataframe\">\n",
       "  <thead>\n",
       "    <tr style=\"text-align: right;\">\n",
       "      <th></th>\n",
       "      <th>iso_code</th>\n",
       "      <th>continent</th>\n",
       "      <th>location</th>\n",
       "      <th>date</th>\n",
       "      <th>total_cases</th>\n",
       "      <th>new_cases</th>\n",
       "      <th>new_cases_smoothed</th>\n",
       "      <th>total_deaths</th>\n",
       "      <th>new_deaths</th>\n",
       "      <th>new_deaths_smoothed</th>\n",
       "      <th>...</th>\n",
       "      <th>aged_70_older</th>\n",
       "      <th>gdp_per_capita</th>\n",
       "      <th>extreme_poverty</th>\n",
       "      <th>cardiovasc_death_rate</th>\n",
       "      <th>diabetes_prevalence</th>\n",
       "      <th>female_smokers</th>\n",
       "      <th>male_smokers</th>\n",
       "      <th>handwashing_facilities</th>\n",
       "      <th>hospital_beds_per_thousand</th>\n",
       "      <th>life_expectancy</th>\n",
       "    </tr>\n",
       "  </thead>\n",
       "  <tbody>\n",
       "    <tr>\n",
       "      <th>0</th>\n",
       "      <td>AFG</td>\n",
       "      <td>Asia</td>\n",
       "      <td>Afghanistan</td>\n",
       "      <td>2019-12-31</td>\n",
       "      <td>0.0</td>\n",
       "      <td>0.0</td>\n",
       "      <td>NaN</td>\n",
       "      <td>0.0</td>\n",
       "      <td>0.0</td>\n",
       "      <td>NaN</td>\n",
       "      <td>...</td>\n",
       "      <td>1.337</td>\n",
       "      <td>1803.987</td>\n",
       "      <td>NaN</td>\n",
       "      <td>597.029</td>\n",
       "      <td>9.59</td>\n",
       "      <td>NaN</td>\n",
       "      <td>NaN</td>\n",
       "      <td>37.746</td>\n",
       "      <td>0.5</td>\n",
       "      <td>64.83</td>\n",
       "    </tr>\n",
       "    <tr>\n",
       "      <th>1</th>\n",
       "      <td>AFG</td>\n",
       "      <td>Asia</td>\n",
       "      <td>Afghanistan</td>\n",
       "      <td>2020-01-01</td>\n",
       "      <td>0.0</td>\n",
       "      <td>0.0</td>\n",
       "      <td>NaN</td>\n",
       "      <td>0.0</td>\n",
       "      <td>0.0</td>\n",
       "      <td>NaN</td>\n",
       "      <td>...</td>\n",
       "      <td>1.337</td>\n",
       "      <td>1803.987</td>\n",
       "      <td>NaN</td>\n",
       "      <td>597.029</td>\n",
       "      <td>9.59</td>\n",
       "      <td>NaN</td>\n",
       "      <td>NaN</td>\n",
       "      <td>37.746</td>\n",
       "      <td>0.5</td>\n",
       "      <td>64.83</td>\n",
       "    </tr>\n",
       "    <tr>\n",
       "      <th>2</th>\n",
       "      <td>AFG</td>\n",
       "      <td>Asia</td>\n",
       "      <td>Afghanistan</td>\n",
       "      <td>2020-01-02</td>\n",
       "      <td>0.0</td>\n",
       "      <td>0.0</td>\n",
       "      <td>NaN</td>\n",
       "      <td>0.0</td>\n",
       "      <td>0.0</td>\n",
       "      <td>NaN</td>\n",
       "      <td>...</td>\n",
       "      <td>1.337</td>\n",
       "      <td>1803.987</td>\n",
       "      <td>NaN</td>\n",
       "      <td>597.029</td>\n",
       "      <td>9.59</td>\n",
       "      <td>NaN</td>\n",
       "      <td>NaN</td>\n",
       "      <td>37.746</td>\n",
       "      <td>0.5</td>\n",
       "      <td>64.83</td>\n",
       "    </tr>\n",
       "    <tr>\n",
       "      <th>3</th>\n",
       "      <td>AFG</td>\n",
       "      <td>Asia</td>\n",
       "      <td>Afghanistan</td>\n",
       "      <td>2020-01-03</td>\n",
       "      <td>0.0</td>\n",
       "      <td>0.0</td>\n",
       "      <td>NaN</td>\n",
       "      <td>0.0</td>\n",
       "      <td>0.0</td>\n",
       "      <td>NaN</td>\n",
       "      <td>...</td>\n",
       "      <td>1.337</td>\n",
       "      <td>1803.987</td>\n",
       "      <td>NaN</td>\n",
       "      <td>597.029</td>\n",
       "      <td>9.59</td>\n",
       "      <td>NaN</td>\n",
       "      <td>NaN</td>\n",
       "      <td>37.746</td>\n",
       "      <td>0.5</td>\n",
       "      <td>64.83</td>\n",
       "    </tr>\n",
       "    <tr>\n",
       "      <th>4</th>\n",
       "      <td>AFG</td>\n",
       "      <td>Asia</td>\n",
       "      <td>Afghanistan</td>\n",
       "      <td>2020-01-04</td>\n",
       "      <td>0.0</td>\n",
       "      <td>0.0</td>\n",
       "      <td>NaN</td>\n",
       "      <td>0.0</td>\n",
       "      <td>0.0</td>\n",
       "      <td>NaN</td>\n",
       "      <td>...</td>\n",
       "      <td>1.337</td>\n",
       "      <td>1803.987</td>\n",
       "      <td>NaN</td>\n",
       "      <td>597.029</td>\n",
       "      <td>9.59</td>\n",
       "      <td>NaN</td>\n",
       "      <td>NaN</td>\n",
       "      <td>37.746</td>\n",
       "      <td>0.5</td>\n",
       "      <td>64.83</td>\n",
       "    </tr>\n",
       "  </tbody>\n",
       "</table>\n",
       "<p>5 rows × 40 columns</p>\n",
       "</div>"
      ],
      "text/plain": [
       "  iso_code continent     location        date  total_cases  new_cases  \\\n",
       "0      AFG      Asia  Afghanistan  2019-12-31          0.0        0.0   \n",
       "1      AFG      Asia  Afghanistan  2020-01-01          0.0        0.0   \n",
       "2      AFG      Asia  Afghanistan  2020-01-02          0.0        0.0   \n",
       "3      AFG      Asia  Afghanistan  2020-01-03          0.0        0.0   \n",
       "4      AFG      Asia  Afghanistan  2020-01-04          0.0        0.0   \n",
       "\n",
       "   new_cases_smoothed  total_deaths  new_deaths  new_deaths_smoothed  ...  \\\n",
       "0                 NaN           0.0         0.0                  NaN  ...   \n",
       "1                 NaN           0.0         0.0                  NaN  ...   \n",
       "2                 NaN           0.0         0.0                  NaN  ...   \n",
       "3                 NaN           0.0         0.0                  NaN  ...   \n",
       "4                 NaN           0.0         0.0                  NaN  ...   \n",
       "\n",
       "   aged_70_older  gdp_per_capita  extreme_poverty  cardiovasc_death_rate  \\\n",
       "0          1.337        1803.987              NaN                597.029   \n",
       "1          1.337        1803.987              NaN                597.029   \n",
       "2          1.337        1803.987              NaN                597.029   \n",
       "3          1.337        1803.987              NaN                597.029   \n",
       "4          1.337        1803.987              NaN                597.029   \n",
       "\n",
       "   diabetes_prevalence  female_smokers  male_smokers  handwashing_facilities  \\\n",
       "0                 9.59             NaN           NaN                  37.746   \n",
       "1                 9.59             NaN           NaN                  37.746   \n",
       "2                 9.59             NaN           NaN                  37.746   \n",
       "3                 9.59             NaN           NaN                  37.746   \n",
       "4                 9.59             NaN           NaN                  37.746   \n",
       "\n",
       "   hospital_beds_per_thousand  life_expectancy  \n",
       "0                         0.5            64.83  \n",
       "1                         0.5            64.83  \n",
       "2                         0.5            64.83  \n",
       "3                         0.5            64.83  \n",
       "4                         0.5            64.83  \n",
       "\n",
       "[5 rows x 40 columns]"
      ]
     },
     "execution_count": 3,
     "metadata": {},
     "output_type": "execute_result"
    }
   ],
   "source": [
    "#Let's check how the data is distributed\n",
    "df_covid.head()"
   ]
  },
  {
   "cell_type": "markdown",
   "metadata": {},
   "source": [
    "From the first 5 lines of the dataset I already got some null values. So I have to remove the null values in the dataset. Before that I have to separate the dataset where the location is India."
   ]
  },
  {
   "cell_type": "code",
   "execution_count": 4,
   "metadata": {
    "executionInfo": {
     "elapsed": 3195,
     "status": "ok",
     "timestamp": 1595428886368,
     "user": {
      "displayName": "SOUMYAJIT ROY",
      "photoUrl": "",
      "userId": "04273593953313780787"
     },
     "user_tz": -330
    },
    "id": "a1VWADmZ3X7r"
   },
   "outputs": [
    {
     "data": {
      "text/html": [
       "<div>\n",
       "<style scoped>\n",
       "    .dataframe tbody tr th:only-of-type {\n",
       "        vertical-align: middle;\n",
       "    }\n",
       "\n",
       "    .dataframe tbody tr th {\n",
       "        vertical-align: top;\n",
       "    }\n",
       "\n",
       "    .dataframe thead th {\n",
       "        text-align: right;\n",
       "    }\n",
       "</style>\n",
       "<table border=\"1\" class=\"dataframe\">\n",
       "  <thead>\n",
       "    <tr style=\"text-align: right;\">\n",
       "      <th></th>\n",
       "      <th>iso_code</th>\n",
       "      <th>continent</th>\n",
       "      <th>location</th>\n",
       "      <th>date</th>\n",
       "      <th>total_cases</th>\n",
       "      <th>new_cases</th>\n",
       "      <th>new_cases_smoothed</th>\n",
       "      <th>total_deaths</th>\n",
       "      <th>new_deaths</th>\n",
       "      <th>new_deaths_smoothed</th>\n",
       "      <th>...</th>\n",
       "      <th>aged_70_older</th>\n",
       "      <th>gdp_per_capita</th>\n",
       "      <th>extreme_poverty</th>\n",
       "      <th>cardiovasc_death_rate</th>\n",
       "      <th>diabetes_prevalence</th>\n",
       "      <th>female_smokers</th>\n",
       "      <th>male_smokers</th>\n",
       "      <th>handwashing_facilities</th>\n",
       "      <th>hospital_beds_per_thousand</th>\n",
       "      <th>life_expectancy</th>\n",
       "    </tr>\n",
       "  </thead>\n",
       "  <tbody>\n",
       "    <tr>\n",
       "      <th>42431</th>\n",
       "      <td>NaN</td>\n",
       "      <td>NaN</td>\n",
       "      <td>International</td>\n",
       "      <td>2020-09-04</td>\n",
       "      <td>696.0</td>\n",
       "      <td>NaN</td>\n",
       "      <td>NaN</td>\n",
       "      <td>7.0</td>\n",
       "      <td>NaN</td>\n",
       "      <td>NaN</td>\n",
       "      <td>...</td>\n",
       "      <td>NaN</td>\n",
       "      <td>NaN</td>\n",
       "      <td>NaN</td>\n",
       "      <td>NaN</td>\n",
       "      <td>NaN</td>\n",
       "      <td>NaN</td>\n",
       "      <td>NaN</td>\n",
       "      <td>NaN</td>\n",
       "      <td>NaN</td>\n",
       "      <td>NaN</td>\n",
       "    </tr>\n",
       "    <tr>\n",
       "      <th>42432</th>\n",
       "      <td>NaN</td>\n",
       "      <td>NaN</td>\n",
       "      <td>International</td>\n",
       "      <td>2020-09-05</td>\n",
       "      <td>696.0</td>\n",
       "      <td>NaN</td>\n",
       "      <td>NaN</td>\n",
       "      <td>7.0</td>\n",
       "      <td>NaN</td>\n",
       "      <td>NaN</td>\n",
       "      <td>...</td>\n",
       "      <td>NaN</td>\n",
       "      <td>NaN</td>\n",
       "      <td>NaN</td>\n",
       "      <td>NaN</td>\n",
       "      <td>NaN</td>\n",
       "      <td>NaN</td>\n",
       "      <td>NaN</td>\n",
       "      <td>NaN</td>\n",
       "      <td>NaN</td>\n",
       "      <td>NaN</td>\n",
       "    </tr>\n",
       "    <tr>\n",
       "      <th>42433</th>\n",
       "      <td>NaN</td>\n",
       "      <td>NaN</td>\n",
       "      <td>International</td>\n",
       "      <td>2020-09-06</td>\n",
       "      <td>696.0</td>\n",
       "      <td>NaN</td>\n",
       "      <td>NaN</td>\n",
       "      <td>7.0</td>\n",
       "      <td>NaN</td>\n",
       "      <td>NaN</td>\n",
       "      <td>...</td>\n",
       "      <td>NaN</td>\n",
       "      <td>NaN</td>\n",
       "      <td>NaN</td>\n",
       "      <td>NaN</td>\n",
       "      <td>NaN</td>\n",
       "      <td>NaN</td>\n",
       "      <td>NaN</td>\n",
       "      <td>NaN</td>\n",
       "      <td>NaN</td>\n",
       "      <td>NaN</td>\n",
       "    </tr>\n",
       "    <tr>\n",
       "      <th>42434</th>\n",
       "      <td>NaN</td>\n",
       "      <td>NaN</td>\n",
       "      <td>International</td>\n",
       "      <td>2020-09-07</td>\n",
       "      <td>696.0</td>\n",
       "      <td>NaN</td>\n",
       "      <td>NaN</td>\n",
       "      <td>7.0</td>\n",
       "      <td>NaN</td>\n",
       "      <td>NaN</td>\n",
       "      <td>...</td>\n",
       "      <td>NaN</td>\n",
       "      <td>NaN</td>\n",
       "      <td>NaN</td>\n",
       "      <td>NaN</td>\n",
       "      <td>NaN</td>\n",
       "      <td>NaN</td>\n",
       "      <td>NaN</td>\n",
       "      <td>NaN</td>\n",
       "      <td>NaN</td>\n",
       "      <td>NaN</td>\n",
       "    </tr>\n",
       "    <tr>\n",
       "      <th>42435</th>\n",
       "      <td>NaN</td>\n",
       "      <td>NaN</td>\n",
       "      <td>International</td>\n",
       "      <td>2020-09-08</td>\n",
       "      <td>696.0</td>\n",
       "      <td>NaN</td>\n",
       "      <td>NaN</td>\n",
       "      <td>7.0</td>\n",
       "      <td>NaN</td>\n",
       "      <td>NaN</td>\n",
       "      <td>...</td>\n",
       "      <td>NaN</td>\n",
       "      <td>NaN</td>\n",
       "      <td>NaN</td>\n",
       "      <td>NaN</td>\n",
       "      <td>NaN</td>\n",
       "      <td>NaN</td>\n",
       "      <td>NaN</td>\n",
       "      <td>NaN</td>\n",
       "      <td>NaN</td>\n",
       "      <td>NaN</td>\n",
       "    </tr>\n",
       "  </tbody>\n",
       "</table>\n",
       "<p>5 rows × 40 columns</p>\n",
       "</div>"
      ],
      "text/plain": [
       "      iso_code continent       location        date  total_cases  new_cases  \\\n",
       "42431      NaN       NaN  International  2020-09-04        696.0        NaN   \n",
       "42432      NaN       NaN  International  2020-09-05        696.0        NaN   \n",
       "42433      NaN       NaN  International  2020-09-06        696.0        NaN   \n",
       "42434      NaN       NaN  International  2020-09-07        696.0        NaN   \n",
       "42435      NaN       NaN  International  2020-09-08        696.0        NaN   \n",
       "\n",
       "       new_cases_smoothed  total_deaths  new_deaths  new_deaths_smoothed  ...  \\\n",
       "42431                 NaN           7.0         NaN                  NaN  ...   \n",
       "42432                 NaN           7.0         NaN                  NaN  ...   \n",
       "42433                 NaN           7.0         NaN                  NaN  ...   \n",
       "42434                 NaN           7.0         NaN                  NaN  ...   \n",
       "42435                 NaN           7.0         NaN                  NaN  ...   \n",
       "\n",
       "       aged_70_older  gdp_per_capita  extreme_poverty  cardiovasc_death_rate  \\\n",
       "42431            NaN             NaN              NaN                    NaN   \n",
       "42432            NaN             NaN              NaN                    NaN   \n",
       "42433            NaN             NaN              NaN                    NaN   \n",
       "42434            NaN             NaN              NaN                    NaN   \n",
       "42435            NaN             NaN              NaN                    NaN   \n",
       "\n",
       "       diabetes_prevalence  female_smokers  male_smokers  \\\n",
       "42431                  NaN             NaN           NaN   \n",
       "42432                  NaN             NaN           NaN   \n",
       "42433                  NaN             NaN           NaN   \n",
       "42434                  NaN             NaN           NaN   \n",
       "42435                  NaN             NaN           NaN   \n",
       "\n",
       "       handwashing_facilities  hospital_beds_per_thousand  life_expectancy  \n",
       "42431                     NaN                         NaN              NaN  \n",
       "42432                     NaN                         NaN              NaN  \n",
       "42433                     NaN                         NaN              NaN  \n",
       "42434                     NaN                         NaN              NaN  \n",
       "42435                     NaN                         NaN              NaN  \n",
       "\n",
       "[5 rows x 40 columns]"
      ]
     },
     "execution_count": 4,
     "metadata": {},
     "output_type": "execute_result"
    }
   ],
   "source": [
    "df_covid.tail()"
   ]
  },
  {
   "cell_type": "code",
   "execution_count": 5,
   "metadata": {
    "executionInfo": {
     "elapsed": 3176,
     "status": "ok",
     "timestamp": 1595428886370,
     "user": {
      "displayName": "SOUMYAJIT ROY",
      "photoUrl": "",
      "userId": "04273593953313780787"
     },
     "user_tz": -330
    },
    "id": "jbYIrvF_3inw"
   },
   "outputs": [
    {
     "data": {
      "text/plain": [
       "(42436, 40)"
      ]
     },
     "execution_count": 5,
     "metadata": {},
     "output_type": "execute_result"
    }
   ],
   "source": [
    "df_covid.shape"
   ]
  },
  {
   "cell_type": "code",
   "execution_count": 6,
   "metadata": {
    "executionInfo": {
     "elapsed": 3159,
     "status": "ok",
     "timestamp": 1595428886372,
     "user": {
      "displayName": "SOUMYAJIT ROY",
      "photoUrl": "",
      "userId": "04273593953313780787"
     },
     "user_tz": -330
    },
    "id": "VEaqgz-H3rla"
   },
   "outputs": [
    {
     "data": {
      "text/plain": [
       "Index(['iso_code', 'continent', 'location', 'date', 'total_cases', 'new_cases',\n",
       "       'new_cases_smoothed', 'total_deaths', 'new_deaths',\n",
       "       'new_deaths_smoothed', 'total_cases_per_million',\n",
       "       'new_cases_per_million', 'new_cases_smoothed_per_million',\n",
       "       'total_deaths_per_million', 'new_deaths_per_million',\n",
       "       'new_deaths_smoothed_per_million', 'new_tests', 'total_tests',\n",
       "       'total_tests_per_thousand', 'new_tests_per_thousand',\n",
       "       'new_tests_smoothed', 'new_tests_smoothed_per_thousand',\n",
       "       'tests_per_case', 'positive_rate', 'tests_units', 'stringency_index',\n",
       "       'population', 'population_density', 'median_age', 'aged_65_older',\n",
       "       'aged_70_older', 'gdp_per_capita', 'extreme_poverty',\n",
       "       'cardiovasc_death_rate', 'diabetes_prevalence', 'female_smokers',\n",
       "       'male_smokers', 'handwashing_facilities', 'hospital_beds_per_thousand',\n",
       "       'life_expectancy'],\n",
       "      dtype='object')"
      ]
     },
     "execution_count": 6,
     "metadata": {},
     "output_type": "execute_result"
    }
   ],
   "source": [
    "df_covid.columns"
   ]
  },
  {
   "cell_type": "code",
   "execution_count": 7,
   "metadata": {
    "executionInfo": {
     "elapsed": 3135,
     "status": "ok",
     "timestamp": 1595428886374,
     "user": {
      "displayName": "SOUMYAJIT ROY",
      "photoUrl": "",
      "userId": "04273593953313780787"
     },
     "user_tz": -330
    },
    "id": "-kToikw13zxw",
    "outputId": "2ff7dba6-2a8c-45da-f24f-0ca056b723b6"
   },
   "outputs": [
    {
     "name": "stdout",
     "output_type": "stream",
     "text": [
      "<class 'pandas.core.frame.DataFrame'>\n",
      "RangeIndex: 42436 entries, 0 to 42435\n",
      "Data columns (total 40 columns):\n",
      " #   Column                           Non-Null Count  Dtype  \n",
      "---  ------                           --------------  -----  \n",
      " 0   iso_code                         42183 non-null  object \n",
      " 1   continent                        41930 non-null  object \n",
      " 2   location                         42436 non-null  object \n",
      " 3   date                             42436 non-null  object \n",
      " 4   total_cases                      41861 non-null  float64\n",
      " 5   new_cases                        41672 non-null  float64\n",
      " 6   new_cases_smoothed               40890 non-null  float64\n",
      " 7   total_deaths                     41861 non-null  float64\n",
      " 8   new_deaths                       41672 non-null  float64\n",
      " 9   new_deaths_smoothed              40890 non-null  float64\n",
      " 10  total_cases_per_million          41608 non-null  float64\n",
      " 11  new_cases_per_million            41608 non-null  float64\n",
      " 12  new_cases_smoothed_per_million   40825 non-null  float64\n",
      " 13  total_deaths_per_million         41608 non-null  float64\n",
      " 14  new_deaths_per_million           41608 non-null  float64\n",
      " 15  new_deaths_smoothed_per_million  40825 non-null  float64\n",
      " 16  new_tests                        14131 non-null  float64\n",
      " 17  total_tests                      14485 non-null  float64\n",
      " 18  total_tests_per_thousand         14485 non-null  float64\n",
      " 19  new_tests_per_thousand           14131 non-null  float64\n",
      " 20  new_tests_smoothed               15881 non-null  float64\n",
      " 21  new_tests_smoothed_per_thousand  15881 non-null  float64\n",
      " 22  tests_per_case                   14708 non-null  float64\n",
      " 23  positive_rate                    15088 non-null  float64\n",
      " 24  tests_units                      16659 non-null  object \n",
      " 25  stringency_index                 35246 non-null  float64\n",
      " 26  population                       42183 non-null  float64\n",
      " 27  population_density               40285 non-null  float64\n",
      " 28  median_age                       37878 non-null  float64\n",
      " 29  aged_65_older                    37319 non-null  float64\n",
      " 30  aged_70_older                    37682 non-null  float64\n",
      " 31  gdp_per_capita                   37401 non-null  float64\n",
      " 32  extreme_poverty                  24975 non-null  float64\n",
      " 33  cardiovasc_death_rate            37891 non-null  float64\n",
      " 34  diabetes_prevalence              39215 non-null  float64\n",
      " 35  female_smokers                   29798 non-null  float64\n",
      " 36  male_smokers                     29425 non-null  float64\n",
      " 37  handwashing_facilities           17641 non-null  float64\n",
      " 38  hospital_beds_per_thousand       34294 non-null  float64\n",
      " 39  life_expectancy                  41658 non-null  float64\n",
      "dtypes: float64(35), object(5)\n",
      "memory usage: 13.0+ MB\n"
     ]
    }
   ],
   "source": [
    "#Information about the data columns\n",
    "df_covid.info()"
   ]
  },
  {
   "cell_type": "markdown",
   "metadata": {},
   "source": [
    "The dataset have many null values. Categorial columns are also present. "
   ]
  },
  {
   "cell_type": "code",
   "execution_count": null,
   "metadata": {},
   "outputs": [],
   "source": [
    "#df_covid.isnull().sum()"
   ]
  },
  {
   "cell_type": "code",
   "execution_count": 8,
   "metadata": {
    "executionInfo": {
     "elapsed": 3104,
     "status": "ok",
     "timestamp": 1595428886376,
     "user": {
      "displayName": "SOUMYAJIT ROY",
      "photoUrl": "",
      "userId": "04273593953313780787"
     },
     "user_tz": -330
    },
    "id": "Q6qFIIMh34U2",
    "outputId": "da2585c1-3894-4bf8-9ca2-1b6070b3725f"
   },
   "outputs": [
    {
     "data": {
      "text/html": [
       "<div>\n",
       "<style scoped>\n",
       "    .dataframe tbody tr th:only-of-type {\n",
       "        vertical-align: middle;\n",
       "    }\n",
       "\n",
       "    .dataframe tbody tr th {\n",
       "        vertical-align: top;\n",
       "    }\n",
       "\n",
       "    .dataframe thead th {\n",
       "        text-align: right;\n",
       "    }\n",
       "</style>\n",
       "<table border=\"1\" class=\"dataframe\">\n",
       "  <thead>\n",
       "    <tr style=\"text-align: right;\">\n",
       "      <th></th>\n",
       "      <th>total_cases</th>\n",
       "      <th>new_cases</th>\n",
       "      <th>new_cases_smoothed</th>\n",
       "      <th>total_deaths</th>\n",
       "      <th>new_deaths</th>\n",
       "      <th>new_deaths_smoothed</th>\n",
       "      <th>total_cases_per_million</th>\n",
       "      <th>new_cases_per_million</th>\n",
       "      <th>new_cases_smoothed_per_million</th>\n",
       "      <th>total_deaths_per_million</th>\n",
       "      <th>...</th>\n",
       "      <th>aged_70_older</th>\n",
       "      <th>gdp_per_capita</th>\n",
       "      <th>extreme_poverty</th>\n",
       "      <th>cardiovasc_death_rate</th>\n",
       "      <th>diabetes_prevalence</th>\n",
       "      <th>female_smokers</th>\n",
       "      <th>male_smokers</th>\n",
       "      <th>handwashing_facilities</th>\n",
       "      <th>hospital_beds_per_thousand</th>\n",
       "      <th>life_expectancy</th>\n",
       "    </tr>\n",
       "  </thead>\n",
       "  <tbody>\n",
       "    <tr>\n",
       "      <th>count</th>\n",
       "      <td>4.186100e+04</td>\n",
       "      <td>41672.000000</td>\n",
       "      <td>40890.000000</td>\n",
       "      <td>41861.000000</td>\n",
       "      <td>41672.000000</td>\n",
       "      <td>40890.000000</td>\n",
       "      <td>41608.000000</td>\n",
       "      <td>41608.000000</td>\n",
       "      <td>40825.000000</td>\n",
       "      <td>41608.000000</td>\n",
       "      <td>...</td>\n",
       "      <td>37682.000000</td>\n",
       "      <td>37401.000000</td>\n",
       "      <td>24975.000000</td>\n",
       "      <td>37891.000000</td>\n",
       "      <td>39215.000000</td>\n",
       "      <td>29798.000000</td>\n",
       "      <td>29425.000000</td>\n",
       "      <td>17641.000000</td>\n",
       "      <td>34294.000000</td>\n",
       "      <td>41658.000000</td>\n",
       "    </tr>\n",
       "    <tr>\n",
       "      <th>mean</th>\n",
       "      <td>8.364146e+04</td>\n",
       "      <td>1313.430985</td>\n",
       "      <td>1301.567855</td>\n",
       "      <td>3614.179284</td>\n",
       "      <td>42.862546</td>\n",
       "      <td>42.817819</td>\n",
       "      <td>1617.012016</td>\n",
       "      <td>22.244389</td>\n",
       "      <td>21.959653</td>\n",
       "      <td>52.048687</td>\n",
       "      <td>...</td>\n",
       "      <td>5.892329</td>\n",
       "      <td>21075.564374</td>\n",
       "      <td>11.920340</td>\n",
       "      <td>251.045549</td>\n",
       "      <td>8.046316</td>\n",
       "      <td>10.858212</td>\n",
       "      <td>32.639424</td>\n",
       "      <td>52.716465</td>\n",
       "      <td>3.120920</td>\n",
       "      <td>74.086577</td>\n",
       "    </tr>\n",
       "    <tr>\n",
       "      <th>std</th>\n",
       "      <td>8.664572e+05</td>\n",
       "      <td>12014.206551</td>\n",
       "      <td>11826.075435</td>\n",
       "      <td>33810.955798</td>\n",
       "      <td>364.860626</td>\n",
       "      <td>353.845523</td>\n",
       "      <td>3543.056338</td>\n",
       "      <td>70.092922</td>\n",
       "      <td>53.504173</td>\n",
       "      <td>136.676021</td>\n",
       "      <td>...</td>\n",
       "      <td>4.327437</td>\n",
       "      <td>20514.370925</td>\n",
       "      <td>19.069537</td>\n",
       "      <td>117.734515</td>\n",
       "      <td>4.137916</td>\n",
       "      <td>10.485882</td>\n",
       "      <td>13.399365</td>\n",
       "      <td>31.550931</td>\n",
       "      <td>2.535461</td>\n",
       "      <td>7.357551</td>\n",
       "    </tr>\n",
       "    <tr>\n",
       "      <th>min</th>\n",
       "      <td>0.000000e+00</td>\n",
       "      <td>-8261.000000</td>\n",
       "      <td>-552.000000</td>\n",
       "      <td>0.000000</td>\n",
       "      <td>-1918.000000</td>\n",
       "      <td>-232.143000</td>\n",
       "      <td>0.000000</td>\n",
       "      <td>-2212.545000</td>\n",
       "      <td>-269.978000</td>\n",
       "      <td>0.000000</td>\n",
       "      <td>...</td>\n",
       "      <td>0.526000</td>\n",
       "      <td>661.240000</td>\n",
       "      <td>0.100000</td>\n",
       "      <td>79.370000</td>\n",
       "      <td>0.990000</td>\n",
       "      <td>0.100000</td>\n",
       "      <td>7.700000</td>\n",
       "      <td>1.188000</td>\n",
       "      <td>0.100000</td>\n",
       "      <td>53.280000</td>\n",
       "    </tr>\n",
       "    <tr>\n",
       "      <th>25%</th>\n",
       "      <td>4.200000e+01</td>\n",
       "      <td>0.000000</td>\n",
       "      <td>0.429000</td>\n",
       "      <td>0.000000</td>\n",
       "      <td>0.000000</td>\n",
       "      <td>0.000000</td>\n",
       "      <td>20.079000</td>\n",
       "      <td>0.000000</td>\n",
       "      <td>0.105000</td>\n",
       "      <td>0.000000</td>\n",
       "      <td>...</td>\n",
       "      <td>2.142000</td>\n",
       "      <td>5591.597000</td>\n",
       "      <td>0.500000</td>\n",
       "      <td>153.507000</td>\n",
       "      <td>5.310000</td>\n",
       "      <td>1.900000</td>\n",
       "      <td>21.400000</td>\n",
       "      <td>21.222000</td>\n",
       "      <td>1.300000</td>\n",
       "      <td>69.910000</td>\n",
       "    </tr>\n",
       "    <tr>\n",
       "      <th>50%</th>\n",
       "      <td>8.340000e+02</td>\n",
       "      <td>8.500000</td>\n",
       "      <td>13.000000</td>\n",
       "      <td>15.000000</td>\n",
       "      <td>0.000000</td>\n",
       "      <td>0.143000</td>\n",
       "      <td>248.771500</td>\n",
       "      <td>1.315000</td>\n",
       "      <td>2.622000</td>\n",
       "      <td>4.088500</td>\n",
       "      <td>...</td>\n",
       "      <td>4.419000</td>\n",
       "      <td>14103.452000</td>\n",
       "      <td>1.800000</td>\n",
       "      <td>237.372000</td>\n",
       "      <td>7.110000</td>\n",
       "      <td>6.434000</td>\n",
       "      <td>31.400000</td>\n",
       "      <td>55.182000</td>\n",
       "      <td>2.500000</td>\n",
       "      <td>75.490000</td>\n",
       "    </tr>\n",
       "    <tr>\n",
       "      <th>75%</th>\n",
       "      <td>8.815000e+03</td>\n",
       "      <td>145.000000</td>\n",
       "      <td>149.714000</td>\n",
       "      <td>188.000000</td>\n",
       "      <td>3.000000</td>\n",
       "      <td>2.857000</td>\n",
       "      <td>1589.719250</td>\n",
       "      <td>15.077000</td>\n",
       "      <td>16.715000</td>\n",
       "      <td>30.635000</td>\n",
       "      <td>...</td>\n",
       "      <td>9.719000</td>\n",
       "      <td>32415.132000</td>\n",
       "      <td>16.000000</td>\n",
       "      <td>318.949000</td>\n",
       "      <td>10.180000</td>\n",
       "      <td>19.600000</td>\n",
       "      <td>40.900000</td>\n",
       "      <td>83.741000</td>\n",
       "      <td>4.200000</td>\n",
       "      <td>79.930000</td>\n",
       "    </tr>\n",
       "    <tr>\n",
       "      <th>max</th>\n",
       "      <td>2.736665e+07</td>\n",
       "      <td>298107.000000</td>\n",
       "      <td>270578.286000</td>\n",
       "      <td>893084.000000</td>\n",
       "      <td>10491.000000</td>\n",
       "      <td>7456.571000</td>\n",
       "      <td>41772.126000</td>\n",
       "      <td>4944.376000</td>\n",
       "      <td>882.924000</td>\n",
       "      <td>1237.551000</td>\n",
       "      <td>...</td>\n",
       "      <td>18.493000</td>\n",
       "      <td>116935.600000</td>\n",
       "      <td>77.600000</td>\n",
       "      <td>724.417000</td>\n",
       "      <td>23.360000</td>\n",
       "      <td>44.000000</td>\n",
       "      <td>78.100000</td>\n",
       "      <td>98.999000</td>\n",
       "      <td>13.800000</td>\n",
       "      <td>86.750000</td>\n",
       "    </tr>\n",
       "  </tbody>\n",
       "</table>\n",
       "<p>8 rows × 35 columns</p>\n",
       "</div>"
      ],
      "text/plain": [
       "        total_cases      new_cases  new_cases_smoothed   total_deaths  \\\n",
       "count  4.186100e+04   41672.000000        40890.000000   41861.000000   \n",
       "mean   8.364146e+04    1313.430985         1301.567855    3614.179284   \n",
       "std    8.664572e+05   12014.206551        11826.075435   33810.955798   \n",
       "min    0.000000e+00   -8261.000000         -552.000000       0.000000   \n",
       "25%    4.200000e+01       0.000000            0.429000       0.000000   \n",
       "50%    8.340000e+02       8.500000           13.000000      15.000000   \n",
       "75%    8.815000e+03     145.000000          149.714000     188.000000   \n",
       "max    2.736665e+07  298107.000000       270578.286000  893084.000000   \n",
       "\n",
       "         new_deaths  new_deaths_smoothed  total_cases_per_million  \\\n",
       "count  41672.000000         40890.000000             41608.000000   \n",
       "mean      42.862546            42.817819              1617.012016   \n",
       "std      364.860626           353.845523              3543.056338   \n",
       "min    -1918.000000          -232.143000                 0.000000   \n",
       "25%        0.000000             0.000000                20.079000   \n",
       "50%        0.000000             0.143000               248.771500   \n",
       "75%        3.000000             2.857000              1589.719250   \n",
       "max    10491.000000          7456.571000             41772.126000   \n",
       "\n",
       "       new_cases_per_million  new_cases_smoothed_per_million  \\\n",
       "count           41608.000000                    40825.000000   \n",
       "mean               22.244389                       21.959653   \n",
       "std                70.092922                       53.504173   \n",
       "min             -2212.545000                     -269.978000   \n",
       "25%                 0.000000                        0.105000   \n",
       "50%                 1.315000                        2.622000   \n",
       "75%                15.077000                       16.715000   \n",
       "max              4944.376000                      882.924000   \n",
       "\n",
       "       total_deaths_per_million  ...  aged_70_older  gdp_per_capita  \\\n",
       "count              41608.000000  ...   37682.000000    37401.000000   \n",
       "mean                  52.048687  ...       5.892329    21075.564374   \n",
       "std                  136.676021  ...       4.327437    20514.370925   \n",
       "min                    0.000000  ...       0.526000      661.240000   \n",
       "25%                    0.000000  ...       2.142000     5591.597000   \n",
       "50%                    4.088500  ...       4.419000    14103.452000   \n",
       "75%                   30.635000  ...       9.719000    32415.132000   \n",
       "max                 1237.551000  ...      18.493000   116935.600000   \n",
       "\n",
       "       extreme_poverty  cardiovasc_death_rate  diabetes_prevalence  \\\n",
       "count     24975.000000           37891.000000         39215.000000   \n",
       "mean         11.920340             251.045549             8.046316   \n",
       "std          19.069537             117.734515             4.137916   \n",
       "min           0.100000              79.370000             0.990000   \n",
       "25%           0.500000             153.507000             5.310000   \n",
       "50%           1.800000             237.372000             7.110000   \n",
       "75%          16.000000             318.949000            10.180000   \n",
       "max          77.600000             724.417000            23.360000   \n",
       "\n",
       "       female_smokers  male_smokers  handwashing_facilities  \\\n",
       "count    29798.000000  29425.000000            17641.000000   \n",
       "mean        10.858212     32.639424               52.716465   \n",
       "std         10.485882     13.399365               31.550931   \n",
       "min          0.100000      7.700000                1.188000   \n",
       "25%          1.900000     21.400000               21.222000   \n",
       "50%          6.434000     31.400000               55.182000   \n",
       "75%         19.600000     40.900000               83.741000   \n",
       "max         44.000000     78.100000               98.999000   \n",
       "\n",
       "       hospital_beds_per_thousand  life_expectancy  \n",
       "count                34294.000000     41658.000000  \n",
       "mean                     3.120920        74.086577  \n",
       "std                      2.535461         7.357551  \n",
       "min                      0.100000        53.280000  \n",
       "25%                      1.300000        69.910000  \n",
       "50%                      2.500000        75.490000  \n",
       "75%                      4.200000        79.930000  \n",
       "max                     13.800000        86.750000  \n",
       "\n",
       "[8 rows x 35 columns]"
      ]
     },
     "execution_count": 8,
     "metadata": {},
     "output_type": "execute_result"
    }
   ],
   "source": [
    "# Information on the Dataset\n",
    "df_covid.describe()"
   ]
  },
  {
   "cell_type": "code",
   "execution_count": 9,
   "metadata": {
    "executionInfo": {
     "elapsed": 3074,
     "status": "ok",
     "timestamp": 1595428886378,
     "user": {
      "displayName": "SOUMYAJIT ROY",
      "photoUrl": "",
      "userId": "04273593953313780787"
     },
     "user_tz": -330
    },
    "id": "bUUlEXce4Mun",
    "outputId": "5a262cb8-9e6e-46bd-c379-b4bf1915c144"
   },
   "outputs": [
    {
     "data": {
      "text/plain": [
       "iso_code                             253\n",
       "continent                            506\n",
       "location                               0\n",
       "date                                   0\n",
       "total_cases                          575\n",
       "new_cases                            764\n",
       "new_cases_smoothed                  1546\n",
       "total_deaths                         575\n",
       "new_deaths                           764\n",
       "new_deaths_smoothed                 1546\n",
       "total_cases_per_million              828\n",
       "new_cases_per_million                828\n",
       "new_cases_smoothed_per_million      1611\n",
       "total_deaths_per_million             828\n",
       "new_deaths_per_million               828\n",
       "new_deaths_smoothed_per_million     1611\n",
       "new_tests                          28305\n",
       "total_tests                        27951\n",
       "total_tests_per_thousand           27951\n",
       "new_tests_per_thousand             28305\n",
       "new_tests_smoothed                 26555\n",
       "new_tests_smoothed_per_thousand    26555\n",
       "tests_per_case                     27728\n",
       "positive_rate                      27348\n",
       "tests_units                        25777\n",
       "stringency_index                    7190\n",
       "population                           253\n",
       "population_density                  2151\n",
       "median_age                          4558\n",
       "aged_65_older                       5117\n",
       "aged_70_older                       4754\n",
       "gdp_per_capita                      5035\n",
       "extreme_poverty                    17461\n",
       "cardiovasc_death_rate               4545\n",
       "diabetes_prevalence                 3221\n",
       "female_smokers                     12638\n",
       "male_smokers                       13011\n",
       "handwashing_facilities             24795\n",
       "hospital_beds_per_thousand          8142\n",
       "life_expectancy                      778\n",
       "dtype: int64"
      ]
     },
     "execution_count": 9,
     "metadata": {},
     "output_type": "execute_result"
    }
   ],
   "source": [
    "#Checking Null values on the dataset\n",
    "df_covid.isnull().sum()"
   ]
  },
  {
   "cell_type": "markdown",
   "metadata": {},
   "source": [
    "The null values in the whole dataset are listed above."
   ]
  },
  {
   "cell_type": "markdown",
   "metadata": {},
   "source": [
    "Now we have to separete the data where the location is India. We will do the analysis in future on the indian dataset."
   ]
  },
  {
   "cell_type": "code",
   "execution_count": 10,
   "metadata": {
    "executionInfo": {
     "elapsed": 3059,
     "status": "ok",
     "timestamp": 1595428886380,
     "user": {
      "displayName": "SOUMYAJIT ROY",
      "photoUrl": "",
      "userId": "04273593953313780787"
     },
     "user_tz": -330
    },
    "id": "CifZbiYW4qM8"
   },
   "outputs": [],
   "source": [
    "# Subsetting those rows where location is India\n",
    "df=df_covid[df_covid[\"location\"]==\"India\"]"
   ]
  },
  {
   "cell_type": "code",
   "execution_count": 11,
   "metadata": {
    "executionInfo": {
     "elapsed": 3048,
     "status": "ok",
     "timestamp": 1595428886382,
     "user": {
      "displayName": "SOUMYAJIT ROY",
      "photoUrl": "",
      "userId": "04273593953313780787"
     },
     "user_tz": -330
    },
    "id": "PyEuE0-p5kIv",
    "outputId": "fda117cd-efbd-408b-98bf-d7f8bcac74ec"
   },
   "outputs": [
    {
     "data": {
      "text/html": [
       "<div>\n",
       "<style scoped>\n",
       "    .dataframe tbody tr th:only-of-type {\n",
       "        vertical-align: middle;\n",
       "    }\n",
       "\n",
       "    .dataframe tbody tr th {\n",
       "        vertical-align: top;\n",
       "    }\n",
       "\n",
       "    .dataframe thead th {\n",
       "        text-align: right;\n",
       "    }\n",
       "</style>\n",
       "<table border=\"1\" class=\"dataframe\">\n",
       "  <thead>\n",
       "    <tr style=\"text-align: right;\">\n",
       "      <th></th>\n",
       "      <th>iso_code</th>\n",
       "      <th>continent</th>\n",
       "      <th>location</th>\n",
       "      <th>date</th>\n",
       "      <th>total_cases</th>\n",
       "      <th>new_cases</th>\n",
       "      <th>new_cases_smoothed</th>\n",
       "      <th>total_deaths</th>\n",
       "      <th>new_deaths</th>\n",
       "      <th>new_deaths_smoothed</th>\n",
       "      <th>...</th>\n",
       "      <th>aged_70_older</th>\n",
       "      <th>gdp_per_capita</th>\n",
       "      <th>extreme_poverty</th>\n",
       "      <th>cardiovasc_death_rate</th>\n",
       "      <th>diabetes_prevalence</th>\n",
       "      <th>female_smokers</th>\n",
       "      <th>male_smokers</th>\n",
       "      <th>handwashing_facilities</th>\n",
       "      <th>hospital_beds_per_thousand</th>\n",
       "      <th>life_expectancy</th>\n",
       "    </tr>\n",
       "  </thead>\n",
       "  <tbody>\n",
       "    <tr>\n",
       "      <th>17719</th>\n",
       "      <td>IND</td>\n",
       "      <td>Asia</td>\n",
       "      <td>India</td>\n",
       "      <td>2019-12-31</td>\n",
       "      <td>0.0</td>\n",
       "      <td>0.0</td>\n",
       "      <td>NaN</td>\n",
       "      <td>0.0</td>\n",
       "      <td>0.0</td>\n",
       "      <td>NaN</td>\n",
       "      <td>...</td>\n",
       "      <td>3.414</td>\n",
       "      <td>6426.674</td>\n",
       "      <td>21.2</td>\n",
       "      <td>282.28</td>\n",
       "      <td>10.39</td>\n",
       "      <td>1.9</td>\n",
       "      <td>20.6</td>\n",
       "      <td>59.55</td>\n",
       "      <td>0.53</td>\n",
       "      <td>69.66</td>\n",
       "    </tr>\n",
       "    <tr>\n",
       "      <th>17720</th>\n",
       "      <td>IND</td>\n",
       "      <td>Asia</td>\n",
       "      <td>India</td>\n",
       "      <td>2020-01-01</td>\n",
       "      <td>0.0</td>\n",
       "      <td>0.0</td>\n",
       "      <td>NaN</td>\n",
       "      <td>0.0</td>\n",
       "      <td>0.0</td>\n",
       "      <td>NaN</td>\n",
       "      <td>...</td>\n",
       "      <td>3.414</td>\n",
       "      <td>6426.674</td>\n",
       "      <td>21.2</td>\n",
       "      <td>282.28</td>\n",
       "      <td>10.39</td>\n",
       "      <td>1.9</td>\n",
       "      <td>20.6</td>\n",
       "      <td>59.55</td>\n",
       "      <td>0.53</td>\n",
       "      <td>69.66</td>\n",
       "    </tr>\n",
       "    <tr>\n",
       "      <th>17721</th>\n",
       "      <td>IND</td>\n",
       "      <td>Asia</td>\n",
       "      <td>India</td>\n",
       "      <td>2020-01-02</td>\n",
       "      <td>0.0</td>\n",
       "      <td>0.0</td>\n",
       "      <td>NaN</td>\n",
       "      <td>0.0</td>\n",
       "      <td>0.0</td>\n",
       "      <td>NaN</td>\n",
       "      <td>...</td>\n",
       "      <td>3.414</td>\n",
       "      <td>6426.674</td>\n",
       "      <td>21.2</td>\n",
       "      <td>282.28</td>\n",
       "      <td>10.39</td>\n",
       "      <td>1.9</td>\n",
       "      <td>20.6</td>\n",
       "      <td>59.55</td>\n",
       "      <td>0.53</td>\n",
       "      <td>69.66</td>\n",
       "    </tr>\n",
       "    <tr>\n",
       "      <th>17722</th>\n",
       "      <td>IND</td>\n",
       "      <td>Asia</td>\n",
       "      <td>India</td>\n",
       "      <td>2020-01-03</td>\n",
       "      <td>0.0</td>\n",
       "      <td>0.0</td>\n",
       "      <td>NaN</td>\n",
       "      <td>0.0</td>\n",
       "      <td>0.0</td>\n",
       "      <td>NaN</td>\n",
       "      <td>...</td>\n",
       "      <td>3.414</td>\n",
       "      <td>6426.674</td>\n",
       "      <td>21.2</td>\n",
       "      <td>282.28</td>\n",
       "      <td>10.39</td>\n",
       "      <td>1.9</td>\n",
       "      <td>20.6</td>\n",
       "      <td>59.55</td>\n",
       "      <td>0.53</td>\n",
       "      <td>69.66</td>\n",
       "    </tr>\n",
       "    <tr>\n",
       "      <th>17723</th>\n",
       "      <td>IND</td>\n",
       "      <td>Asia</td>\n",
       "      <td>India</td>\n",
       "      <td>2020-01-04</td>\n",
       "      <td>0.0</td>\n",
       "      <td>0.0</td>\n",
       "      <td>NaN</td>\n",
       "      <td>0.0</td>\n",
       "      <td>0.0</td>\n",
       "      <td>NaN</td>\n",
       "      <td>...</td>\n",
       "      <td>3.414</td>\n",
       "      <td>6426.674</td>\n",
       "      <td>21.2</td>\n",
       "      <td>282.28</td>\n",
       "      <td>10.39</td>\n",
       "      <td>1.9</td>\n",
       "      <td>20.6</td>\n",
       "      <td>59.55</td>\n",
       "      <td>0.53</td>\n",
       "      <td>69.66</td>\n",
       "    </tr>\n",
       "  </tbody>\n",
       "</table>\n",
       "<p>5 rows × 40 columns</p>\n",
       "</div>"
      ],
      "text/plain": [
       "      iso_code continent location        date  total_cases  new_cases  \\\n",
       "17719      IND      Asia    India  2019-12-31          0.0        0.0   \n",
       "17720      IND      Asia    India  2020-01-01          0.0        0.0   \n",
       "17721      IND      Asia    India  2020-01-02          0.0        0.0   \n",
       "17722      IND      Asia    India  2020-01-03          0.0        0.0   \n",
       "17723      IND      Asia    India  2020-01-04          0.0        0.0   \n",
       "\n",
       "       new_cases_smoothed  total_deaths  new_deaths  new_deaths_smoothed  ...  \\\n",
       "17719                 NaN           0.0         0.0                  NaN  ...   \n",
       "17720                 NaN           0.0         0.0                  NaN  ...   \n",
       "17721                 NaN           0.0         0.0                  NaN  ...   \n",
       "17722                 NaN           0.0         0.0                  NaN  ...   \n",
       "17723                 NaN           0.0         0.0                  NaN  ...   \n",
       "\n",
       "       aged_70_older  gdp_per_capita  extreme_poverty  cardiovasc_death_rate  \\\n",
       "17719          3.414        6426.674             21.2                 282.28   \n",
       "17720          3.414        6426.674             21.2                 282.28   \n",
       "17721          3.414        6426.674             21.2                 282.28   \n",
       "17722          3.414        6426.674             21.2                 282.28   \n",
       "17723          3.414        6426.674             21.2                 282.28   \n",
       "\n",
       "       diabetes_prevalence  female_smokers  male_smokers  \\\n",
       "17719                10.39             1.9          20.6   \n",
       "17720                10.39             1.9          20.6   \n",
       "17721                10.39             1.9          20.6   \n",
       "17722                10.39             1.9          20.6   \n",
       "17723                10.39             1.9          20.6   \n",
       "\n",
       "       handwashing_facilities  hospital_beds_per_thousand  life_expectancy  \n",
       "17719                   59.55                        0.53            69.66  \n",
       "17720                   59.55                        0.53            69.66  \n",
       "17721                   59.55                        0.53            69.66  \n",
       "17722                   59.55                        0.53            69.66  \n",
       "17723                   59.55                        0.53            69.66  \n",
       "\n",
       "[5 rows x 40 columns]"
      ]
     },
     "execution_count": 11,
     "metadata": {},
     "output_type": "execute_result"
    }
   ],
   "source": [
    "# Let's check the new dataset\n",
    "df.head()"
   ]
  },
  {
   "cell_type": "code",
   "execution_count": 12,
   "metadata": {
    "executionInfo": {
     "elapsed": 3038,
     "status": "ok",
     "timestamp": 1595428886385,
     "user": {
      "displayName": "SOUMYAJIT ROY",
      "photoUrl": "",
      "userId": "04273593953313780787"
     },
     "user_tz": -330
    },
    "id": "OEHJG35k6PTW"
   },
   "outputs": [
    {
     "data": {
      "text/html": [
       "<div>\n",
       "<style scoped>\n",
       "    .dataframe tbody tr th:only-of-type {\n",
       "        vertical-align: middle;\n",
       "    }\n",
       "\n",
       "    .dataframe tbody tr th {\n",
       "        vertical-align: top;\n",
       "    }\n",
       "\n",
       "    .dataframe thead th {\n",
       "        text-align: right;\n",
       "    }\n",
       "</style>\n",
       "<table border=\"1\" class=\"dataframe\">\n",
       "  <thead>\n",
       "    <tr style=\"text-align: right;\">\n",
       "      <th></th>\n",
       "      <th>iso_code</th>\n",
       "      <th>continent</th>\n",
       "      <th>location</th>\n",
       "      <th>date</th>\n",
       "      <th>total_cases</th>\n",
       "      <th>new_cases</th>\n",
       "      <th>new_cases_smoothed</th>\n",
       "      <th>total_deaths</th>\n",
       "      <th>new_deaths</th>\n",
       "      <th>new_deaths_smoothed</th>\n",
       "      <th>...</th>\n",
       "      <th>aged_70_older</th>\n",
       "      <th>gdp_per_capita</th>\n",
       "      <th>extreme_poverty</th>\n",
       "      <th>cardiovasc_death_rate</th>\n",
       "      <th>diabetes_prevalence</th>\n",
       "      <th>female_smokers</th>\n",
       "      <th>male_smokers</th>\n",
       "      <th>handwashing_facilities</th>\n",
       "      <th>hospital_beds_per_thousand</th>\n",
       "      <th>life_expectancy</th>\n",
       "    </tr>\n",
       "  </thead>\n",
       "  <tbody>\n",
       "    <tr>\n",
       "      <th>17967</th>\n",
       "      <td>IND</td>\n",
       "      <td>Asia</td>\n",
       "      <td>India</td>\n",
       "      <td>2020-09-04</td>\n",
       "      <td>3936747.0</td>\n",
       "      <td>83341.0</td>\n",
       "      <td>78463.857</td>\n",
       "      <td>68472.0</td>\n",
       "      <td>1096.0</td>\n",
       "      <td>991.857</td>\n",
       "      <td>...</td>\n",
       "      <td>3.414</td>\n",
       "      <td>6426.674</td>\n",
       "      <td>21.2</td>\n",
       "      <td>282.28</td>\n",
       "      <td>10.39</td>\n",
       "      <td>1.9</td>\n",
       "      <td>20.6</td>\n",
       "      <td>59.55</td>\n",
       "      <td>0.53</td>\n",
       "      <td>69.66</td>\n",
       "    </tr>\n",
       "    <tr>\n",
       "      <th>17968</th>\n",
       "      <td>IND</td>\n",
       "      <td>Asia</td>\n",
       "      <td>India</td>\n",
       "      <td>2020-09-05</td>\n",
       "      <td>4023179.0</td>\n",
       "      <td>86432.0</td>\n",
       "      <td>79886.714</td>\n",
       "      <td>69561.0</td>\n",
       "      <td>1089.0</td>\n",
       "      <td>1001.571</td>\n",
       "      <td>...</td>\n",
       "      <td>3.414</td>\n",
       "      <td>6426.674</td>\n",
       "      <td>21.2</td>\n",
       "      <td>282.28</td>\n",
       "      <td>10.39</td>\n",
       "      <td>1.9</td>\n",
       "      <td>20.6</td>\n",
       "      <td>59.55</td>\n",
       "      <td>0.53</td>\n",
       "      <td>69.66</td>\n",
       "    </tr>\n",
       "    <tr>\n",
       "      <th>17969</th>\n",
       "      <td>IND</td>\n",
       "      <td>Asia</td>\n",
       "      <td>India</td>\n",
       "      <td>2020-09-06</td>\n",
       "      <td>4113811.0</td>\n",
       "      <td>90632.0</td>\n",
       "      <td>81582.571</td>\n",
       "      <td>70626.0</td>\n",
       "      <td>1065.0</td>\n",
       "      <td>1018.286</td>\n",
       "      <td>...</td>\n",
       "      <td>3.414</td>\n",
       "      <td>6426.674</td>\n",
       "      <td>21.2</td>\n",
       "      <td>282.28</td>\n",
       "      <td>10.39</td>\n",
       "      <td>1.9</td>\n",
       "      <td>20.6</td>\n",
       "      <td>59.55</td>\n",
       "      <td>0.53</td>\n",
       "      <td>69.66</td>\n",
       "    </tr>\n",
       "    <tr>\n",
       "      <th>17970</th>\n",
       "      <td>IND</td>\n",
       "      <td>Asia</td>\n",
       "      <td>India</td>\n",
       "      <td>2020-09-07</td>\n",
       "      <td>4204613.0</td>\n",
       "      <td>90802.0</td>\n",
       "      <td>83338.286</td>\n",
       "      <td>71642.0</td>\n",
       "      <td>1016.0</td>\n",
       "      <td>1024.714</td>\n",
       "      <td>...</td>\n",
       "      <td>3.414</td>\n",
       "      <td>6426.674</td>\n",
       "      <td>21.2</td>\n",
       "      <td>282.28</td>\n",
       "      <td>10.39</td>\n",
       "      <td>1.9</td>\n",
       "      <td>20.6</td>\n",
       "      <td>59.55</td>\n",
       "      <td>0.53</td>\n",
       "      <td>69.66</td>\n",
       "    </tr>\n",
       "    <tr>\n",
       "      <th>17971</th>\n",
       "      <td>IND</td>\n",
       "      <td>Asia</td>\n",
       "      <td>India</td>\n",
       "      <td>2020-09-08</td>\n",
       "      <td>4280422.0</td>\n",
       "      <td>75809.0</td>\n",
       "      <td>84179.429</td>\n",
       "      <td>72775.0</td>\n",
       "      <td>1133.0</td>\n",
       "      <td>1078.143</td>\n",
       "      <td>...</td>\n",
       "      <td>3.414</td>\n",
       "      <td>6426.674</td>\n",
       "      <td>21.2</td>\n",
       "      <td>282.28</td>\n",
       "      <td>10.39</td>\n",
       "      <td>1.9</td>\n",
       "      <td>20.6</td>\n",
       "      <td>59.55</td>\n",
       "      <td>0.53</td>\n",
       "      <td>69.66</td>\n",
       "    </tr>\n",
       "  </tbody>\n",
       "</table>\n",
       "<p>5 rows × 40 columns</p>\n",
       "</div>"
      ],
      "text/plain": [
       "      iso_code continent location        date  total_cases  new_cases  \\\n",
       "17967      IND      Asia    India  2020-09-04    3936747.0    83341.0   \n",
       "17968      IND      Asia    India  2020-09-05    4023179.0    86432.0   \n",
       "17969      IND      Asia    India  2020-09-06    4113811.0    90632.0   \n",
       "17970      IND      Asia    India  2020-09-07    4204613.0    90802.0   \n",
       "17971      IND      Asia    India  2020-09-08    4280422.0    75809.0   \n",
       "\n",
       "       new_cases_smoothed  total_deaths  new_deaths  new_deaths_smoothed  ...  \\\n",
       "17967           78463.857       68472.0      1096.0              991.857  ...   \n",
       "17968           79886.714       69561.0      1089.0             1001.571  ...   \n",
       "17969           81582.571       70626.0      1065.0             1018.286  ...   \n",
       "17970           83338.286       71642.0      1016.0             1024.714  ...   \n",
       "17971           84179.429       72775.0      1133.0             1078.143  ...   \n",
       "\n",
       "       aged_70_older  gdp_per_capita  extreme_poverty  cardiovasc_death_rate  \\\n",
       "17967          3.414        6426.674             21.2                 282.28   \n",
       "17968          3.414        6426.674             21.2                 282.28   \n",
       "17969          3.414        6426.674             21.2                 282.28   \n",
       "17970          3.414        6426.674             21.2                 282.28   \n",
       "17971          3.414        6426.674             21.2                 282.28   \n",
       "\n",
       "       diabetes_prevalence  female_smokers  male_smokers  \\\n",
       "17967                10.39             1.9          20.6   \n",
       "17968                10.39             1.9          20.6   \n",
       "17969                10.39             1.9          20.6   \n",
       "17970                10.39             1.9          20.6   \n",
       "17971                10.39             1.9          20.6   \n",
       "\n",
       "       handwashing_facilities  hospital_beds_per_thousand  life_expectancy  \n",
       "17967                   59.55                        0.53            69.66  \n",
       "17968                   59.55                        0.53            69.66  \n",
       "17969                   59.55                        0.53            69.66  \n",
       "17970                   59.55                        0.53            69.66  \n",
       "17971                   59.55                        0.53            69.66  \n",
       "\n",
       "[5 rows x 40 columns]"
      ]
     },
     "execution_count": 12,
     "metadata": {},
     "output_type": "execute_result"
    }
   ],
   "source": [
    "df.tail()"
   ]
  },
  {
   "cell_type": "code",
   "execution_count": 13,
   "metadata": {
    "executionInfo": {
     "elapsed": 3030,
     "status": "ok",
     "timestamp": 1595428886387,
     "user": {
      "displayName": "SOUMYAJIT ROY",
      "photoUrl": "",
      "userId": "04273593953313780787"
     },
     "user_tz": -330
    },
    "id": "6OQgQnE96xUB"
   },
   "outputs": [
    {
     "data": {
      "text/plain": [
       "(253, 40)"
      ]
     },
     "execution_count": 13,
     "metadata": {},
     "output_type": "execute_result"
    }
   ],
   "source": [
    "df.shape"
   ]
  },
  {
   "cell_type": "code",
   "execution_count": 14,
   "metadata": {
    "executionInfo": {
     "elapsed": 3019,
     "status": "ok",
     "timestamp": 1595428886389,
     "user": {
      "displayName": "SOUMYAJIT ROY",
      "photoUrl": "",
      "userId": "04273593953313780787"
     },
     "user_tz": -330
    },
    "id": "8Hy1XU3O66Qe",
    "outputId": "9325f74e-af7b-4302-a080-9f3d7295d379"
   },
   "outputs": [
    {
     "name": "stdout",
     "output_type": "stream",
     "text": [
      "<class 'pandas.core.frame.DataFrame'>\n",
      "Int64Index: 253 entries, 17719 to 17971\n",
      "Data columns (total 40 columns):\n",
      " #   Column                           Non-Null Count  Dtype  \n",
      "---  ------                           --------------  -----  \n",
      " 0   iso_code                         253 non-null    object \n",
      " 1   continent                        253 non-null    object \n",
      " 2   location                         253 non-null    object \n",
      " 3   date                             253 non-null    object \n",
      " 4   total_cases                      252 non-null    float64\n",
      " 5   new_cases                        252 non-null    float64\n",
      " 6   new_cases_smoothed               247 non-null    float64\n",
      " 7   total_deaths                     252 non-null    float64\n",
      " 8   new_deaths                       252 non-null    float64\n",
      " 9   new_deaths_smoothed              247 non-null    float64\n",
      " 10  total_cases_per_million          252 non-null    float64\n",
      " 11  new_cases_per_million            252 non-null    float64\n",
      " 12  new_cases_smoothed_per_million   247 non-null    float64\n",
      " 13  total_deaths_per_million         252 non-null    float64\n",
      " 14  new_deaths_per_million           252 non-null    float64\n",
      " 15  new_deaths_smoothed_per_million  247 non-null    float64\n",
      " 16  new_tests                        160 non-null    float64\n",
      " 17  total_tests                      166 non-null    float64\n",
      " 18  total_tests_per_thousand         166 non-null    float64\n",
      " 19  new_tests_per_thousand           160 non-null    float64\n",
      " 20  new_tests_smoothed               171 non-null    float64\n",
      " 21  new_tests_smoothed_per_thousand  171 non-null    float64\n",
      " 22  tests_per_case                   171 non-null    float64\n",
      " 23  positive_rate                    171 non-null    float64\n",
      " 24  tests_units                      178 non-null    object \n",
      " 25  stringency_index                 250 non-null    float64\n",
      " 26  population                       253 non-null    float64\n",
      " 27  population_density               253 non-null    float64\n",
      " 28  median_age                       253 non-null    float64\n",
      " 29  aged_65_older                    253 non-null    float64\n",
      " 30  aged_70_older                    253 non-null    float64\n",
      " 31  gdp_per_capita                   253 non-null    float64\n",
      " 32  extreme_poverty                  253 non-null    float64\n",
      " 33  cardiovasc_death_rate            253 non-null    float64\n",
      " 34  diabetes_prevalence              253 non-null    float64\n",
      " 35  female_smokers                   253 non-null    float64\n",
      " 36  male_smokers                     253 non-null    float64\n",
      " 37  handwashing_facilities           253 non-null    float64\n",
      " 38  hospital_beds_per_thousand       253 non-null    float64\n",
      " 39  life_expectancy                  253 non-null    float64\n",
      "dtypes: float64(35), object(5)\n",
      "memory usage: 81.0+ KB\n"
     ]
    }
   ],
   "source": [
    "# Information about the new Dataset\n",
    "df.info()"
   ]
  },
  {
   "cell_type": "markdown",
   "metadata": {},
   "source": [
    "Here Null values are present on the dataset. Here the categorical columns also have null values so we have to replace them by the mode of that column. And for the numerical columns the Null values must be replaced by the mean."
   ]
  },
  {
   "cell_type": "code",
   "execution_count": 15,
   "metadata": {
    "executionInfo": {
     "elapsed": 3007,
     "status": "ok",
     "timestamp": 1595428886391,
     "user": {
      "displayName": "SOUMYAJIT ROY",
      "photoUrl": "",
      "userId": "04273593953313780787"
     },
     "user_tz": -330
    },
    "id": "O_hZZeWM7D_M",
    "outputId": "51a094e3-2a87-4998-8570-cc968156d966"
   },
   "outputs": [
    {
     "data": {
      "text/html": [
       "<div>\n",
       "<style scoped>\n",
       "    .dataframe tbody tr th:only-of-type {\n",
       "        vertical-align: middle;\n",
       "    }\n",
       "\n",
       "    .dataframe tbody tr th {\n",
       "        vertical-align: top;\n",
       "    }\n",
       "\n",
       "    .dataframe thead th {\n",
       "        text-align: right;\n",
       "    }\n",
       "</style>\n",
       "<table border=\"1\" class=\"dataframe\">\n",
       "  <thead>\n",
       "    <tr style=\"text-align: right;\">\n",
       "      <th></th>\n",
       "      <th>total_cases</th>\n",
       "      <th>new_cases</th>\n",
       "      <th>new_cases_smoothed</th>\n",
       "      <th>total_deaths</th>\n",
       "      <th>new_deaths</th>\n",
       "      <th>new_deaths_smoothed</th>\n",
       "      <th>total_cases_per_million</th>\n",
       "      <th>new_cases_per_million</th>\n",
       "      <th>new_cases_smoothed_per_million</th>\n",
       "      <th>total_deaths_per_million</th>\n",
       "      <th>...</th>\n",
       "      <th>aged_70_older</th>\n",
       "      <th>gdp_per_capita</th>\n",
       "      <th>extreme_poverty</th>\n",
       "      <th>cardiovasc_death_rate</th>\n",
       "      <th>diabetes_prevalence</th>\n",
       "      <th>female_smokers</th>\n",
       "      <th>male_smokers</th>\n",
       "      <th>handwashing_facilities</th>\n",
       "      <th>hospital_beds_per_thousand</th>\n",
       "      <th>life_expectancy</th>\n",
       "    </tr>\n",
       "  </thead>\n",
       "  <tbody>\n",
       "    <tr>\n",
       "      <th>count</th>\n",
       "      <td>2.520000e+02</td>\n",
       "      <td>252.000000</td>\n",
       "      <td>247.000000</td>\n",
       "      <td>252.000000</td>\n",
       "      <td>252.000000</td>\n",
       "      <td>247.000000</td>\n",
       "      <td>252.000000</td>\n",
       "      <td>252.000000</td>\n",
       "      <td>247.000000</td>\n",
       "      <td>252.000000</td>\n",
       "      <td>...</td>\n",
       "      <td>2.530000e+02</td>\n",
       "      <td>2.530000e+02</td>\n",
       "      <td>2.530000e+02</td>\n",
       "      <td>2.530000e+02</td>\n",
       "      <td>2.530000e+02</td>\n",
       "      <td>2.530000e+02</td>\n",
       "      <td>2.530000e+02</td>\n",
       "      <td>2.530000e+02</td>\n",
       "      <td>2.530000e+02</td>\n",
       "      <td>2.530000e+02</td>\n",
       "    </tr>\n",
       "    <tr>\n",
       "      <th>mean</th>\n",
       "      <td>6.280524e+05</td>\n",
       "      <td>16985.801587</td>\n",
       "      <td>16299.422239</td>\n",
       "      <td>13181.420635</td>\n",
       "      <td>288.789683</td>\n",
       "      <td>281.541364</td>\n",
       "      <td>455.108960</td>\n",
       "      <td>12.308504</td>\n",
       "      <td>11.811126</td>\n",
       "      <td>9.551718</td>\n",
       "      <td>...</td>\n",
       "      <td>3.414000e+00</td>\n",
       "      <td>6.426674e+03</td>\n",
       "      <td>2.120000e+01</td>\n",
       "      <td>2.822800e+02</td>\n",
       "      <td>1.039000e+01</td>\n",
       "      <td>1.900000e+00</td>\n",
       "      <td>2.060000e+01</td>\n",
       "      <td>5.955000e+01</td>\n",
       "      <td>5.300000e-01</td>\n",
       "      <td>6.966000e+01</td>\n",
       "    </tr>\n",
       "    <tr>\n",
       "      <th>std</th>\n",
       "      <td>1.071678e+06</td>\n",
       "      <td>25063.367772</td>\n",
       "      <td>24022.379330</td>\n",
       "      <td>19937.914767</td>\n",
       "      <td>372.085957</td>\n",
       "      <td>348.136870</td>\n",
       "      <td>776.576065</td>\n",
       "      <td>18.161784</td>\n",
       "      <td>17.407475</td>\n",
       "      <td>14.447694</td>\n",
       "      <td>...</td>\n",
       "      <td>1.023430e-14</td>\n",
       "      <td>4.100839e-11</td>\n",
       "      <td>9.967316e-14</td>\n",
       "      <td>7.973853e-13</td>\n",
       "      <td>7.119511e-15</td>\n",
       "      <td>8.454420e-15</td>\n",
       "      <td>2.847805e-14</td>\n",
       "      <td>2.563024e-13</td>\n",
       "      <td>8.899389e-16</td>\n",
       "      <td>1.139122e-13</td>\n",
       "    </tr>\n",
       "    <tr>\n",
       "      <th>min</th>\n",
       "      <td>0.000000e+00</td>\n",
       "      <td>0.000000</td>\n",
       "      <td>0.000000</td>\n",
       "      <td>0.000000</td>\n",
       "      <td>0.000000</td>\n",
       "      <td>0.000000</td>\n",
       "      <td>0.000000</td>\n",
       "      <td>0.000000</td>\n",
       "      <td>0.000000</td>\n",
       "      <td>0.000000</td>\n",
       "      <td>...</td>\n",
       "      <td>3.414000e+00</td>\n",
       "      <td>6.426674e+03</td>\n",
       "      <td>2.120000e+01</td>\n",
       "      <td>2.822800e+02</td>\n",
       "      <td>1.039000e+01</td>\n",
       "      <td>1.900000e+00</td>\n",
       "      <td>2.060000e+01</td>\n",
       "      <td>5.955000e+01</td>\n",
       "      <td>5.300000e-01</td>\n",
       "      <td>6.966000e+01</td>\n",
       "    </tr>\n",
       "    <tr>\n",
       "      <th>25%</th>\n",
       "      <td>4.500000e+00</td>\n",
       "      <td>1.000000</td>\n",
       "      <td>4.214500</td>\n",
       "      <td>0.000000</td>\n",
       "      <td>0.000000</td>\n",
       "      <td>0.000000</td>\n",
       "      <td>0.003500</td>\n",
       "      <td>0.001000</td>\n",
       "      <td>0.003000</td>\n",
       "      <td>0.000000</td>\n",
       "      <td>...</td>\n",
       "      <td>3.414000e+00</td>\n",
       "      <td>6.426674e+03</td>\n",
       "      <td>2.120000e+01</td>\n",
       "      <td>2.822800e+02</td>\n",
       "      <td>1.039000e+01</td>\n",
       "      <td>1.900000e+00</td>\n",
       "      <td>2.060000e+01</td>\n",
       "      <td>5.955000e+01</td>\n",
       "      <td>5.300000e-01</td>\n",
       "      <td>6.966000e+01</td>\n",
       "    </tr>\n",
       "    <tr>\n",
       "      <th>50%</th>\n",
       "      <td>4.791200e+04</td>\n",
       "      <td>3117.500000</td>\n",
       "      <td>3042.714000</td>\n",
       "      <td>1631.000000</td>\n",
       "      <td>88.000000</td>\n",
       "      <td>103.000000</td>\n",
       "      <td>34.718500</td>\n",
       "      <td>2.259000</td>\n",
       "      <td>2.205000</td>\n",
       "      <td>1.182000</td>\n",
       "      <td>...</td>\n",
       "      <td>3.414000e+00</td>\n",
       "      <td>6.426674e+03</td>\n",
       "      <td>2.120000e+01</td>\n",
       "      <td>2.822800e+02</td>\n",
       "      <td>1.039000e+01</td>\n",
       "      <td>1.900000e+00</td>\n",
       "      <td>2.060000e+01</td>\n",
       "      <td>5.955000e+01</td>\n",
       "      <td>5.300000e-01</td>\n",
       "      <td>6.966000e+01</td>\n",
       "    </tr>\n",
       "    <tr>\n",
       "      <th>75%</th>\n",
       "      <td>7.253530e+05</td>\n",
       "      <td>24398.500000</td>\n",
       "      <td>22827.071500</td>\n",
       "      <td>20280.500000</td>\n",
       "      <td>490.250000</td>\n",
       "      <td>532.357000</td>\n",
       "      <td>525.616750</td>\n",
       "      <td>17.680000</td>\n",
       "      <td>16.541500</td>\n",
       "      <td>14.696250</td>\n",
       "      <td>...</td>\n",
       "      <td>3.414000e+00</td>\n",
       "      <td>6.426674e+03</td>\n",
       "      <td>2.120000e+01</td>\n",
       "      <td>2.822800e+02</td>\n",
       "      <td>1.039000e+01</td>\n",
       "      <td>1.900000e+00</td>\n",
       "      <td>2.060000e+01</td>\n",
       "      <td>5.955000e+01</td>\n",
       "      <td>5.300000e-01</td>\n",
       "      <td>6.966000e+01</td>\n",
       "    </tr>\n",
       "    <tr>\n",
       "      <th>max</th>\n",
       "      <td>4.280422e+06</td>\n",
       "      <td>90802.000000</td>\n",
       "      <td>84179.429000</td>\n",
       "      <td>72775.000000</td>\n",
       "      <td>2003.000000</td>\n",
       "      <td>1078.143000</td>\n",
       "      <td>3101.745000</td>\n",
       "      <td>65.798000</td>\n",
       "      <td>60.999000</td>\n",
       "      <td>52.735000</td>\n",
       "      <td>...</td>\n",
       "      <td>3.414000e+00</td>\n",
       "      <td>6.426674e+03</td>\n",
       "      <td>2.120000e+01</td>\n",
       "      <td>2.822800e+02</td>\n",
       "      <td>1.039000e+01</td>\n",
       "      <td>1.900000e+00</td>\n",
       "      <td>2.060000e+01</td>\n",
       "      <td>5.955000e+01</td>\n",
       "      <td>5.300000e-01</td>\n",
       "      <td>6.966000e+01</td>\n",
       "    </tr>\n",
       "  </tbody>\n",
       "</table>\n",
       "<p>8 rows × 35 columns</p>\n",
       "</div>"
      ],
      "text/plain": [
       "        total_cases     new_cases  new_cases_smoothed  total_deaths  \\\n",
       "count  2.520000e+02    252.000000          247.000000    252.000000   \n",
       "mean   6.280524e+05  16985.801587        16299.422239  13181.420635   \n",
       "std    1.071678e+06  25063.367772        24022.379330  19937.914767   \n",
       "min    0.000000e+00      0.000000            0.000000      0.000000   \n",
       "25%    4.500000e+00      1.000000            4.214500      0.000000   \n",
       "50%    4.791200e+04   3117.500000         3042.714000   1631.000000   \n",
       "75%    7.253530e+05  24398.500000        22827.071500  20280.500000   \n",
       "max    4.280422e+06  90802.000000        84179.429000  72775.000000   \n",
       "\n",
       "        new_deaths  new_deaths_smoothed  total_cases_per_million  \\\n",
       "count   252.000000           247.000000               252.000000   \n",
       "mean    288.789683           281.541364               455.108960   \n",
       "std     372.085957           348.136870               776.576065   \n",
       "min       0.000000             0.000000                 0.000000   \n",
       "25%       0.000000             0.000000                 0.003500   \n",
       "50%      88.000000           103.000000                34.718500   \n",
       "75%     490.250000           532.357000               525.616750   \n",
       "max    2003.000000          1078.143000              3101.745000   \n",
       "\n",
       "       new_cases_per_million  new_cases_smoothed_per_million  \\\n",
       "count             252.000000                      247.000000   \n",
       "mean               12.308504                       11.811126   \n",
       "std                18.161784                       17.407475   \n",
       "min                 0.000000                        0.000000   \n",
       "25%                 0.001000                        0.003000   \n",
       "50%                 2.259000                        2.205000   \n",
       "75%                17.680000                       16.541500   \n",
       "max                65.798000                       60.999000   \n",
       "\n",
       "       total_deaths_per_million  ...  aged_70_older  gdp_per_capita  \\\n",
       "count                252.000000  ...   2.530000e+02    2.530000e+02   \n",
       "mean                   9.551718  ...   3.414000e+00    6.426674e+03   \n",
       "std                   14.447694  ...   1.023430e-14    4.100839e-11   \n",
       "min                    0.000000  ...   3.414000e+00    6.426674e+03   \n",
       "25%                    0.000000  ...   3.414000e+00    6.426674e+03   \n",
       "50%                    1.182000  ...   3.414000e+00    6.426674e+03   \n",
       "75%                   14.696250  ...   3.414000e+00    6.426674e+03   \n",
       "max                   52.735000  ...   3.414000e+00    6.426674e+03   \n",
       "\n",
       "       extreme_poverty  cardiovasc_death_rate  diabetes_prevalence  \\\n",
       "count     2.530000e+02           2.530000e+02         2.530000e+02   \n",
       "mean      2.120000e+01           2.822800e+02         1.039000e+01   \n",
       "std       9.967316e-14           7.973853e-13         7.119511e-15   \n",
       "min       2.120000e+01           2.822800e+02         1.039000e+01   \n",
       "25%       2.120000e+01           2.822800e+02         1.039000e+01   \n",
       "50%       2.120000e+01           2.822800e+02         1.039000e+01   \n",
       "75%       2.120000e+01           2.822800e+02         1.039000e+01   \n",
       "max       2.120000e+01           2.822800e+02         1.039000e+01   \n",
       "\n",
       "       female_smokers  male_smokers  handwashing_facilities  \\\n",
       "count    2.530000e+02  2.530000e+02            2.530000e+02   \n",
       "mean     1.900000e+00  2.060000e+01            5.955000e+01   \n",
       "std      8.454420e-15  2.847805e-14            2.563024e-13   \n",
       "min      1.900000e+00  2.060000e+01            5.955000e+01   \n",
       "25%      1.900000e+00  2.060000e+01            5.955000e+01   \n",
       "50%      1.900000e+00  2.060000e+01            5.955000e+01   \n",
       "75%      1.900000e+00  2.060000e+01            5.955000e+01   \n",
       "max      1.900000e+00  2.060000e+01            5.955000e+01   \n",
       "\n",
       "       hospital_beds_per_thousand  life_expectancy  \n",
       "count                2.530000e+02     2.530000e+02  \n",
       "mean                 5.300000e-01     6.966000e+01  \n",
       "std                  8.899389e-16     1.139122e-13  \n",
       "min                  5.300000e-01     6.966000e+01  \n",
       "25%                  5.300000e-01     6.966000e+01  \n",
       "50%                  5.300000e-01     6.966000e+01  \n",
       "75%                  5.300000e-01     6.966000e+01  \n",
       "max                  5.300000e-01     6.966000e+01  \n",
       "\n",
       "[8 rows x 35 columns]"
      ]
     },
     "execution_count": 15,
     "metadata": {},
     "output_type": "execute_result"
    }
   ],
   "source": [
    "# More information on the new dataset\n",
    "df.describe()"
   ]
  },
  {
   "cell_type": "code",
   "execution_count": 16,
   "metadata": {
    "executionInfo": {
     "elapsed": 2993,
     "status": "ok",
     "timestamp": 1595428886393,
     "user": {
      "displayName": "SOUMYAJIT ROY",
      "photoUrl": "",
      "userId": "04273593953313780787"
     },
     "user_tz": -330
    },
    "id": "pCh1XM8t7SV3",
    "outputId": "1abfe1e9-376e-4581-b9f4-cfa61f10f05d"
   },
   "outputs": [
    {
     "data": {
      "text/plain": [
       "iso_code                            0\n",
       "continent                           0\n",
       "location                            0\n",
       "date                                0\n",
       "total_cases                         1\n",
       "new_cases                           1\n",
       "new_cases_smoothed                  6\n",
       "total_deaths                        1\n",
       "new_deaths                          1\n",
       "new_deaths_smoothed                 6\n",
       "total_cases_per_million             1\n",
       "new_cases_per_million               1\n",
       "new_cases_smoothed_per_million      6\n",
       "total_deaths_per_million            1\n",
       "new_deaths_per_million              1\n",
       "new_deaths_smoothed_per_million     6\n",
       "new_tests                          93\n",
       "total_tests                        87\n",
       "total_tests_per_thousand           87\n",
       "new_tests_per_thousand             93\n",
       "new_tests_smoothed                 82\n",
       "new_tests_smoothed_per_thousand    82\n",
       "tests_per_case                     82\n",
       "positive_rate                      82\n",
       "tests_units                        75\n",
       "stringency_index                    3\n",
       "population                          0\n",
       "population_density                  0\n",
       "median_age                          0\n",
       "aged_65_older                       0\n",
       "aged_70_older                       0\n",
       "gdp_per_capita                      0\n",
       "extreme_poverty                     0\n",
       "cardiovasc_death_rate               0\n",
       "diabetes_prevalence                 0\n",
       "female_smokers                      0\n",
       "male_smokers                        0\n",
       "handwashing_facilities              0\n",
       "hospital_beds_per_thousand          0\n",
       "life_expectancy                     0\n",
       "dtype: int64"
      ]
     },
     "execution_count": 16,
     "metadata": {},
     "output_type": "execute_result"
    }
   ],
   "source": [
    "#Checking Null values on the new dataset\n",
    "df.isnull().sum()"
   ]
  },
  {
   "cell_type": "markdown",
   "metadata": {},
   "source": [
    "The Null values on the new dataset are listed above."
   ]
  },
  {
   "cell_type": "code",
   "execution_count": 17,
   "metadata": {
    "executionInfo": {
     "elapsed": 2977,
     "status": "ok",
     "timestamp": 1595428886395,
     "user": {
      "displayName": "SOUMYAJIT ROY",
      "photoUrl": "",
      "userId": "04273593953313780787"
     },
     "user_tz": -330
    },
    "id": "0lhKTAj6DesX",
    "outputId": "d718d5f3-dafd-44fa-ed96-4a94429a8a43"
   },
   "outputs": [
    {
     "data": {
      "text/plain": [
       "Index(['iso_code', 'continent', 'location', 'date', 'total_cases', 'new_cases',\n",
       "       'new_cases_smoothed', 'total_deaths', 'new_deaths',\n",
       "       'new_deaths_smoothed', 'total_cases_per_million',\n",
       "       'new_cases_per_million', 'new_cases_smoothed_per_million',\n",
       "       'total_deaths_per_million', 'new_deaths_per_million',\n",
       "       'new_deaths_smoothed_per_million', 'new_tests', 'total_tests',\n",
       "       'total_tests_per_thousand', 'new_tests_per_thousand',\n",
       "       'new_tests_smoothed', 'new_tests_smoothed_per_thousand',\n",
       "       'tests_per_case', 'positive_rate', 'tests_units', 'stringency_index',\n",
       "       'population', 'population_density', 'median_age', 'aged_65_older',\n",
       "       'aged_70_older', 'gdp_per_capita', 'extreme_poverty',\n",
       "       'cardiovasc_death_rate', 'diabetes_prevalence', 'female_smokers',\n",
       "       'male_smokers', 'handwashing_facilities', 'hospital_beds_per_thousand',\n",
       "       'life_expectancy'],\n",
       "      dtype='object')"
      ]
     },
     "execution_count": 17,
     "metadata": {},
     "output_type": "execute_result"
    }
   ],
   "source": [
    "# To check for number of columns\n",
    "df.columns"
   ]
  },
  {
   "cell_type": "code",
   "execution_count": 25,
   "metadata": {
    "executionInfo": {
     "elapsed": 2967,
     "status": "ok",
     "timestamp": 1595428886397,
     "user": {
      "displayName": "SOUMYAJIT ROY",
      "photoUrl": "",
      "userId": "04273593953313780787"
     },
     "user_tz": -330
    },
    "id": "9jjc7fN4Dhcy"
   },
   "outputs": [],
   "source": [
    "# Defining a variable cols \n",
    "cols=['total_cases', 'new_cases',\n",
    "       'total_deaths', 'new_deaths', 'total_cases_per_million',\n",
    "       'new_cases_per_million', 'total_deaths_per_million',\n",
    "       'new_deaths_per_million', 'total_tests', 'new_tests',\n",
    "       'total_tests_per_thousand', 'new_tests_per_thousand',\n",
    "       'new_tests_smoothed', 'new_tests_smoothed_per_thousand',\n",
    "       'stringency_index', 'population', 'population_density', 'median_age',\n",
    "       'aged_65_older', 'aged_70_older', 'gdp_per_capita', 'extreme_poverty',\n",
    "       'diabetes_prevalence', 'female_smokers',\n",
    "       'male_smokers', 'handwashing_facilities', 'hospital_beds_per_thousand',\n",
    "       'life_expectancy']"
   ]
  },
  {
   "cell_type": "markdown",
   "metadata": {},
   "source": [
    "Now we are going to plot the histogram for all numerical column. The numerical columns are listed above in a variable named cols. Here we will do univariate analysis that mean we will draw histograms on each columns."
   ]
  },
  {
   "cell_type": "code",
   "execution_count": 26,
   "metadata": {
    "executionInfo": {
     "elapsed": 7809,
     "status": "ok",
     "timestamp": 1595428891251,
     "user": {
      "displayName": "SOUMYAJIT ROY",
      "photoUrl": "",
      "userId": "04273593953313780787"
     },
     "user_tz": -330
    },
    "id": "ptZ7urjE-eCc",
    "outputId": "8cbf5b26-cc74-4a49-c8b8-feae746c2e22"
   },
   "outputs": [
    {
     "data": {
      "image/png": "[encoded data removed]",
      "text/plain": [
       "<Figure size 432x288 with 1 Axes>"
      ]
     },
     "metadata": {
      "needs_background": "light"
     },
     "output_type": "display_data"
    },
    {
     "data": {
      "image/png": "[encoded data removed]",
      "text/plain": [
       "<Figure size 432x288 with 1 Axes>"
      ]
     },
     "metadata": {
      "needs_background": "light"
     },
     "output_type": "display_data"
    },
    {
     "data": {
      "image/png": "[encoded data removed]",
      "text/plain": [
       "<Figure size 432x288 with 1 Axes>"
      ]
     },
     "metadata": {
      "needs_background": "light"
     },
     "output_type": "display_data"
    },
    {
     "data": {
      "image/png": "[encoded data removed]",
      "text/plain": [
       "<Figure size 432x288 with 1 Axes>"
      ]
     },
     "metadata": {
      "needs_background": "light"
     },
     "output_type": "display_data"
    },
    {
     "data": {
      "image/png": "[encoded data removed]",
      "text/plain": [
       "<Figure size 432x288 with 1 Axes>"
      ]
     },
     "metadata": {
      "needs_background": "light"
     },
     "output_type": "display_data"
    },
    {
     "data": {
      "image/png": "[encoded data removed]",
      "text/plain": [
       "<Figure size 432x288 with 1 Axes>"
      ]
     },
     "metadata": {
      "needs_background": "light"
     },
     "output_type": "display_data"
    },
    {
     "data": {
      "image/png": "[encoded data removed]",
      "text/plain": [
       "<Figure size 432x288 with 1 Axes>"
      ]
     },
     "metadata": {
      "needs_background": "light"
     },
     "output_type": "display_data"
    },
    {
     "data": {
      "image/png": "[encoded data removed]",
      "text/plain": [
       "<Figure size 432x288 with 1 Axes>"
      ]
     },
     "metadata": {
      "needs_background": "light"
     },
     "output_type": "display_data"
    },
    {
     "data": {
      "image/png": "[encoded data removed]",
      "text/plain": [
       "<Figure size 432x288 with 1 Axes>"
      ]
     },
     "metadata": {
      "needs_background": "light"
     },
     "output_type": "display_data"
    },
    {
     "data": {
      "image/png": "[encoded data removed]",
      "text/plain": [
       "<Figure size 432x288 with 1 Axes>"
      ]
     },
     "metadata": {
      "needs_background": "light"
     },
     "output_type": "display_data"
    },
    {
     "data": {
      "image/png": "[encoded data removed]",
      "text/plain": [
       "<Figure size 432x288 with 1 Axes>"
      ]
     },
     "metadata": {
      "needs_background": "light"
     },
     "output_type": "display_data"
    },
    {
     "data": {
      "image/png": "[encoded data removed]",
      "text/plain": [
       "<Figure size 432x288 with 1 Axes>"
      ]
     },
     "metadata": {
      "needs_background": "light"
     },
     "output_type": "display_data"
    },
    {
     "data": {
      "image/png": "[encoded data removed]",
      "text/plain": [
       "<Figure size 432x288 with 1 Axes>"
      ]
     },
     "metadata": {
      "needs_background": "light"
     },
     "output_type": "display_data"
    },
    {
     "data": {
      "image/png": "[encoded data removed]",
      "text/plain": [
       "<Figure size 432x288 with 1 Axes>"
      ]
     },
     "metadata": {
      "needs_background": "light"
     },
     "output_type": "display_data"
    },
    {
     "data": {
      "image/png": "[encoded data removed]",
      "text/plain": [
       "<Figure size 432x288 with 1 Axes>"
      ]
     },
     "metadata": {
      "needs_background": "light"
     },
     "output_type": "display_data"
    },
    {
     "data": {
      "image/png": "[encoded data removed]",
      "text/plain": [
       "<Figure size 432x288 with 1 Axes>"
      ]
     },
     "metadata": {
      "needs_background": "light"
     },
     "output_type": "display_data"
    },
    {
     "data": {
      "image/png": "[encoded data removed]",
      "text/plain": [
       "<Figure size 432x288 with 1 Axes>"
      ]
     },
     "metadata": {
      "needs_background": "light"
     },
     "output_type": "display_data"
    },
    {
     "data": {
      "image/png": "[encoded data removed]",
      "text/plain": [
       "<Figure size 432x288 with 1 Axes>"
      ]
     },
     "metadata": {
      "needs_background": "light"
     },
     "output_type": "display_data"
    },
    {
     "data": {
      "image/png": "[encoded data removed]",
      "text/plain": [
       "<Figure size 432x288 with 1 Axes>"
      ]
     },
     "metadata": {
      "needs_background": "light"
     },
     "output_type": "display_data"
    },
    {
     "data": {
      "image/png": "[encoded data removed]",
      "text/plain": [
       "<Figure size 432x288 with 1 Axes>"
      ]
     },
     "metadata": {
      "needs_background": "light"
     },
     "output_type": "display_data"
    },
    {
     "data": {
      "image/png": "[encoded data removed]",
      "text/plain": [
       "<Figure size 432x288 with 1 Axes>"
      ]
     },
     "metadata": {
      "needs_background": "light"
     },
     "output_type": "display_data"
    },
    {
     "data": {
      "image/png": "[encoded data removed]",
      "text/plain": [
       "<Figure size 432x288 with 1 Axes>"
      ]
     },
     "metadata": {
      "needs_background": "light"
     },
     "output_type": "display_data"
    },
    {
     "data": {
      "image/png": "[encoded data removed]",
      "text/plain": [
       "<Figure size 432x288 with 1 Axes>"
      ]
     },
     "metadata": {
      "needs_background": "light"
     },
     "output_type": "display_data"
    },
    {
     "data": {
      "image/png": "[encoded data removed]",
      "text/plain": [
       "<Figure size 432x288 with 1 Axes>"
      ]
     },
     "metadata": {
      "needs_background": "light"
     },
     "output_type": "display_data"
    },
    {
     "data": {
      "image/png": "[encoded data removed]",
      "text/plain": [
       "<Figure size 432x288 with 1 Axes>"
      ]
     },
     "metadata": {
      "needs_background": "light"
     },
     "output_type": "display_data"
    },
    {
     "data": {
      "image/png": "[encoded data removed]",
      "text/plain": [
       "<Figure size 432x288 with 1 Axes>"
      ]
     },
     "metadata": {
      "needs_background": "light"
     },
     "output_type": "display_data"
    },
    {
     "data": {
      "image/png": "[encoded data removed]",
      "text/plain": [
       "<Figure size 432x288 with 1 Axes>"
      ]
     },
     "metadata": {
      "needs_background": "light"
     },
     "output_type": "display_data"
    },
    {
     "data": {
      "image/png": "[encoded data removed]",
      "text/plain": [
       "<Figure size 432x288 with 1 Axes>"
      ]
     },
     "metadata": {
      "needs_background": "light"
     },
     "output_type": "display_data"
    }
   ],
   "source": [
    "#Plotting Histograms\n",
    "for i in cols:\n",
    "  sns.distplot(df[i],kde=False,hist=True,bins=11,hist_kws=dict(edgecolor=\"k\", linewidth=1))\n",
    "  plt.title(\"Histogram\")\n",
    "  plt.ylabel(\"Frequency\")\n",
    "  plt.show()"
   ]
  },
  {
   "cell_type": "markdown",
   "metadata": {},
   "source": [
    "From these histograms we observe that the columns new_deaths , new_deaths_per_million consists of outliers . So we have to remove the outliers before making prediction on the model."
   ]
  },
  {
   "cell_type": "code",
   "execution_count": 27,
   "metadata": {
    "executionInfo": {
     "elapsed": 7800,
     "status": "ok",
     "timestamp": 1595428891254,
     "user": {
      "displayName": "SOUMYAJIT ROY",
      "photoUrl": "",
      "userId": "04273593953313780787"
     },
     "user_tz": -330
    },
    "id": "UB23fEwvgJSQ"
   },
   "outputs": [],
   "source": [
    "#Plotting Boxplots\n",
    "\n",
    "# for i in cols:\n",
    "#   sns.boxplot(y=i, data = df)\n",
    "#   #sns.boxplot(y=i, data = df)\n",
    "#   plt.title(\"Boxplot 11\")\n",
    "#   plt.show()"
   ]
  },
  {
   "cell_type": "markdown",
   "metadata": {},
   "source": [
    "Now calculating the mean median mode of the new dataset."
   ]
  },
  {
   "cell_type": "code",
   "execution_count": 28,
   "metadata": {
    "executionInfo": {
     "elapsed": 7790,
     "status": "ok",
     "timestamp": 1595428891256,
     "user": {
      "displayName": "SOUMYAJIT ROY",
      "photoUrl": "",
      "userId": "04273593953313780787"
     },
     "user_tz": -330
    },
    "id": "SsWxL5h_IXw1",
    "outputId": "f80e128a-c8fe-4adc-8d5c-0204a16c7f45"
   },
   "outputs": [
    {
     "data": {
      "text/plain": [
       "total_cases                        6.280524e+05\n",
       "new_cases                          1.698580e+04\n",
       "new_cases_smoothed                 1.629942e+04\n",
       "total_deaths                       1.318142e+04\n",
       "new_deaths                         2.887897e+02\n",
       "new_deaths_smoothed                2.815414e+02\n",
       "total_cases_per_million            4.551090e+02\n",
       "new_cases_per_million              1.230850e+01\n",
       "new_cases_smoothed_per_million     1.181113e+01\n",
       "total_deaths_per_million           9.551718e+00\n",
       "new_deaths_per_million             2.092619e-01\n",
       "new_deaths_smoothed_per_million    2.040162e-01\n",
       "new_tests                          3.043516e+05\n",
       "total_tests                        1.122553e+07\n",
       "total_tests_per_thousand           8.134440e+00\n",
       "new_tests_per_thousand             2.205687e-01\n",
       "new_tests_smoothed                 2.662121e+05\n",
       "new_tests_smoothed_per_thousand    1.929064e-01\n",
       "tests_per_case                     1.842281e+01\n",
       "positive_rate                      6.624561e-02\n",
       "stringency_index                   6.074712e+01\n",
       "population                         1.380004e+09\n",
       "population_density                 4.504190e+02\n",
       "median_age                         2.820000e+01\n",
       "aged_65_older                      5.989000e+00\n",
       "aged_70_older                      3.414000e+00\n",
       "gdp_per_capita                     6.426674e+03\n",
       "extreme_poverty                    2.120000e+01\n",
       "cardiovasc_death_rate              2.822800e+02\n",
       "diabetes_prevalence                1.039000e+01\n",
       "female_smokers                     1.900000e+00\n",
       "male_smokers                       2.060000e+01\n",
       "handwashing_facilities             5.955000e+01\n",
       "hospital_beds_per_thousand         5.300000e-01\n",
       "life_expectancy                    6.966000e+01\n",
       "dtype: float64"
      ]
     },
     "execution_count": 28,
     "metadata": {},
     "output_type": "execute_result"
    }
   ],
   "source": [
    "# Checking the mean of each column in the new dataset\n",
    "df.mean()"
   ]
  },
  {
   "cell_type": "code",
   "execution_count": 29,
   "metadata": {
    "executionInfo": {
     "elapsed": 7779,
     "status": "ok",
     "timestamp": 1595428891260,
     "user": {
      "displayName": "SOUMYAJIT ROY",
      "photoUrl": "",
      "userId": "04273593953313780787"
     },
     "user_tz": -330
    },
    "id": "lIgkeh90Iaqd",
    "outputId": "6a2e30f1-5c11-4680-cbef-43e648ed8c18"
   },
   "outputs": [
    {
     "data": {
      "text/plain": [
       "total_cases                        4.791200e+04\n",
       "new_cases                          3.117500e+03\n",
       "new_cases_smoothed                 3.042714e+03\n",
       "total_deaths                       1.631000e+03\n",
       "new_deaths                         8.800000e+01\n",
       "new_deaths_smoothed                1.030000e+02\n",
       "total_cases_per_million            3.471850e+01\n",
       "new_cases_per_million              2.259000e+00\n",
       "new_cases_smoothed_per_million     2.205000e+00\n",
       "total_deaths_per_million           1.182000e+00\n",
       "new_deaths_per_million             6.350000e-02\n",
       "new_deaths_smoothed_per_million    7.500000e-02\n",
       "new_tests                          1.642995e+05\n",
       "total_tests                        5.847601e+06\n",
       "total_tests_per_thousand           4.237500e+00\n",
       "new_tests_per_thousand             1.190000e-01\n",
       "new_tests_smoothed                 1.404090e+05\n",
       "new_tests_smoothed_per_thousand    1.020000e-01\n",
       "tests_per_case                     1.388900e+01\n",
       "positive_rate                      7.200000e-02\n",
       "stringency_index                   7.778000e+01\n",
       "population                         1.380004e+09\n",
       "population_density                 4.504190e+02\n",
       "median_age                         2.820000e+01\n",
       "aged_65_older                      5.989000e+00\n",
       "aged_70_older                      3.414000e+00\n",
       "gdp_per_capita                     6.426674e+03\n",
       "extreme_poverty                    2.120000e+01\n",
       "cardiovasc_death_rate              2.822800e+02\n",
       "diabetes_prevalence                1.039000e+01\n",
       "female_smokers                     1.900000e+00\n",
       "male_smokers                       2.060000e+01\n",
       "handwashing_facilities             5.955000e+01\n",
       "hospital_beds_per_thousand         5.300000e-01\n",
       "life_expectancy                    6.966000e+01\n",
       "dtype: float64"
      ]
     },
     "execution_count": 29,
     "metadata": {},
     "output_type": "execute_result"
    }
   ],
   "source": [
    "# Checking the median of each column in the new dataset\n",
    "df.median()"
   ]
  },
  {
   "cell_type": "code",
   "execution_count": 30,
   "metadata": {
    "executionInfo": {
     "elapsed": 8582,
     "status": "ok",
     "timestamp": 1595428892079,
     "user": {
      "displayName": "SOUMYAJIT ROY",
      "photoUrl": "",
      "userId": "04273593953313780787"
     },
     "user_tz": -330
    },
    "id": "9jxK3HJ5Iv4E",
    "outputId": "bb1b3fdf-a9e9-4dac-dae3-26cd368388cc"
   },
   "outputs": [
    {
     "data": {
      "text/html": [
       "<div>\n",
       "<style scoped>\n",
       "    .dataframe tbody tr th:only-of-type {\n",
       "        vertical-align: middle;\n",
       "    }\n",
       "\n",
       "    .dataframe tbody tr th {\n",
       "        vertical-align: top;\n",
       "    }\n",
       "\n",
       "    .dataframe thead th {\n",
       "        text-align: right;\n",
       "    }\n",
       "</style>\n",
       "<table border=\"1\" class=\"dataframe\">\n",
       "  <thead>\n",
       "    <tr style=\"text-align: right;\">\n",
       "      <th></th>\n",
       "      <th>iso_code</th>\n",
       "      <th>continent</th>\n",
       "      <th>location</th>\n",
       "      <th>date</th>\n",
       "      <th>total_cases</th>\n",
       "      <th>new_cases</th>\n",
       "      <th>new_cases_smoothed</th>\n",
       "      <th>total_deaths</th>\n",
       "      <th>new_deaths</th>\n",
       "      <th>new_deaths_smoothed</th>\n",
       "      <th>...</th>\n",
       "      <th>aged_70_older</th>\n",
       "      <th>gdp_per_capita</th>\n",
       "      <th>extreme_poverty</th>\n",
       "      <th>cardiovasc_death_rate</th>\n",
       "      <th>diabetes_prevalence</th>\n",
       "      <th>female_smokers</th>\n",
       "      <th>male_smokers</th>\n",
       "      <th>handwashing_facilities</th>\n",
       "      <th>hospital_beds_per_thousand</th>\n",
       "      <th>life_expectancy</th>\n",
       "    </tr>\n",
       "  </thead>\n",
       "  <tbody>\n",
       "    <tr>\n",
       "      <th>0</th>\n",
       "      <td>IND</td>\n",
       "      <td>Asia</td>\n",
       "      <td>India</td>\n",
       "      <td>2019-12-31</td>\n",
       "      <td>0.0</td>\n",
       "      <td>0.0</td>\n",
       "      <td>0.0</td>\n",
       "      <td>0.0</td>\n",
       "      <td>0.0</td>\n",
       "      <td>0.0</td>\n",
       "      <td>...</td>\n",
       "      <td>3.414</td>\n",
       "      <td>6426.674</td>\n",
       "      <td>21.2</td>\n",
       "      <td>282.28</td>\n",
       "      <td>10.39</td>\n",
       "      <td>1.9</td>\n",
       "      <td>20.6</td>\n",
       "      <td>59.55</td>\n",
       "      <td>0.53</td>\n",
       "      <td>69.66</td>\n",
       "    </tr>\n",
       "    <tr>\n",
       "      <th>1</th>\n",
       "      <td>NaN</td>\n",
       "      <td>NaN</td>\n",
       "      <td>NaN</td>\n",
       "      <td>2020-01-01</td>\n",
       "      <td>NaN</td>\n",
       "      <td>NaN</td>\n",
       "      <td>NaN</td>\n",
       "      <td>NaN</td>\n",
       "      <td>NaN</td>\n",
       "      <td>NaN</td>\n",
       "      <td>...</td>\n",
       "      <td>NaN</td>\n",
       "      <td>NaN</td>\n",
       "      <td>NaN</td>\n",
       "      <td>NaN</td>\n",
       "      <td>NaN</td>\n",
       "      <td>NaN</td>\n",
       "      <td>NaN</td>\n",
       "      <td>NaN</td>\n",
       "      <td>NaN</td>\n",
       "      <td>NaN</td>\n",
       "    </tr>\n",
       "    <tr>\n",
       "      <th>2</th>\n",
       "      <td>NaN</td>\n",
       "      <td>NaN</td>\n",
       "      <td>NaN</td>\n",
       "      <td>2020-01-02</td>\n",
       "      <td>NaN</td>\n",
       "      <td>NaN</td>\n",
       "      <td>NaN</td>\n",
       "      <td>NaN</td>\n",
       "      <td>NaN</td>\n",
       "      <td>NaN</td>\n",
       "      <td>...</td>\n",
       "      <td>NaN</td>\n",
       "      <td>NaN</td>\n",
       "      <td>NaN</td>\n",
       "      <td>NaN</td>\n",
       "      <td>NaN</td>\n",
       "      <td>NaN</td>\n",
       "      <td>NaN</td>\n",
       "      <td>NaN</td>\n",
       "      <td>NaN</td>\n",
       "      <td>NaN</td>\n",
       "    </tr>\n",
       "    <tr>\n",
       "      <th>3</th>\n",
       "      <td>NaN</td>\n",
       "      <td>NaN</td>\n",
       "      <td>NaN</td>\n",
       "      <td>2020-01-03</td>\n",
       "      <td>NaN</td>\n",
       "      <td>NaN</td>\n",
       "      <td>NaN</td>\n",
       "      <td>NaN</td>\n",
       "      <td>NaN</td>\n",
       "      <td>NaN</td>\n",
       "      <td>...</td>\n",
       "      <td>NaN</td>\n",
       "      <td>NaN</td>\n",
       "      <td>NaN</td>\n",
       "      <td>NaN</td>\n",
       "      <td>NaN</td>\n",
       "      <td>NaN</td>\n",
       "      <td>NaN</td>\n",
       "      <td>NaN</td>\n",
       "      <td>NaN</td>\n",
       "      <td>NaN</td>\n",
       "    </tr>\n",
       "    <tr>\n",
       "      <th>4</th>\n",
       "      <td>NaN</td>\n",
       "      <td>NaN</td>\n",
       "      <td>NaN</td>\n",
       "      <td>2020-01-04</td>\n",
       "      <td>NaN</td>\n",
       "      <td>NaN</td>\n",
       "      <td>NaN</td>\n",
       "      <td>NaN</td>\n",
       "      <td>NaN</td>\n",
       "      <td>NaN</td>\n",
       "      <td>...</td>\n",
       "      <td>NaN</td>\n",
       "      <td>NaN</td>\n",
       "      <td>NaN</td>\n",
       "      <td>NaN</td>\n",
       "      <td>NaN</td>\n",
       "      <td>NaN</td>\n",
       "      <td>NaN</td>\n",
       "      <td>NaN</td>\n",
       "      <td>NaN</td>\n",
       "      <td>NaN</td>\n",
       "    </tr>\n",
       "    <tr>\n",
       "      <th>...</th>\n",
       "      <td>...</td>\n",
       "      <td>...</td>\n",
       "      <td>...</td>\n",
       "      <td>...</td>\n",
       "      <td>...</td>\n",
       "      <td>...</td>\n",
       "      <td>...</td>\n",
       "      <td>...</td>\n",
       "      <td>...</td>\n",
       "      <td>...</td>\n",
       "      <td>...</td>\n",
       "      <td>...</td>\n",
       "      <td>...</td>\n",
       "      <td>...</td>\n",
       "      <td>...</td>\n",
       "      <td>...</td>\n",
       "      <td>...</td>\n",
       "      <td>...</td>\n",
       "      <td>...</td>\n",
       "      <td>...</td>\n",
       "      <td>...</td>\n",
       "    </tr>\n",
       "    <tr>\n",
       "      <th>248</th>\n",
       "      <td>NaN</td>\n",
       "      <td>NaN</td>\n",
       "      <td>NaN</td>\n",
       "      <td>2020-09-04</td>\n",
       "      <td>NaN</td>\n",
       "      <td>NaN</td>\n",
       "      <td>NaN</td>\n",
       "      <td>NaN</td>\n",
       "      <td>NaN</td>\n",
       "      <td>NaN</td>\n",
       "      <td>...</td>\n",
       "      <td>NaN</td>\n",
       "      <td>NaN</td>\n",
       "      <td>NaN</td>\n",
       "      <td>NaN</td>\n",
       "      <td>NaN</td>\n",
       "      <td>NaN</td>\n",
       "      <td>NaN</td>\n",
       "      <td>NaN</td>\n",
       "      <td>NaN</td>\n",
       "      <td>NaN</td>\n",
       "    </tr>\n",
       "    <tr>\n",
       "      <th>249</th>\n",
       "      <td>NaN</td>\n",
       "      <td>NaN</td>\n",
       "      <td>NaN</td>\n",
       "      <td>2020-09-05</td>\n",
       "      <td>NaN</td>\n",
       "      <td>NaN</td>\n",
       "      <td>NaN</td>\n",
       "      <td>NaN</td>\n",
       "      <td>NaN</td>\n",
       "      <td>NaN</td>\n",
       "      <td>...</td>\n",
       "      <td>NaN</td>\n",
       "      <td>NaN</td>\n",
       "      <td>NaN</td>\n",
       "      <td>NaN</td>\n",
       "      <td>NaN</td>\n",
       "      <td>NaN</td>\n",
       "      <td>NaN</td>\n",
       "      <td>NaN</td>\n",
       "      <td>NaN</td>\n",
       "      <td>NaN</td>\n",
       "    </tr>\n",
       "    <tr>\n",
       "      <th>250</th>\n",
       "      <td>NaN</td>\n",
       "      <td>NaN</td>\n",
       "      <td>NaN</td>\n",
       "      <td>2020-09-06</td>\n",
       "      <td>NaN</td>\n",
       "      <td>NaN</td>\n",
       "      <td>NaN</td>\n",
       "      <td>NaN</td>\n",
       "      <td>NaN</td>\n",
       "      <td>NaN</td>\n",
       "      <td>...</td>\n",
       "      <td>NaN</td>\n",
       "      <td>NaN</td>\n",
       "      <td>NaN</td>\n",
       "      <td>NaN</td>\n",
       "      <td>NaN</td>\n",
       "      <td>NaN</td>\n",
       "      <td>NaN</td>\n",
       "      <td>NaN</td>\n",
       "      <td>NaN</td>\n",
       "      <td>NaN</td>\n",
       "    </tr>\n",
       "    <tr>\n",
       "      <th>251</th>\n",
       "      <td>NaN</td>\n",
       "      <td>NaN</td>\n",
       "      <td>NaN</td>\n",
       "      <td>2020-09-07</td>\n",
       "      <td>NaN</td>\n",
       "      <td>NaN</td>\n",
       "      <td>NaN</td>\n",
       "      <td>NaN</td>\n",
       "      <td>NaN</td>\n",
       "      <td>NaN</td>\n",
       "      <td>...</td>\n",
       "      <td>NaN</td>\n",
       "      <td>NaN</td>\n",
       "      <td>NaN</td>\n",
       "      <td>NaN</td>\n",
       "      <td>NaN</td>\n",
       "      <td>NaN</td>\n",
       "      <td>NaN</td>\n",
       "      <td>NaN</td>\n",
       "      <td>NaN</td>\n",
       "      <td>NaN</td>\n",
       "    </tr>\n",
       "    <tr>\n",
       "      <th>252</th>\n",
       "      <td>NaN</td>\n",
       "      <td>NaN</td>\n",
       "      <td>NaN</td>\n",
       "      <td>2020-09-08</td>\n",
       "      <td>NaN</td>\n",
       "      <td>NaN</td>\n",
       "      <td>NaN</td>\n",
       "      <td>NaN</td>\n",
       "      <td>NaN</td>\n",
       "      <td>NaN</td>\n",
       "      <td>...</td>\n",
       "      <td>NaN</td>\n",
       "      <td>NaN</td>\n",
       "      <td>NaN</td>\n",
       "      <td>NaN</td>\n",
       "      <td>NaN</td>\n",
       "      <td>NaN</td>\n",
       "      <td>NaN</td>\n",
       "      <td>NaN</td>\n",
       "      <td>NaN</td>\n",
       "      <td>NaN</td>\n",
       "    </tr>\n",
       "  </tbody>\n",
       "</table>\n",
       "<p>253 rows × 40 columns</p>\n",
       "</div>"
      ],
      "text/plain": [
       "    iso_code continent location        date  total_cases  new_cases  \\\n",
       "0        IND      Asia    India  2019-12-31          0.0        0.0   \n",
       "1        NaN       NaN      NaN  2020-01-01          NaN        NaN   \n",
       "2        NaN       NaN      NaN  2020-01-02          NaN        NaN   \n",
       "3        NaN       NaN      NaN  2020-01-03          NaN        NaN   \n",
       "4        NaN       NaN      NaN  2020-01-04          NaN        NaN   \n",
       "..       ...       ...      ...         ...          ...        ...   \n",
       "248      NaN       NaN      NaN  2020-09-04          NaN        NaN   \n",
       "249      NaN       NaN      NaN  2020-09-05          NaN        NaN   \n",
       "250      NaN       NaN      NaN  2020-09-06          NaN        NaN   \n",
       "251      NaN       NaN      NaN  2020-09-07          NaN        NaN   \n",
       "252      NaN       NaN      NaN  2020-09-08          NaN        NaN   \n",
       "\n",
       "     new_cases_smoothed  total_deaths  new_deaths  new_deaths_smoothed  ...  \\\n",
       "0                   0.0           0.0         0.0                  0.0  ...   \n",
       "1                   NaN           NaN         NaN                  NaN  ...   \n",
       "2                   NaN           NaN         NaN                  NaN  ...   \n",
       "3                   NaN           NaN         NaN                  NaN  ...   \n",
       "4                   NaN           NaN         NaN                  NaN  ...   \n",
       "..                  ...           ...         ...                  ...  ...   \n",
       "248                 NaN           NaN         NaN                  NaN  ...   \n",
       "249                 NaN           NaN         NaN                  NaN  ...   \n",
       "250                 NaN           NaN         NaN                  NaN  ...   \n",
       "251                 NaN           NaN         NaN                  NaN  ...   \n",
       "252                 NaN           NaN         NaN                  NaN  ...   \n",
       "\n",
       "     aged_70_older  gdp_per_capita  extreme_poverty  cardiovasc_death_rate  \\\n",
       "0            3.414        6426.674             21.2                 282.28   \n",
       "1              NaN             NaN              NaN                    NaN   \n",
       "2              NaN             NaN              NaN                    NaN   \n",
       "3              NaN             NaN              NaN                    NaN   \n",
       "4              NaN             NaN              NaN                    NaN   \n",
       "..             ...             ...              ...                    ...   \n",
       "248            NaN             NaN              NaN                    NaN   \n",
       "249            NaN             NaN              NaN                    NaN   \n",
       "250            NaN             NaN              NaN                    NaN   \n",
       "251            NaN             NaN              NaN                    NaN   \n",
       "252            NaN             NaN              NaN                    NaN   \n",
       "\n",
       "     diabetes_prevalence  female_smokers  male_smokers  \\\n",
       "0                  10.39             1.9          20.6   \n",
       "1                    NaN             NaN           NaN   \n",
       "2                    NaN             NaN           NaN   \n",
       "3                    NaN             NaN           NaN   \n",
       "4                    NaN             NaN           NaN   \n",
       "..                   ...             ...           ...   \n",
       "248                  NaN             NaN           NaN   \n",
       "249                  NaN             NaN           NaN   \n",
       "250                  NaN             NaN           NaN   \n",
       "251                  NaN             NaN           NaN   \n",
       "252                  NaN             NaN           NaN   \n",
       "\n",
       "     handwashing_facilities  hospital_beds_per_thousand  life_expectancy  \n",
       "0                     59.55                        0.53            69.66  \n",
       "1                       NaN                         NaN              NaN  \n",
       "2                       NaN                         NaN              NaN  \n",
       "3                       NaN                         NaN              NaN  \n",
       "4                       NaN                         NaN              NaN  \n",
       "..                      ...                         ...              ...  \n",
       "248                     NaN                         NaN              NaN  \n",
       "249                     NaN                         NaN              NaN  \n",
       "250                     NaN                         NaN              NaN  \n",
       "251                     NaN                         NaN              NaN  \n",
       "252                     NaN                         NaN              NaN  \n",
       "\n",
       "[253 rows x 40 columns]"
      ]
     },
     "execution_count": 30,
     "metadata": {},
     "output_type": "execute_result"
    }
   ],
   "source": [
    "# Checking the mode of each column in the new dataset\n",
    "df.mode()"
   ]
  },
  {
   "cell_type": "code",
   "execution_count": null,
   "metadata": {
    "executionInfo": {
     "elapsed": 8571,
     "status": "ok",
     "timestamp": 1595428892082,
     "user": {
      "displayName": "SOUMYAJIT ROY",
      "photoUrl": "",
      "userId": "04273593953313780787"
     },
     "user_tz": -330
    },
    "id": "chy2fBUSI48d"
   },
   "outputs": [],
   "source": [
    "#sns.pairplot(df)"
   ]
  },
  {
   "cell_type": "code",
   "execution_count": null,
   "metadata": {
    "executionInfo": {
     "elapsed": 8564,
     "status": "ok",
     "timestamp": 1595428892084,
     "user": {
      "displayName": "SOUMYAJIT ROY",
      "photoUrl": "",
      "userId": "04273593953313780787"
     },
     "user_tz": -330
    },
    "id": "i25JoY1vSw7a"
   },
   "outputs": [],
   "source": [
    "# Plotting ScatterPlots\n",
    "\n",
    "# for i in cols:\n",
    "#   for j in reversed(cols):\n",
    "#     sns.scatterplot(x=i, y=j, data=df)\n",
    "#     plt.title(\"Scatter Plot\")\n",
    "#     plt.show()"
   ]
  },
  {
   "cell_type": "markdown",
   "metadata": {},
   "source": [
    "Now we are going to plot Scatterplots as well as lineplots for the new dataset.Here we are going to use bivariate analysis. We are going to separate the target column from the other numerical columns. And then do the analysis on the target columns versus numerical columns"
   ]
  },
  {
   "cell_type": "code",
   "execution_count": 33,
   "metadata": {
    "executionInfo": {
     "elapsed": 8558,
     "status": "ok",
     "timestamp": 1595428892086,
     "user": {
      "displayName": "SOUMYAJIT ROY",
      "photoUrl": "",
      "userId": "04273593953313780787"
     },
     "user_tz": -330
    },
    "id": "Tn6E3Q-tzvxh"
   },
   "outputs": [],
   "source": [
    "# Defining  new variables for cols \n",
    "cols=[ 'new_cases',\n",
    "       'total_deaths', 'new_deaths', 'total_cases_per_million',\n",
    "       'new_cases_per_million', 'total_deaths_per_million',\n",
    "       'new_deaths_per_million', 'total_tests', 'new_tests',\n",
    "       'total_tests_per_thousand', 'new_tests_per_thousand',\n",
    "       'new_tests_smoothed', 'new_tests_smoothed_per_thousand',\n",
    "       'stringency_index', 'population', 'population_density', 'median_age',\n",
    "       'aged_65_older', 'aged_70_older', 'gdp_per_capita', 'extreme_poverty',\n",
    "        'diabetes_prevalence', 'female_smokers',\n",
    "       'male_smokers', 'handwashing_facilities', 'hospital_beds_per_thousand',\n",
    "       'life_expectancy']"
   ]
  },
  {
   "cell_type": "code",
   "execution_count": 34,
   "metadata": {
    "executionInfo": {
     "elapsed": 12863,
     "status": "ok",
     "timestamp": 1595428896403,
     "user": {
      "displayName": "SOUMYAJIT ROY",
      "photoUrl": "",
      "userId": "04273593953313780787"
     },
     "user_tz": -330
    },
    "id": "xMnZCCrv0R0q",
    "outputId": "1a87a6ab-68de-4b28-9c85-3b89f3c054b4"
   },
   "outputs": [
    {
     "data": {
      "image/png": "[encoded data removed]",
      "text/plain": [
       "<Figure size 432x288 with 1 Axes>"
      ]
     },
     "metadata": {
      "needs_background": "light"
     },
     "output_type": "display_data"
    },
    {
     "data": {
      "image/png": "[encoded data removed]",
      "text/plain": [
       "<Figure size 432x288 with 1 Axes>"
      ]
     },
     "metadata": {
      "needs_background": "light"
     },
     "output_type": "display_data"
    },
    {
     "data": {
      "image/png": "[encoded data removed]",
      "text/plain": [
       "<Figure size 432x288 with 1 Axes>"
      ]
     },
     "metadata": {
      "needs_background": "light"
     },
     "output_type": "display_data"
    },
    {
     "data": {
      "image/png": "[encoded data removed]",
      "text/plain": [
       "<Figure size 432x288 with 1 Axes>"
      ]
     },
     "metadata": {
      "needs_background": "light"
     },
     "output_type": "display_data"
    },
    {
     "data": {
      "image/png": "[encoded data removed]",
      "text/plain": [
       "<Figure size 432x288 with 1 Axes>"
      ]
     },
     "metadata": {
      "needs_background": "light"
     },
     "output_type": "display_data"
    },
    {
     "data": {
      "image/png": "[encoded data removed]",
      "text/plain": [
       "<Figure size 432x288 with 1 Axes>"
      ]
     },
     "metadata": {
      "needs_background": "light"
     },
     "output_type": "display_data"
    },
    {
     "data": {
      "image/png": "[encoded data removed]",
      "text/plain": [
       "<Figure size 432x288 with 1 Axes>"
      ]
     },
     "metadata": {
      "needs_background": "light"
     },
     "output_type": "display_data"
    },
    {
     "data": {
      "image/png": "[encoded data removed]",
      "text/plain": [
       "<Figure size 432x288 with 1 Axes>"
      ]
     },
     "metadata": {
      "needs_background": "light"
     },
     "output_type": "display_data"
    },
    {
     "data": {
      "image/png": "[encoded data removed]",
      "text/plain": [
       "<Figure size 432x288 with 1 Axes>"
      ]
     },
     "metadata": {
      "needs_background": "light"
     },
     "output_type": "display_data"
    },
    {
     "data": {
      "image/png": "[encoded data removed]",
      "text/plain": [
       "<Figure size 432x288 with 1 Axes>"
      ]
     },
     "metadata": {
      "needs_background": "light"
     },
     "output_type": "display_data"
    },
    {
     "data": {
      "image/png": "[encoded data removed]",
      "text/plain": [
       "<Figure size 432x288 with 1 Axes>"
      ]
     },
     "metadata": {
      "needs_background": "light"
     },
     "output_type": "display_data"
    },
    {
     "data": {
      "image/png": "[encoded data removed]",
      "text/plain": [
       "<Figure size 432x288 with 1 Axes>"
      ]
     },
     "metadata": {
      "needs_background": "light"
     },
     "output_type": "display_data"
    },
    {
     "data": {
      "image/png": "[encoded data removed]",
      "text/plain": [
       "<Figure size 432x288 with 1 Axes>"
      ]
     },
     "metadata": {
      "needs_background": "light"
     },
     "output_type": "display_data"
    },
    {
     "data": {
      "image/png": "[encoded data removed]",
      "text/plain": [
       "<Figure size 432x288 with 1 Axes>"
      ]
     },
     "metadata": {
      "needs_background": "light"
     },
     "output_type": "display_data"
    },
    {
     "data": {
      "image/png": "[encoded data removed]",
      "text/plain": [
       "<Figure size 432x288 with 1 Axes>"
      ]
     },
     "metadata": {
      "needs_background": "light"
     },
     "output_type": "display_data"
    },
    {
     "data": {
      "image/png": "[encoded data removed]",
      "text/plain": [
       "<Figure size 432x288 with 1 Axes>"
      ]
     },
     "metadata": {
      "needs_background": "light"
     },
     "output_type": "display_data"
    },
    {
     "data": {
      "image/png": "[encoded data removed]",
      "text/plain": [
       "<Figure size 432x288 with 1 Axes>"
      ]
     },
     "metadata": {
      "needs_background": "light"
     },
     "output_type": "display_data"
    },
    {
     "data": {
      "image/png": "[encoded data removed]",
      "text/plain": [
       "<Figure size 432x288 with 1 Axes>"
      ]
     },
     "metadata": {
      "needs_background": "light"
     },
     "output_type": "display_data"
    },
    {
     "data": {
      "image/png": "[encoded data removed]",
      "text/plain": [
       "<Figure size 432x288 with 1 Axes>"
      ]
     },
     "metadata": {
      "needs_background": "light"
     },
     "output_type": "display_data"
    },
    {
     "data": {
      "image/png": "[encoded data removed]",
      "text/plain": [
       "<Figure size 432x288 with 1 Axes>"
      ]
     },
     "metadata": {
      "needs_background": "light"
     },
     "output_type": "display_data"
    },
    {
     "data": {
      "image/png": "[encoded data removed]",
      "text/plain": [
       "<Figure size 432x288 with 1 Axes>"
      ]
     },
     "metadata": {
      "needs_background": "light"
     },
     "output_type": "display_data"
    },
    {
     "data": {
      "image/png": "[encoded data removed]",
      "text/plain": [
       "<Figure size 432x288 with 1 Axes>"
      ]
     },
     "metadata": {
      "needs_background": "light"
     },
     "output_type": "display_data"
    },
    {
     "data": {
      "image/png": "[encoded data removed]",
      "text/plain": [
       "<Figure size 432x288 with 1 Axes>"
      ]
     },
     "metadata": {
      "needs_background": "light"
     },
     "output_type": "display_data"
    },
    {
     "data": {
      "image/png": "[encoded data removed]",
      "text/plain": [
       "<Figure size 432x288 with 1 Axes>"
      ]
     },
     "metadata": {
      "needs_background": "light"
     },
     "output_type": "display_data"
    },
    {
     "data": {
      "image/png": "[encoded data removed]",
      "text/plain": [
       "<Figure size 432x288 with 1 Axes>"
      ]
     },
     "metadata": {
      "needs_background": "light"
     },
     "output_type": "display_data"
    },
    {
     "data": {
      "image/png": "[encoded data removed]",
      "text/plain": [
       "<Figure size 432x288 with 1 Axes>"
      ]
     },
     "metadata": {
      "needs_background": "light"
     },
     "output_type": "display_data"
    },
    {
     "data": {
      "image/png": "[encoded data removed]",
      "text/plain": [
       "<Figure size 432x288 with 1 Axes>"
      ]
     },
     "metadata": {
      "needs_background": "light"
     },
     "output_type": "display_data"
    }
   ],
   "source": [
    "# Plotting ScatterPlots\n",
    "for i in cols:\n",
    "    sns.scatterplot(x='total_cases', y=i, data=df)\n",
    "    plt.title(\"Scatter Plot\")\n",
    "    plt.show()"
   ]
  },
  {
   "cell_type": "code",
   "execution_count": 36,
   "metadata": {
    "executionInfo": {
     "elapsed": 12856,
     "status": "ok",
     "timestamp": 1595428896406,
     "user": {
      "displayName": "SOUMYAJIT ROY",
      "photoUrl": "",
      "userId": "04273593953313780787"
     },
     "user_tz": -330
    },
    "id": "Yn5-2uzYLjuh"
   },
   "outputs": [],
   "source": [
    "#Plotting Lineplots\n",
    "\n",
    "# for i in cols:\n",
    "#   for j in reversed(cols):\n",
    "#     sns.lineplot(x=i,y=j,data=df)\n",
    "#     plt.title(\"Line Plots\")\n",
    "#     plt.show()"
   ]
  },
  {
   "cell_type": "code",
   "execution_count": null,
   "metadata": {
    "executionInfo": {
     "elapsed": 19205,
     "status": "ok",
     "timestamp": 1595428902768,
     "user": {
      "displayName": "SOUMYAJIT ROY",
      "photoUrl": "",
      "userId": "04273593953313780787"
     },
     "user_tz": -330
    },
    "id": "DFtHS7KX1Ha3",
    "outputId": "cf965578-613e-4fb6-9e45-49dd8815ea9f"
   },
   "outputs": [],
   "source": [
    "# Plotting Lineplots\n",
    "for i in cols:\n",
    "    sns.lineplot(x='total_cases',y=i,data=df)\n",
    "    plt.title(\"Line Plots\")\n",
    "    plt.show()"
   ]
  },
  {
   "cell_type": "markdown",
   "metadata": {},
   "source": [
    "So from the previously plotted histograms we observed that outliers are present on the new dataset. And when we observe the dataset carefully we will observe that most of the outliers are mainly present on the 168 row of the dataset . So we will drop that entire row to make better prediction and more accuracy on the model."
   ]
  },
  {
   "cell_type": "code",
   "execution_count": 37,
   "metadata": {
    "executionInfo": {
     "elapsed": 19194,
     "status": "ok",
     "timestamp": 1595428902771,
     "user": {
      "displayName": "SOUMYAJIT ROY",
      "photoUrl": "",
      "userId": "04273593953313780787"
     },
     "user_tz": -330
    },
    "id": "oeZ1nARfd6bF",
    "outputId": "a00c5a53-42fa-454b-e6b1-0c45ca930f99"
   },
   "outputs": [
    {
     "name": "stderr",
     "output_type": "stream",
     "text": [
      "C:\\Users\\HP-NPC\\anaconda3\\lib\\site-packages\\pandas\\core\\frame.py:3997: SettingWithCopyWarning: \n",
      "A value is trying to be set on a copy of a slice from a DataFrame\n",
      "\n",
      "See the caveats in the documentation: https://pandas.pydata.org/pandas-docs/stable/user_guide/indexing.html#returning-a-view-versus-a-copy\n",
      "  errors=errors,\n"
     ]
    }
   ],
   "source": [
    "# Removing outliers in the dataset\n",
    "df.drop(df.index[168],inplace=True)"
   ]
  },
  {
   "cell_type": "code",
   "execution_count": 38,
   "metadata": {
    "executionInfo": {
     "elapsed": 19179,
     "status": "ok",
     "timestamp": 1595428902773,
     "user": {
      "displayName": "SOUMYAJIT ROY",
      "photoUrl": "",
      "userId": "04273593953313780787"
     },
     "user_tz": -330
    },
    "id": "AgImRp2Ld6bI"
   },
   "outputs": [],
   "source": [
    "# Checking the info once again\n",
    "# df.info"
   ]
  },
  {
   "cell_type": "code",
   "execution_count": 39,
   "metadata": {
    "executionInfo": {
     "elapsed": 19147,
     "status": "ok",
     "timestamp": 1595428902776,
     "user": {
      "displayName": "SOUMYAJIT ROY",
      "photoUrl": "",
      "userId": "04273593953313780787"
     },
     "user_tz": -330
    },
    "id": "eZsJoEV3V6jk",
    "outputId": "a53b7172-c4a2-4bd0-c046-195587f79889"
   },
   "outputs": [
    {
     "data": {
      "text/html": [
       "<div>\n",
       "<style scoped>\n",
       "    .dataframe tbody tr th:only-of-type {\n",
       "        vertical-align: middle;\n",
       "    }\n",
       "\n",
       "    .dataframe tbody tr th {\n",
       "        vertical-align: top;\n",
       "    }\n",
       "\n",
       "    .dataframe thead th {\n",
       "        text-align: right;\n",
       "    }\n",
       "</style>\n",
       "<table border=\"1\" class=\"dataframe\">\n",
       "  <thead>\n",
       "    <tr style=\"text-align: right;\">\n",
       "      <th></th>\n",
       "      <th>total_cases</th>\n",
       "      <th>new_cases</th>\n",
       "      <th>new_cases_smoothed</th>\n",
       "      <th>total_deaths</th>\n",
       "      <th>new_deaths</th>\n",
       "      <th>new_deaths_smoothed</th>\n",
       "      <th>total_cases_per_million</th>\n",
       "      <th>new_cases_per_million</th>\n",
       "      <th>new_cases_smoothed_per_million</th>\n",
       "      <th>total_deaths_per_million</th>\n",
       "      <th>...</th>\n",
       "      <th>aged_70_older</th>\n",
       "      <th>gdp_per_capita</th>\n",
       "      <th>extreme_poverty</th>\n",
       "      <th>cardiovasc_death_rate</th>\n",
       "      <th>diabetes_prevalence</th>\n",
       "      <th>female_smokers</th>\n",
       "      <th>male_smokers</th>\n",
       "      <th>handwashing_facilities</th>\n",
       "      <th>hospital_beds_per_thousand</th>\n",
       "      <th>life_expectancy</th>\n",
       "    </tr>\n",
       "  </thead>\n",
       "  <tbody>\n",
       "    <tr>\n",
       "      <th>count</th>\n",
       "      <td>2.510000e+02</td>\n",
       "      <td>251.000000</td>\n",
       "      <td>246.000000</td>\n",
       "      <td>251.000000</td>\n",
       "      <td>251.000000</td>\n",
       "      <td>246.000000</td>\n",
       "      <td>251.000000</td>\n",
       "      <td>251.000000</td>\n",
       "      <td>246.000000</td>\n",
       "      <td>251.000000</td>\n",
       "      <td>...</td>\n",
       "      <td>2.520000e+02</td>\n",
       "      <td>2.520000e+02</td>\n",
       "      <td>2.520000e+02</td>\n",
       "      <td>2.520000e+02</td>\n",
       "      <td>2.520000e+02</td>\n",
       "      <td>2.520000e+02</td>\n",
       "      <td>2.520000e+02</td>\n",
       "      <td>2.520000e+02</td>\n",
       "      <td>2.520000e+02</td>\n",
       "      <td>2.520000e+02</td>\n",
       "    </tr>\n",
       "    <tr>\n",
       "      <th>mean</th>\n",
       "      <td>6.291877e+05</td>\n",
       "      <td>17010.976096</td>\n",
       "      <td>16321.259033</td>\n",
       "      <td>13194.494024</td>\n",
       "      <td>288.426295</td>\n",
       "      <td>281.272370</td>\n",
       "      <td>455.931641</td>\n",
       "      <td>12.326745</td>\n",
       "      <td>11.826947</td>\n",
       "      <td>9.561191</td>\n",
       "      <td>...</td>\n",
       "      <td>3.414000e+00</td>\n",
       "      <td>6.426674e+03</td>\n",
       "      <td>2.120000e+01</td>\n",
       "      <td>2.822800e+02</td>\n",
       "      <td>1.039000e+01</td>\n",
       "      <td>1.900000e+00</td>\n",
       "      <td>2.060000e+01</td>\n",
       "      <td>5.955000e+01</td>\n",
       "      <td>5.300000e-01</td>\n",
       "      <td>6.966000e+01</td>\n",
       "    </tr>\n",
       "    <tr>\n",
       "      <th>std</th>\n",
       "      <td>1.073668e+06</td>\n",
       "      <td>25110.251858</td>\n",
       "      <td>24068.898065</td>\n",
       "      <td>19976.668505</td>\n",
       "      <td>372.784578</td>\n",
       "      <td>348.820908</td>\n",
       "      <td>778.017628</td>\n",
       "      <td>18.195758</td>\n",
       "      <td>17.441185</td>\n",
       "      <td>14.475776</td>\n",
       "      <td>...</td>\n",
       "      <td>1.023438e-14</td>\n",
       "      <td>4.100871e-11</td>\n",
       "      <td>9.967395e-14</td>\n",
       "      <td>7.973916e-13</td>\n",
       "      <td>7.119568e-15</td>\n",
       "      <td>8.454486e-15</td>\n",
       "      <td>2.847827e-14</td>\n",
       "      <td>2.563044e-13</td>\n",
       "      <td>8.899459e-16</td>\n",
       "      <td>1.139131e-13</td>\n",
       "    </tr>\n",
       "    <tr>\n",
       "      <th>min</th>\n",
       "      <td>0.000000e+00</td>\n",
       "      <td>0.000000</td>\n",
       "      <td>0.000000</td>\n",
       "      <td>0.000000</td>\n",
       "      <td>0.000000</td>\n",
       "      <td>0.000000</td>\n",
       "      <td>0.000000</td>\n",
       "      <td>0.000000</td>\n",
       "      <td>0.000000</td>\n",
       "      <td>0.000000</td>\n",
       "      <td>...</td>\n",
       "      <td>3.414000e+00</td>\n",
       "      <td>6.426674e+03</td>\n",
       "      <td>2.120000e+01</td>\n",
       "      <td>2.822800e+02</td>\n",
       "      <td>1.039000e+01</td>\n",
       "      <td>1.900000e+00</td>\n",
       "      <td>2.060000e+01</td>\n",
       "      <td>5.955000e+01</td>\n",
       "      <td>5.300000e-01</td>\n",
       "      <td>6.966000e+01</td>\n",
       "    </tr>\n",
       "    <tr>\n",
       "      <th>25%</th>\n",
       "      <td>4.000000e+00</td>\n",
       "      <td>1.000000</td>\n",
       "      <td>4.107250</td>\n",
       "      <td>0.000000</td>\n",
       "      <td>0.000000</td>\n",
       "      <td>0.000000</td>\n",
       "      <td>0.003000</td>\n",
       "      <td>0.001000</td>\n",
       "      <td>0.003000</td>\n",
       "      <td>0.000000</td>\n",
       "      <td>...</td>\n",
       "      <td>3.414000e+00</td>\n",
       "      <td>6.426674e+03</td>\n",
       "      <td>2.120000e+01</td>\n",
       "      <td>2.822800e+02</td>\n",
       "      <td>1.039000e+01</td>\n",
       "      <td>1.900000e+00</td>\n",
       "      <td>2.060000e+01</td>\n",
       "      <td>5.955000e+01</td>\n",
       "      <td>5.300000e-01</td>\n",
       "      <td>6.966000e+01</td>\n",
       "    </tr>\n",
       "    <tr>\n",
       "      <th>50%</th>\n",
       "      <td>4.643300e+04</td>\n",
       "      <td>2958.000000</td>\n",
       "      <td>2942.928500</td>\n",
       "      <td>1568.000000</td>\n",
       "      <td>87.000000</td>\n",
       "      <td>102.143000</td>\n",
       "      <td>33.647000</td>\n",
       "      <td>2.143000</td>\n",
       "      <td>2.132500</td>\n",
       "      <td>1.136000</td>\n",
       "      <td>...</td>\n",
       "      <td>3.414000e+00</td>\n",
       "      <td>6.426674e+03</td>\n",
       "      <td>2.120000e+01</td>\n",
       "      <td>2.822800e+02</td>\n",
       "      <td>1.039000e+01</td>\n",
       "      <td>1.900000e+00</td>\n",
       "      <td>2.060000e+01</td>\n",
       "      <td>5.955000e+01</td>\n",
       "      <td>5.300000e-01</td>\n",
       "      <td>6.966000e+01</td>\n",
       "    </tr>\n",
       "    <tr>\n",
       "      <th>75%</th>\n",
       "      <td>7.310410e+05</td>\n",
       "      <td>24549.000000</td>\n",
       "      <td>23031.750250</td>\n",
       "      <td>20401.000000</td>\n",
       "      <td>493.500000</td>\n",
       "      <td>536.607000</td>\n",
       "      <td>529.738500</td>\n",
       "      <td>17.789000</td>\n",
       "      <td>16.689750</td>\n",
       "      <td>14.783500</td>\n",
       "      <td>...</td>\n",
       "      <td>3.414000e+00</td>\n",
       "      <td>6.426674e+03</td>\n",
       "      <td>2.120000e+01</td>\n",
       "      <td>2.822800e+02</td>\n",
       "      <td>1.039000e+01</td>\n",
       "      <td>1.900000e+00</td>\n",
       "      <td>2.060000e+01</td>\n",
       "      <td>5.955000e+01</td>\n",
       "      <td>5.300000e-01</td>\n",
       "      <td>6.966000e+01</td>\n",
       "    </tr>\n",
       "    <tr>\n",
       "      <th>max</th>\n",
       "      <td>4.280422e+06</td>\n",
       "      <td>90802.000000</td>\n",
       "      <td>84179.429000</td>\n",
       "      <td>72775.000000</td>\n",
       "      <td>2003.000000</td>\n",
       "      <td>1078.143000</td>\n",
       "      <td>3101.745000</td>\n",
       "      <td>65.798000</td>\n",
       "      <td>60.999000</td>\n",
       "      <td>52.735000</td>\n",
       "      <td>...</td>\n",
       "      <td>3.414000e+00</td>\n",
       "      <td>6.426674e+03</td>\n",
       "      <td>2.120000e+01</td>\n",
       "      <td>2.822800e+02</td>\n",
       "      <td>1.039000e+01</td>\n",
       "      <td>1.900000e+00</td>\n",
       "      <td>2.060000e+01</td>\n",
       "      <td>5.955000e+01</td>\n",
       "      <td>5.300000e-01</td>\n",
       "      <td>6.966000e+01</td>\n",
       "    </tr>\n",
       "  </tbody>\n",
       "</table>\n",
       "<p>8 rows × 35 columns</p>\n",
       "</div>"
      ],
      "text/plain": [
       "        total_cases     new_cases  new_cases_smoothed  total_deaths  \\\n",
       "count  2.510000e+02    251.000000          246.000000    251.000000   \n",
       "mean   6.291877e+05  17010.976096        16321.259033  13194.494024   \n",
       "std    1.073668e+06  25110.251858        24068.898065  19976.668505   \n",
       "min    0.000000e+00      0.000000            0.000000      0.000000   \n",
       "25%    4.000000e+00      1.000000            4.107250      0.000000   \n",
       "50%    4.643300e+04   2958.000000         2942.928500   1568.000000   \n",
       "75%    7.310410e+05  24549.000000        23031.750250  20401.000000   \n",
       "max    4.280422e+06  90802.000000        84179.429000  72775.000000   \n",
       "\n",
       "        new_deaths  new_deaths_smoothed  total_cases_per_million  \\\n",
       "count   251.000000           246.000000               251.000000   \n",
       "mean    288.426295           281.272370               455.931641   \n",
       "std     372.784578           348.820908               778.017628   \n",
       "min       0.000000             0.000000                 0.000000   \n",
       "25%       0.000000             0.000000                 0.003000   \n",
       "50%      87.000000           102.143000                33.647000   \n",
       "75%     493.500000           536.607000               529.738500   \n",
       "max    2003.000000          1078.143000              3101.745000   \n",
       "\n",
       "       new_cases_per_million  new_cases_smoothed_per_million  \\\n",
       "count             251.000000                      246.000000   \n",
       "mean               12.326745                       11.826947   \n",
       "std                18.195758                       17.441185   \n",
       "min                 0.000000                        0.000000   \n",
       "25%                 0.001000                        0.003000   \n",
       "50%                 2.143000                        2.132500   \n",
       "75%                17.789000                       16.689750   \n",
       "max                65.798000                       60.999000   \n",
       "\n",
       "       total_deaths_per_million  ...  aged_70_older  gdp_per_capita  \\\n",
       "count                251.000000  ...   2.520000e+02    2.520000e+02   \n",
       "mean                   9.561191  ...   3.414000e+00    6.426674e+03   \n",
       "std                   14.475776  ...   1.023438e-14    4.100871e-11   \n",
       "min                    0.000000  ...   3.414000e+00    6.426674e+03   \n",
       "25%                    0.000000  ...   3.414000e+00    6.426674e+03   \n",
       "50%                    1.136000  ...   3.414000e+00    6.426674e+03   \n",
       "75%                   14.783500  ...   3.414000e+00    6.426674e+03   \n",
       "max                   52.735000  ...   3.414000e+00    6.426674e+03   \n",
       "\n",
       "       extreme_poverty  cardiovasc_death_rate  diabetes_prevalence  \\\n",
       "count     2.520000e+02           2.520000e+02         2.520000e+02   \n",
       "mean      2.120000e+01           2.822800e+02         1.039000e+01   \n",
       "std       9.967395e-14           7.973916e-13         7.119568e-15   \n",
       "min       2.120000e+01           2.822800e+02         1.039000e+01   \n",
       "25%       2.120000e+01           2.822800e+02         1.039000e+01   \n",
       "50%       2.120000e+01           2.822800e+02         1.039000e+01   \n",
       "75%       2.120000e+01           2.822800e+02         1.039000e+01   \n",
       "max       2.120000e+01           2.822800e+02         1.039000e+01   \n",
       "\n",
       "       female_smokers  male_smokers  handwashing_facilities  \\\n",
       "count    2.520000e+02  2.520000e+02            2.520000e+02   \n",
       "mean     1.900000e+00  2.060000e+01            5.955000e+01   \n",
       "std      8.454486e-15  2.847827e-14            2.563044e-13   \n",
       "min      1.900000e+00  2.060000e+01            5.955000e+01   \n",
       "25%      1.900000e+00  2.060000e+01            5.955000e+01   \n",
       "50%      1.900000e+00  2.060000e+01            5.955000e+01   \n",
       "75%      1.900000e+00  2.060000e+01            5.955000e+01   \n",
       "max      1.900000e+00  2.060000e+01            5.955000e+01   \n",
       "\n",
       "       hospital_beds_per_thousand  life_expectancy  \n",
       "count                2.520000e+02     2.520000e+02  \n",
       "mean                 5.300000e-01     6.966000e+01  \n",
       "std                  8.899459e-16     1.139131e-13  \n",
       "min                  5.300000e-01     6.966000e+01  \n",
       "25%                  5.300000e-01     6.966000e+01  \n",
       "50%                  5.300000e-01     6.966000e+01  \n",
       "75%                  5.300000e-01     6.966000e+01  \n",
       "max                  5.300000e-01     6.966000e+01  \n",
       "\n",
       "[8 rows x 35 columns]"
      ]
     },
     "execution_count": 39,
     "metadata": {},
     "output_type": "execute_result"
    }
   ],
   "source": [
    "# Observe the changes after removing outliers\n",
    "df.describe()"
   ]
  },
  {
   "cell_type": "markdown",
   "metadata": {},
   "source": [
    "Now after removing the outliers we have to remove the null values also .So we will replace the null values of the numerical columns by the mean and for the categorical by the mode."
   ]
  },
  {
   "cell_type": "code",
   "execution_count": 40,
   "metadata": {
    "executionInfo": {
     "elapsed": 19126,
     "status": "ok",
     "timestamp": 1595428902779,
     "user": {
      "displayName": "SOUMYAJIT ROY",
      "photoUrl": "",
      "userId": "04273593953313780787"
     },
     "user_tz": -330
    },
    "id": "wNP3acSuWD4a"
   },
   "outputs": [],
   "source": [
    "# Replacing the null values with the mean of the columns\n",
    "#df.fillna(df.mean(), inplace=True)\n",
    "df=df.fillna(df.mean())"
   ]
  },
  {
   "cell_type": "code",
   "execution_count": 41,
   "metadata": {
    "executionInfo": {
     "elapsed": 19110,
     "status": "ok",
     "timestamp": 1595428902783,
     "user": {
      "displayName": "SOUMYAJIT ROY",
      "photoUrl": "",
      "userId": "04273593953313780787"
     },
     "user_tz": -330
    },
    "id": "hVrwZnZjX0y2"
   },
   "outputs": [],
   "source": [
    "# Replacing the null categorical columns with their mode\n",
    "df['tests_units'].fillna(df['tests_units'].mode()[0],inplace=True)"
   ]
  },
  {
   "cell_type": "code",
   "execution_count": 42,
   "metadata": {
    "executionInfo": {
     "elapsed": 19088,
     "status": "ok",
     "timestamp": 1595428902785,
     "user": {
      "displayName": "SOUMYAJIT ROY",
      "photoUrl": "",
      "userId": "04273593953313780787"
     },
     "user_tz": -330
    },
    "id": "796m2jEcZRnb",
    "outputId": "5fa602f6-da2f-4121-af28-20c3bc7d3320"
   },
   "outputs": [
    {
     "data": {
      "text/plain": [
       "iso_code                           0\n",
       "continent                          0\n",
       "location                           0\n",
       "date                               0\n",
       "total_cases                        0\n",
       "new_cases                          0\n",
       "new_cases_smoothed                 0\n",
       "total_deaths                       0\n",
       "new_deaths                         0\n",
       "new_deaths_smoothed                0\n",
       "total_cases_per_million            0\n",
       "new_cases_per_million              0\n",
       "new_cases_smoothed_per_million     0\n",
       "total_deaths_per_million           0\n",
       "new_deaths_per_million             0\n",
       "new_deaths_smoothed_per_million    0\n",
       "new_tests                          0\n",
       "total_tests                        0\n",
       "total_tests_per_thousand           0\n",
       "new_tests_per_thousand             0\n",
       "new_tests_smoothed                 0\n",
       "new_tests_smoothed_per_thousand    0\n",
       "tests_per_case                     0\n",
       "positive_rate                      0\n",
       "tests_units                        0\n",
       "stringency_index                   0\n",
       "population                         0\n",
       "population_density                 0\n",
       "median_age                         0\n",
       "aged_65_older                      0\n",
       "aged_70_older                      0\n",
       "gdp_per_capita                     0\n",
       "extreme_poverty                    0\n",
       "cardiovasc_death_rate              0\n",
       "diabetes_prevalence                0\n",
       "female_smokers                     0\n",
       "male_smokers                       0\n",
       "handwashing_facilities             0\n",
       "hospital_beds_per_thousand         0\n",
       "life_expectancy                    0\n",
       "dtype: int64"
      ]
     },
     "execution_count": 42,
     "metadata": {},
     "output_type": "execute_result"
    }
   ],
   "source": [
    "# Now there are no Null values in the Dataset\n",
    "#df.info()\n",
    "df.isnull().sum()"
   ]
  },
  {
   "cell_type": "markdown",
   "metadata": {},
   "source": [
    "Now we have cleaned the dataset properly. And the next task will be to convert the date column to ordinal."
   ]
  },
  {
   "cell_type": "code",
   "execution_count": 43,
   "metadata": {
    "executionInfo": {
     "elapsed": 19079,
     "status": "ok",
     "timestamp": 1595428902788,
     "user": {
      "displayName": "SOUMYAJIT ROY",
      "photoUrl": "",
      "userId": "04273593953313780787"
     },
     "user_tz": -330
    },
    "id": "UJE0A23vZU9h"
   },
   "outputs": [],
   "source": [
    "# Convert date column to ordinal\n",
    "import datetime as dt \n",
    "df[\"date\"]=pd.to_datetime(df[\"date\"]) \n",
    "df[\"date\"]=df[\"date\"].map(dt.datetime.toordinal)"
   ]
  },
  {
   "cell_type": "code",
   "execution_count": 44,
   "metadata": {
    "executionInfo": {
     "elapsed": 19080,
     "status": "ok",
     "timestamp": 1595428902799,
     "user": {
      "displayName": "SOUMYAJIT ROY",
      "photoUrl": "",
      "userId": "04273593953313780787"
     },
     "user_tz": -330
    },
    "id": "0Sjp1GD0a5cc",
    "outputId": "bda17c7f-3e37-4a30-8bd6-61935d6f0984"
   },
   "outputs": [
    {
     "data": {
      "text/html": [
       "<div>\n",
       "<style scoped>\n",
       "    .dataframe tbody tr th:only-of-type {\n",
       "        vertical-align: middle;\n",
       "    }\n",
       "\n",
       "    .dataframe tbody tr th {\n",
       "        vertical-align: top;\n",
       "    }\n",
       "\n",
       "    .dataframe thead th {\n",
       "        text-align: right;\n",
       "    }\n",
       "</style>\n",
       "<table border=\"1\" class=\"dataframe\">\n",
       "  <thead>\n",
       "    <tr style=\"text-align: right;\">\n",
       "      <th></th>\n",
       "      <th>iso_code</th>\n",
       "      <th>continent</th>\n",
       "      <th>location</th>\n",
       "      <th>date</th>\n",
       "      <th>total_cases</th>\n",
       "      <th>new_cases</th>\n",
       "      <th>new_cases_smoothed</th>\n",
       "      <th>total_deaths</th>\n",
       "      <th>new_deaths</th>\n",
       "      <th>new_deaths_smoothed</th>\n",
       "      <th>...</th>\n",
       "      <th>aged_70_older</th>\n",
       "      <th>gdp_per_capita</th>\n",
       "      <th>extreme_poverty</th>\n",
       "      <th>cardiovasc_death_rate</th>\n",
       "      <th>diabetes_prevalence</th>\n",
       "      <th>female_smokers</th>\n",
       "      <th>male_smokers</th>\n",
       "      <th>handwashing_facilities</th>\n",
       "      <th>hospital_beds_per_thousand</th>\n",
       "      <th>life_expectancy</th>\n",
       "    </tr>\n",
       "  </thead>\n",
       "  <tbody>\n",
       "    <tr>\n",
       "      <th>17719</th>\n",
       "      <td>IND</td>\n",
       "      <td>Asia</td>\n",
       "      <td>India</td>\n",
       "      <td>737424</td>\n",
       "      <td>0.0</td>\n",
       "      <td>0.0</td>\n",
       "      <td>16321.259033</td>\n",
       "      <td>0.0</td>\n",
       "      <td>0.0</td>\n",
       "      <td>281.27237</td>\n",
       "      <td>...</td>\n",
       "      <td>3.414</td>\n",
       "      <td>6426.674</td>\n",
       "      <td>21.2</td>\n",
       "      <td>282.28</td>\n",
       "      <td>10.39</td>\n",
       "      <td>1.9</td>\n",
       "      <td>20.6</td>\n",
       "      <td>59.55</td>\n",
       "      <td>0.53</td>\n",
       "      <td>69.66</td>\n",
       "    </tr>\n",
       "    <tr>\n",
       "      <th>17720</th>\n",
       "      <td>IND</td>\n",
       "      <td>Asia</td>\n",
       "      <td>India</td>\n",
       "      <td>737425</td>\n",
       "      <td>0.0</td>\n",
       "      <td>0.0</td>\n",
       "      <td>16321.259033</td>\n",
       "      <td>0.0</td>\n",
       "      <td>0.0</td>\n",
       "      <td>281.27237</td>\n",
       "      <td>...</td>\n",
       "      <td>3.414</td>\n",
       "      <td>6426.674</td>\n",
       "      <td>21.2</td>\n",
       "      <td>282.28</td>\n",
       "      <td>10.39</td>\n",
       "      <td>1.9</td>\n",
       "      <td>20.6</td>\n",
       "      <td>59.55</td>\n",
       "      <td>0.53</td>\n",
       "      <td>69.66</td>\n",
       "    </tr>\n",
       "    <tr>\n",
       "      <th>17721</th>\n",
       "      <td>IND</td>\n",
       "      <td>Asia</td>\n",
       "      <td>India</td>\n",
       "      <td>737426</td>\n",
       "      <td>0.0</td>\n",
       "      <td>0.0</td>\n",
       "      <td>16321.259033</td>\n",
       "      <td>0.0</td>\n",
       "      <td>0.0</td>\n",
       "      <td>281.27237</td>\n",
       "      <td>...</td>\n",
       "      <td>3.414</td>\n",
       "      <td>6426.674</td>\n",
       "      <td>21.2</td>\n",
       "      <td>282.28</td>\n",
       "      <td>10.39</td>\n",
       "      <td>1.9</td>\n",
       "      <td>20.6</td>\n",
       "      <td>59.55</td>\n",
       "      <td>0.53</td>\n",
       "      <td>69.66</td>\n",
       "    </tr>\n",
       "    <tr>\n",
       "      <th>17722</th>\n",
       "      <td>IND</td>\n",
       "      <td>Asia</td>\n",
       "      <td>India</td>\n",
       "      <td>737427</td>\n",
       "      <td>0.0</td>\n",
       "      <td>0.0</td>\n",
       "      <td>16321.259033</td>\n",
       "      <td>0.0</td>\n",
       "      <td>0.0</td>\n",
       "      <td>281.27237</td>\n",
       "      <td>...</td>\n",
       "      <td>3.414</td>\n",
       "      <td>6426.674</td>\n",
       "      <td>21.2</td>\n",
       "      <td>282.28</td>\n",
       "      <td>10.39</td>\n",
       "      <td>1.9</td>\n",
       "      <td>20.6</td>\n",
       "      <td>59.55</td>\n",
       "      <td>0.53</td>\n",
       "      <td>69.66</td>\n",
       "    </tr>\n",
       "    <tr>\n",
       "      <th>17723</th>\n",
       "      <td>IND</td>\n",
       "      <td>Asia</td>\n",
       "      <td>India</td>\n",
       "      <td>737428</td>\n",
       "      <td>0.0</td>\n",
       "      <td>0.0</td>\n",
       "      <td>16321.259033</td>\n",
       "      <td>0.0</td>\n",
       "      <td>0.0</td>\n",
       "      <td>281.27237</td>\n",
       "      <td>...</td>\n",
       "      <td>3.414</td>\n",
       "      <td>6426.674</td>\n",
       "      <td>21.2</td>\n",
       "      <td>282.28</td>\n",
       "      <td>10.39</td>\n",
       "      <td>1.9</td>\n",
       "      <td>20.6</td>\n",
       "      <td>59.55</td>\n",
       "      <td>0.53</td>\n",
       "      <td>69.66</td>\n",
       "    </tr>\n",
       "  </tbody>\n",
       "</table>\n",
       "<p>5 rows × 40 columns</p>\n",
       "</div>"
      ],
      "text/plain": [
       "      iso_code continent location    date  total_cases  new_cases  \\\n",
       "17719      IND      Asia    India  737424          0.0        0.0   \n",
       "17720      IND      Asia    India  737425          0.0        0.0   \n",
       "17721      IND      Asia    India  737426          0.0        0.0   \n",
       "17722      IND      Asia    India  737427          0.0        0.0   \n",
       "17723      IND      Asia    India  737428          0.0        0.0   \n",
       "\n",
       "       new_cases_smoothed  total_deaths  new_deaths  new_deaths_smoothed  ...  \\\n",
       "17719        16321.259033           0.0         0.0            281.27237  ...   \n",
       "17720        16321.259033           0.0         0.0            281.27237  ...   \n",
       "17721        16321.259033           0.0         0.0            281.27237  ...   \n",
       "17722        16321.259033           0.0         0.0            281.27237  ...   \n",
       "17723        16321.259033           0.0         0.0            281.27237  ...   \n",
       "\n",
       "       aged_70_older  gdp_per_capita  extreme_poverty  cardiovasc_death_rate  \\\n",
       "17719          3.414        6426.674             21.2                 282.28   \n",
       "17720          3.414        6426.674             21.2                 282.28   \n",
       "17721          3.414        6426.674             21.2                 282.28   \n",
       "17722          3.414        6426.674             21.2                 282.28   \n",
       "17723          3.414        6426.674             21.2                 282.28   \n",
       "\n",
       "       diabetes_prevalence  female_smokers  male_smokers  \\\n",
       "17719                10.39             1.9          20.6   \n",
       "17720                10.39             1.9          20.6   \n",
       "17721                10.39             1.9          20.6   \n",
       "17722                10.39             1.9          20.6   \n",
       "17723                10.39             1.9          20.6   \n",
       "\n",
       "       handwashing_facilities  hospital_beds_per_thousand  life_expectancy  \n",
       "17719                   59.55                        0.53            69.66  \n",
       "17720                   59.55                        0.53            69.66  \n",
       "17721                   59.55                        0.53            69.66  \n",
       "17722                   59.55                        0.53            69.66  \n",
       "17723                   59.55                        0.53            69.66  \n",
       "\n",
       "[5 rows x 40 columns]"
      ]
     },
     "execution_count": 44,
     "metadata": {},
     "output_type": "execute_result"
    }
   ],
   "source": [
    "# Date column was changed to ordinal\n",
    "df.head()"
   ]
  },
  {
   "cell_type": "markdown",
   "metadata": {},
   "source": [
    "Now we have to drop the categorical columns 'iso_code', 'continent' , 'location' , 'tests_units' ."
   ]
  },
  {
   "cell_type": "code",
   "execution_count": 45,
   "metadata": {
    "executionInfo": {
     "elapsed": 19070,
     "status": "ok",
     "timestamp": 1595428902802,
     "user": {
      "displayName": "SOUMYAJIT ROY",
      "photoUrl": "",
      "userId": "04273593953313780787"
     },
     "user_tz": -330
    },
    "id": "HCF07F0na7nA",
    "outputId": "f6b4a05e-b389-47bc-a8fd-fe40923dff5b"
   },
   "outputs": [
    {
     "data": {
      "text/html": [
       "<div>\n",
       "<style scoped>\n",
       "    .dataframe tbody tr th:only-of-type {\n",
       "        vertical-align: middle;\n",
       "    }\n",
       "\n",
       "    .dataframe tbody tr th {\n",
       "        vertical-align: top;\n",
       "    }\n",
       "\n",
       "    .dataframe thead th {\n",
       "        text-align: right;\n",
       "    }\n",
       "</style>\n",
       "<table border=\"1\" class=\"dataframe\">\n",
       "  <thead>\n",
       "    <tr style=\"text-align: right;\">\n",
       "      <th></th>\n",
       "      <th>date</th>\n",
       "      <th>total_cases</th>\n",
       "      <th>new_cases</th>\n",
       "      <th>new_cases_smoothed</th>\n",
       "      <th>total_deaths</th>\n",
       "      <th>new_deaths</th>\n",
       "      <th>new_deaths_smoothed</th>\n",
       "      <th>total_cases_per_million</th>\n",
       "      <th>new_cases_per_million</th>\n",
       "      <th>new_cases_smoothed_per_million</th>\n",
       "      <th>...</th>\n",
       "      <th>aged_70_older</th>\n",
       "      <th>gdp_per_capita</th>\n",
       "      <th>extreme_poverty</th>\n",
       "      <th>cardiovasc_death_rate</th>\n",
       "      <th>diabetes_prevalence</th>\n",
       "      <th>female_smokers</th>\n",
       "      <th>male_smokers</th>\n",
       "      <th>handwashing_facilities</th>\n",
       "      <th>hospital_beds_per_thousand</th>\n",
       "      <th>life_expectancy</th>\n",
       "    </tr>\n",
       "  </thead>\n",
       "  <tbody>\n",
       "    <tr>\n",
       "      <th>17719</th>\n",
       "      <td>737424</td>\n",
       "      <td>0.0</td>\n",
       "      <td>0.0</td>\n",
       "      <td>16321.259033</td>\n",
       "      <td>0.0</td>\n",
       "      <td>0.0</td>\n",
       "      <td>281.27237</td>\n",
       "      <td>0.0</td>\n",
       "      <td>0.0</td>\n",
       "      <td>11.826947</td>\n",
       "      <td>...</td>\n",
       "      <td>3.414</td>\n",
       "      <td>6426.674</td>\n",
       "      <td>21.2</td>\n",
       "      <td>282.28</td>\n",
       "      <td>10.39</td>\n",
       "      <td>1.9</td>\n",
       "      <td>20.6</td>\n",
       "      <td>59.55</td>\n",
       "      <td>0.53</td>\n",
       "      <td>69.66</td>\n",
       "    </tr>\n",
       "    <tr>\n",
       "      <th>17720</th>\n",
       "      <td>737425</td>\n",
       "      <td>0.0</td>\n",
       "      <td>0.0</td>\n",
       "      <td>16321.259033</td>\n",
       "      <td>0.0</td>\n",
       "      <td>0.0</td>\n",
       "      <td>281.27237</td>\n",
       "      <td>0.0</td>\n",
       "      <td>0.0</td>\n",
       "      <td>11.826947</td>\n",
       "      <td>...</td>\n",
       "      <td>3.414</td>\n",
       "      <td>6426.674</td>\n",
       "      <td>21.2</td>\n",
       "      <td>282.28</td>\n",
       "      <td>10.39</td>\n",
       "      <td>1.9</td>\n",
       "      <td>20.6</td>\n",
       "      <td>59.55</td>\n",
       "      <td>0.53</td>\n",
       "      <td>69.66</td>\n",
       "    </tr>\n",
       "    <tr>\n",
       "      <th>17721</th>\n",
       "      <td>737426</td>\n",
       "      <td>0.0</td>\n",
       "      <td>0.0</td>\n",
       "      <td>16321.259033</td>\n",
       "      <td>0.0</td>\n",
       "      <td>0.0</td>\n",
       "      <td>281.27237</td>\n",
       "      <td>0.0</td>\n",
       "      <td>0.0</td>\n",
       "      <td>11.826947</td>\n",
       "      <td>...</td>\n",
       "      <td>3.414</td>\n",
       "      <td>6426.674</td>\n",
       "      <td>21.2</td>\n",
       "      <td>282.28</td>\n",
       "      <td>10.39</td>\n",
       "      <td>1.9</td>\n",
       "      <td>20.6</td>\n",
       "      <td>59.55</td>\n",
       "      <td>0.53</td>\n",
       "      <td>69.66</td>\n",
       "    </tr>\n",
       "    <tr>\n",
       "      <th>17722</th>\n",
       "      <td>737427</td>\n",
       "      <td>0.0</td>\n",
       "      <td>0.0</td>\n",
       "      <td>16321.259033</td>\n",
       "      <td>0.0</td>\n",
       "      <td>0.0</td>\n",
       "      <td>281.27237</td>\n",
       "      <td>0.0</td>\n",
       "      <td>0.0</td>\n",
       "      <td>11.826947</td>\n",
       "      <td>...</td>\n",
       "      <td>3.414</td>\n",
       "      <td>6426.674</td>\n",
       "      <td>21.2</td>\n",
       "      <td>282.28</td>\n",
       "      <td>10.39</td>\n",
       "      <td>1.9</td>\n",
       "      <td>20.6</td>\n",
       "      <td>59.55</td>\n",
       "      <td>0.53</td>\n",
       "      <td>69.66</td>\n",
       "    </tr>\n",
       "    <tr>\n",
       "      <th>17723</th>\n",
       "      <td>737428</td>\n",
       "      <td>0.0</td>\n",
       "      <td>0.0</td>\n",
       "      <td>16321.259033</td>\n",
       "      <td>0.0</td>\n",
       "      <td>0.0</td>\n",
       "      <td>281.27237</td>\n",
       "      <td>0.0</td>\n",
       "      <td>0.0</td>\n",
       "      <td>11.826947</td>\n",
       "      <td>...</td>\n",
       "      <td>3.414</td>\n",
       "      <td>6426.674</td>\n",
       "      <td>21.2</td>\n",
       "      <td>282.28</td>\n",
       "      <td>10.39</td>\n",
       "      <td>1.9</td>\n",
       "      <td>20.6</td>\n",
       "      <td>59.55</td>\n",
       "      <td>0.53</td>\n",
       "      <td>69.66</td>\n",
       "    </tr>\n",
       "  </tbody>\n",
       "</table>\n",
       "<p>5 rows × 36 columns</p>\n",
       "</div>"
      ],
      "text/plain": [
       "         date  total_cases  new_cases  new_cases_smoothed  total_deaths  \\\n",
       "17719  737424          0.0        0.0        16321.259033           0.0   \n",
       "17720  737425          0.0        0.0        16321.259033           0.0   \n",
       "17721  737426          0.0        0.0        16321.259033           0.0   \n",
       "17722  737427          0.0        0.0        16321.259033           0.0   \n",
       "17723  737428          0.0        0.0        16321.259033           0.0   \n",
       "\n",
       "       new_deaths  new_deaths_smoothed  total_cases_per_million  \\\n",
       "17719         0.0            281.27237                      0.0   \n",
       "17720         0.0            281.27237                      0.0   \n",
       "17721         0.0            281.27237                      0.0   \n",
       "17722         0.0            281.27237                      0.0   \n",
       "17723         0.0            281.27237                      0.0   \n",
       "\n",
       "       new_cases_per_million  new_cases_smoothed_per_million  ...  \\\n",
       "17719                    0.0                       11.826947  ...   \n",
       "17720                    0.0                       11.826947  ...   \n",
       "17721                    0.0                       11.826947  ...   \n",
       "17722                    0.0                       11.826947  ...   \n",
       "17723                    0.0                       11.826947  ...   \n",
       "\n",
       "       aged_70_older  gdp_per_capita  extreme_poverty  cardiovasc_death_rate  \\\n",
       "17719          3.414        6426.674             21.2                 282.28   \n",
       "17720          3.414        6426.674             21.2                 282.28   \n",
       "17721          3.414        6426.674             21.2                 282.28   \n",
       "17722          3.414        6426.674             21.2                 282.28   \n",
       "17723          3.414        6426.674             21.2                 282.28   \n",
       "\n",
       "       diabetes_prevalence  female_smokers  male_smokers  \\\n",
       "17719                10.39             1.9          20.6   \n",
       "17720                10.39             1.9          20.6   \n",
       "17721                10.39             1.9          20.6   \n",
       "17722                10.39             1.9          20.6   \n",
       "17723                10.39             1.9          20.6   \n",
       "\n",
       "       handwashing_facilities  hospital_beds_per_thousand  life_expectancy  \n",
       "17719                   59.55                        0.53            69.66  \n",
       "17720                   59.55                        0.53            69.66  \n",
       "17721                   59.55                        0.53            69.66  \n",
       "17722                   59.55                        0.53            69.66  \n",
       "17723                   59.55                        0.53            69.66  \n",
       "\n",
       "[5 rows x 36 columns]"
      ]
     },
     "execution_count": 45,
     "metadata": {},
     "output_type": "execute_result"
    }
   ],
   "source": [
    "# Droping the categorical columns to prepare the dataset for training\n",
    "df.drop(['iso_code', 'continent','location','tests_units'], axis=1, inplace=True)\n",
    "df.head()"
   ]
  },
  {
   "cell_type": "markdown",
   "metadata": {},
   "source": [
    "Now we are prepairing the model for training . For that we are creating the feature and the response variable. Next we will train the model using LinearRegression and RandomForestRegressor as mentioned in the project."
   ]
  },
  {
   "cell_type": "code",
   "execution_count": 46,
   "metadata": {
    "executionInfo": {
     "elapsed": 19061,
     "status": "ok",
     "timestamp": 1595428902804,
     "user": {
      "displayName": "SOUMYAJIT ROY",
      "photoUrl": "",
      "userId": "04273593953313780787"
     },
     "user_tz": -330
    },
    "id": "cscDGDfcbuni"
   },
   "outputs": [],
   "source": [
    "# Create arrays for the features and the response variable\n",
    "y = df[\"total_cases\"].values\n",
    "X = df.drop([\"total_cases\"],axis=1).values"
   ]
  },
  {
   "cell_type": "code",
   "execution_count": 47,
   "metadata": {
    "executionInfo": {
     "elapsed": 19506,
     "status": "ok",
     "timestamp": 1595428903256,
     "user": {
      "displayName": "SOUMYAJIT ROY",
      "photoUrl": "",
      "userId": "04273593953313780787"
     },
     "user_tz": -330
    },
    "id": "BXgXe-Mad6bt"
   },
   "outputs": [],
   "source": [
    "# Train and Test splitting of data \n",
    "from sklearn.model_selection import train_test_split\n",
    "X_train,X_test,y_train,y_test=train_test_split(X,y,test_size=0.3,random_state=4)"
   ]
  },
  {
   "cell_type": "code",
   "execution_count": 48,
   "metadata": {
    "executionInfo": {
     "elapsed": 19498,
     "status": "ok",
     "timestamp": 1595428903258,
     "user": {
      "displayName": "SOUMYAJIT ROY",
      "photoUrl": "",
      "userId": "04273593953313780787"
     },
     "user_tz": -330
    },
    "id": "41jm7wt9d6b1",
    "outputId": "25787a4c-27f3-48a5-ef3e-65bd84930c83"
   },
   "outputs": [
    {
     "data": {
      "text/plain": [
       "0.9999999999998709"
      ]
     },
     "execution_count": 48,
     "metadata": {},
     "output_type": "execute_result"
    }
   ],
   "source": [
    "# Import necessary modules\n",
    "from sklearn.linear_model import LinearRegression\n",
    "from sklearn.metrics import mean_squared_error\n",
    "\n",
    "# Create the regressor: reg\n",
    "reg= LinearRegression()\n",
    "\n",
    "# Fit the regressor to the training data\n",
    "reg.fit(X_train,y_train)\n",
    "\n",
    "# Predict on the test data: y_pred\n",
    "y_pred=reg.predict(X_test)\n",
    "\n",
    "#Score the model\n",
    "reg.score(X_test,y_test)"
   ]
  },
  {
   "cell_type": "markdown",
   "metadata": {},
   "source": [
    "From the LinearRegression classifier we get a accuracy score of 99.99% and that was quiet good for a model .For a buisness model a accuracy percentage of more than 80% is good . So the accuracy score is quiet good for these model."
   ]
  },
  {
   "cell_type": "code",
   "execution_count": 49,
   "metadata": {
    "executionInfo": {
     "elapsed": 19485,
     "status": "ok",
     "timestamp": 1595428903261,
     "user": {
      "displayName": "SOUMYAJIT ROY",
      "photoUrl": "",
      "userId": "04273593953313780787"
     },
     "user_tz": -330
    },
    "id": "E9oWkW5ld6b5",
    "outputId": "e407af6d-a441-4703-800f-f58a9101ede9"
   },
   "outputs": [
    {
     "name": "stdout",
     "output_type": "stream",
     "text": [
      "R^2: 0.9999999999998709\n",
      "Root Mean Squared Error: 0.3967558873716214\n"
     ]
    }
   ],
   "source": [
    "# Compute and print R^2 and RMSE\n",
    "print(\"R^2: {}\".format(reg.score(X_test, y_test)))\n",
    "rmse = np.sqrt(mean_squared_error(y_test,y_pred))\n",
    "print(\"Root Mean Squared Error: {}\".format(rmse))\n"
   ]
  },
  {
   "cell_type": "markdown",
   "metadata": {},
   "source": [
    "The Root Mean Squared Error for these model is also very less which is  0.35 ."
   ]
  },
  {
   "cell_type": "code",
   "execution_count": 50,
   "metadata": {
    "executionInfo": {
     "elapsed": 19474,
     "status": "ok",
     "timestamp": 1595428903264,
     "user": {
      "displayName": "SOUMYAJIT ROY",
      "photoUrl": "",
      "userId": "04273593953313780787"
     },
     "user_tz": -330
    },
    "id": "F1zEvw9ed0ql",
    "outputId": "091a206a-0984-4b57-90e2-7ecacce5eb4b"
   },
   "outputs": [
    {
     "data": {
      "text/plain": [
       "0.9981038988222691"
      ]
     },
     "execution_count": 50,
     "metadata": {},
     "output_type": "execute_result"
    }
   ],
   "source": [
    "# Import RandomForestRegressor\n",
    "from sklearn.ensemble import RandomForestRegressor\n",
    "\n",
    "# Instantiate rf\n",
    "rf = RandomForestRegressor()\n",
    "            \n",
    "# Fit rf to the training set    \n",
    "rf.fit(X_train, y_train) \n",
    "\n",
    "# Predict on the test data: y_pred\n",
    "y_pred=rf.predict(X_test)\n",
    "\n",
    "#Score the model\n",
    "rf.score(X_test,y_test)"
   ]
  },
  {
   "cell_type": "markdown",
   "metadata": {},
   "source": [
    "The accuracy score for these model is 98.1% which is also a very good . Although the accuracy score is less than the LinearRegression model."
   ]
  },
  {
   "cell_type": "markdown",
   "metadata": {},
   "source": [
    "Now we are going to predict the model for a new data provided by us as instructed in the project. We will predict the new data on both the model Linear regression and RandomForestRegressor."
   ]
  },
  {
   "cell_type": "code",
   "execution_count": 51,
   "metadata": {
    "executionInfo": {
     "elapsed": 19463,
     "status": "ok",
     "timestamp": 1595428903267,
     "user": {
      "displayName": "SOUMYAJIT ROY",
      "photoUrl": "",
      "userId": "04273593953313780787"
     },
     "user_tz": -330
    },
    "id": "sP_wyTHlocoR",
    "outputId": "028e8e0d-1cff-496c-c79f-9268a5dc08a6"
   },
   "outputs": [
    {
     "ename": "ValueError",
     "evalue": "matmul: Input operand 1 has a mismatch in its core dimension 0, with gufunc signature (n?,k),(k,m?)->(n?,m?) (size 35 is different from 29)",
     "output_type": "error",
     "traceback": [
      "\u001b[1;31m---------------------------------------------------------------------------\u001b[0m",
      "\u001b[1;31mValueError\u001b[0m                                Traceback (most recent call last)",
      "\u001b[1;32m<ipython-input-51-2f00e69c4f19>\u001b[0m in \u001b[0;36m<module>\u001b[1;34m\u001b[0m\n\u001b[0;32m      1\u001b[0m \u001b[1;31m#Predict total cases for a new data through Linear regression\u001b[0m\u001b[1;33m\u001b[0m\u001b[1;33m\u001b[0m\u001b[1;33m\u001b[0m\u001b[0m\n\u001b[1;32m----> 2\u001b[1;33m \u001b[0mreg\u001b[0m\u001b[1;33m.\u001b[0m\u001b[0mpredict\u001b[0m\u001b[1;33m(\u001b[0m\u001b[1;33m[\u001b[0m\u001b[1;33m[\u001b[0m\u001b[1;36m733828\u001b[0m\u001b[1;33m,\u001b[0m\u001b[1;36m10974\u001b[0m\u001b[1;33m,\u001b[0m\u001b[1;36m11903\u001b[0m\u001b[1;33m,\u001b[0m\u001b[1;36m2003\u001b[0m\u001b[1;33m,\u001b[0m\u001b[1;36m256.568\u001b[0m\u001b[1;33m,\u001b[0m\u001b[1;36m7.952\u001b[0m\u001b[1;33m,\u001b[0m\u001b[1;36m8.625\u001b[0m\u001b[1;33m,\u001b[0m\u001b[1;36m1.451\u001b[0m\u001b[1;33m,\u001b[0m\u001b[1;36m6084256\u001b[0m\u001b[1;33m,\u001b[0m\u001b[1;36m163187\u001b[0m\u001b[1;33m,\u001b[0m\u001b[1;36m4.409\u001b[0m\u001b[1;33m,\u001b[0m\u001b[1;36m0.118\u001b[0m\u001b[1;33m,\u001b[0m\u001b[1;36m146132\u001b[0m\u001b[1;33m,\u001b[0m\u001b[1;36m0.106\u001b[0m\u001b[1;33m,\u001b[0m\u001b[1;36m76.85\u001b[0m\u001b[1;33m,\u001b[0m\u001b[1;36m1.38e+09\u001b[0m\u001b[1;33m,\u001b[0m\u001b[1;36m450.419\u001b[0m\u001b[1;33m,\u001b[0m\u001b[1;36m28.2\u001b[0m\u001b[1;33m,\u001b[0m\u001b[1;36m5.989\u001b[0m\u001b[1;33m,\u001b[0m\u001b[1;36m3.414\u001b[0m\u001b[1;33m,\u001b[0m\u001b[1;36m6426.674\u001b[0m\u001b[1;33m,\u001b[0m\u001b[1;36m21.2\u001b[0m\u001b[1;33m,\u001b[0m\u001b[1;36m282.28\u001b[0m\u001b[1;33m,\u001b[0m\u001b[1;36m10.39\u001b[0m\u001b[1;33m,\u001b[0m\u001b[1;36m1.9\u001b[0m\u001b[1;33m,\u001b[0m\u001b[1;36m20.6\u001b[0m\u001b[1;33m,\u001b[0m\u001b[1;36m59.55\u001b[0m\u001b[1;33m,\u001b[0m\u001b[1;36m0.53\u001b[0m\u001b[1;33m,\u001b[0m\u001b[1;36m69.66\u001b[0m\u001b[1;33m]\u001b[0m\u001b[1;33m]\u001b[0m\u001b[1;33m)\u001b[0m\u001b[1;33m\u001b[0m\u001b[1;33m\u001b[0m\u001b[0m\n\u001b[0m",
      "\u001b[1;32m~\\anaconda3\\lib\\site-packages\\sklearn\\linear_model\\_base.py\u001b[0m in \u001b[0;36mpredict\u001b[1;34m(self, X)\u001b[0m\n\u001b[0;32m    223\u001b[0m             \u001b[0mReturns\u001b[0m \u001b[0mpredicted\u001b[0m \u001b[0mvalues\u001b[0m\u001b[1;33m.\u001b[0m\u001b[1;33m\u001b[0m\u001b[1;33m\u001b[0m\u001b[0m\n\u001b[0;32m    224\u001b[0m         \"\"\"\n\u001b[1;32m--> 225\u001b[1;33m         \u001b[1;32mreturn\u001b[0m \u001b[0mself\u001b[0m\u001b[1;33m.\u001b[0m\u001b[0m_decision_function\u001b[0m\u001b[1;33m(\u001b[0m\u001b[0mX\u001b[0m\u001b[1;33m)\u001b[0m\u001b[1;33m\u001b[0m\u001b[1;33m\u001b[0m\u001b[0m\n\u001b[0m\u001b[0;32m    226\u001b[0m \u001b[1;33m\u001b[0m\u001b[0m\n\u001b[0;32m    227\u001b[0m     \u001b[0m_preprocess_data\u001b[0m \u001b[1;33m=\u001b[0m \u001b[0mstaticmethod\u001b[0m\u001b[1;33m(\u001b[0m\u001b[0m_preprocess_data\u001b[0m\u001b[1;33m)\u001b[0m\u001b[1;33m\u001b[0m\u001b[1;33m\u001b[0m\u001b[0m\n",
      "\u001b[1;32m~\\anaconda3\\lib\\site-packages\\sklearn\\linear_model\\_base.py\u001b[0m in \u001b[0;36m_decision_function\u001b[1;34m(self, X)\u001b[0m\n\u001b[0;32m    207\u001b[0m         \u001b[0mX\u001b[0m \u001b[1;33m=\u001b[0m \u001b[0mcheck_array\u001b[0m\u001b[1;33m(\u001b[0m\u001b[0mX\u001b[0m\u001b[1;33m,\u001b[0m \u001b[0maccept_sparse\u001b[0m\u001b[1;33m=\u001b[0m\u001b[1;33m[\u001b[0m\u001b[1;34m'csr'\u001b[0m\u001b[1;33m,\u001b[0m \u001b[1;34m'csc'\u001b[0m\u001b[1;33m,\u001b[0m \u001b[1;34m'coo'\u001b[0m\u001b[1;33m]\u001b[0m\u001b[1;33m)\u001b[0m\u001b[1;33m\u001b[0m\u001b[1;33m\u001b[0m\u001b[0m\n\u001b[0;32m    208\u001b[0m         return safe_sparse_dot(X, self.coef_.T,\n\u001b[1;32m--> 209\u001b[1;33m                                dense_output=True) + self.intercept_\n\u001b[0m\u001b[0;32m    210\u001b[0m \u001b[1;33m\u001b[0m\u001b[0m\n\u001b[0;32m    211\u001b[0m     \u001b[1;32mdef\u001b[0m \u001b[0mpredict\u001b[0m\u001b[1;33m(\u001b[0m\u001b[0mself\u001b[0m\u001b[1;33m,\u001b[0m \u001b[0mX\u001b[0m\u001b[1;33m)\u001b[0m\u001b[1;33m:\u001b[0m\u001b[1;33m\u001b[0m\u001b[1;33m\u001b[0m\u001b[0m\n",
      "\u001b[1;32m~\\anaconda3\\lib\\site-packages\\sklearn\\utils\\extmath.py\u001b[0m in \u001b[0;36msafe_sparse_dot\u001b[1;34m(a, b, dense_output)\u001b[0m\n\u001b[0;32m    149\u001b[0m             \u001b[0mret\u001b[0m \u001b[1;33m=\u001b[0m \u001b[0mnp\u001b[0m\u001b[1;33m.\u001b[0m\u001b[0mdot\u001b[0m\u001b[1;33m(\u001b[0m\u001b[0ma\u001b[0m\u001b[1;33m,\u001b[0m \u001b[0mb\u001b[0m\u001b[1;33m)\u001b[0m\u001b[1;33m\u001b[0m\u001b[1;33m\u001b[0m\u001b[0m\n\u001b[0;32m    150\u001b[0m     \u001b[1;32melse\u001b[0m\u001b[1;33m:\u001b[0m\u001b[1;33m\u001b[0m\u001b[1;33m\u001b[0m\u001b[0m\n\u001b[1;32m--> 151\u001b[1;33m         \u001b[0mret\u001b[0m \u001b[1;33m=\u001b[0m \u001b[0ma\u001b[0m \u001b[1;33m@\u001b[0m \u001b[0mb\u001b[0m\u001b[1;33m\u001b[0m\u001b[1;33m\u001b[0m\u001b[0m\n\u001b[0m\u001b[0;32m    152\u001b[0m \u001b[1;33m\u001b[0m\u001b[0m\n\u001b[0;32m    153\u001b[0m     if (sparse.issparse(a) and sparse.issparse(b)\n",
      "\u001b[1;31mValueError\u001b[0m: matmul: Input operand 1 has a mismatch in its core dimension 0, with gufunc signature (n?,k),(k,m?)->(n?,m?) (size 35 is different from 29)"
     ]
    }
   ],
   "source": [
    "#Predict total cases for a new data through Linear regression\n",
    "reg.predict([[733828,10974,11903,2003,256.568,7.952,8.625,1.451,6084256,163187,4.409,0.118,146132,0.106,76.85,1.38e+09,450.419,28.2,5.989,3.414,6426.674,21.2,282.28,10.39,1.9,20.6,59.55,0.53,69.66]])"
   ]
  },
  {
   "cell_type": "code",
   "execution_count": null,
   "metadata": {
    "executionInfo": {
     "elapsed": 19444,
     "status": "ok",
     "timestamp": 1595428903269,
     "user": {
      "displayName": "SOUMYAJIT ROY",
      "photoUrl": "",
      "userId": "04273593953313780787"
     },
     "user_tz": -330
    },
    "id": "R0sp6o0U8e4y",
    "outputId": "78d5cc67-7eae-487e-cd62-45630cba13df"
   },
   "outputs": [],
   "source": [
    "#Predict total cases for a new data through RandomForestRegressor\n",
    "rf.predict([[733828,10974,11903,2003,256.568,7.952,8.625,1.451,6084256,163187,4.409,0.118,146132,0.106,76.85,1.38e+09,450.419,28.2,5.989,3.414,6426.674,21.2,282.28,10.39,1.9,20.6,59.55,0.53,69.66]])"
   ]
  },
  {
   "cell_type": "markdown",
   "metadata": {
    "executionInfo": {
     "elapsed": 19418,
     "status": "ok",
     "timestamp": 1595428903271,
     "user": {
      "displayName": "SOUMYAJIT ROY",
      "photoUrl": "",
      "userId": "04273593953313780787"
     },
     "user_tz": -330
    },
    "id": "dBS6vuGQ8vTF"
   },
   "source": [
    "In these model we observed that the accuracy for the Linear regression is 99.99%  and for the RandomForestRegressor accuracy is 98.1% which is also very much . So both the Linear regression and RandomForestRegressor shows better performance. So the Linear regression is much better than the RandomForestRegressor in these dataset."
   ]
  }
 ],
 "metadata": {
  "kernelspec": {
   "display_name": "Python 3",
   "language": "python",
   "name": "python3"
  },
  "language_info": {
   "codemirror_mode": {
    "name": "ipython",
    "version": 3
   },
   "file_extension": ".py",
   "mimetype": "text/x-python",
   "name": "python",
   "nbconvert_exporter": "python",
   "pygments_lexer": "ipython3",
   "version": "3.7.6"
  }
 },
 "nbformat": 4,
 "nbformat_minor": 4
}
